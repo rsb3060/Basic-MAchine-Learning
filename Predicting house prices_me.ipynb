{
 "cells": [
  {
   "cell_type": "markdown",
   "metadata": {},
   "source": [
    "#Predicting house prices"
   ]
  },
  {
   "cell_type": "markdown",
   "metadata": {},
   "source": [
    "#Fire up graphlab create"
   ]
  },
  {
   "cell_type": "code",
   "execution_count": 2,
   "metadata": {
    "collapsed": false
   },
   "outputs": [
    {
     "name": "stderr",
     "output_type": "stream",
     "text": [
      "A newer version of GraphLab Create (v1.8.5) is available! Your current version is v1.8.4.\n",
      "\n",
      "You can use pip to upgrade the graphlab-create package. For more information see https://dato.com/products/create/upgrade.\n"
     ]
    }
   ],
   "source": [
    "import graphlab"
   ]
  },
  {
   "cell_type": "markdown",
   "metadata": {},
   "source": [
    "Load some house sales data"
   ]
  },
  {
   "cell_type": "code",
   "execution_count": 1,
   "metadata": {
    "collapsed": false
   },
   "outputs": [
    {
     "ename": "NameError",
     "evalue": "name 'graphlab' is not defined",
     "output_type": "error",
     "traceback": [
      "\u001b[1;31m---------------------------------------------------------------------------\u001b[0m",
      "\u001b[1;31mNameError\u001b[0m                                 Traceback (most recent call last)",
      "\u001b[1;32m<ipython-input-1-da2e0d7ba30c>\u001b[0m in \u001b[0;36m<module>\u001b[1;34m()\u001b[0m\n\u001b[1;32m----> 1\u001b[1;33m \u001b[0msales\u001b[0m \u001b[1;33m=\u001b[0m\u001b[0mgraphlab\u001b[0m\u001b[1;33m.\u001b[0m\u001b[0mSFrame\u001b[0m\u001b[1;33m(\u001b[0m\u001b[1;34m'home_data.gl/'\u001b[0m\u001b[1;33m)\u001b[0m\u001b[1;33m\u001b[0m\u001b[0m\n\u001b[0m",
      "\u001b[1;31mNameError\u001b[0m: name 'graphlab' is not defined"
     ]
    }
   ],
   "source": [
    "sales =graphlab.SFrame('home_data.gl/')"
   ]
  },
  {
   "cell_type": "code",
   "execution_count": 7,
   "metadata": {
    "collapsed": false
   },
   "outputs": [
    {
     "data": {
      "text/html": [
       "<div style=\"max-height:1000px;max-width:1500px;overflow:auto;\"><table frame=\"box\" rules=\"cols\">\n",
       "    <tr>\n",
       "        <th style=\"padding-left: 1em; padding-right: 1em; text-align: center\">id</th>\n",
       "        <th style=\"padding-left: 1em; padding-right: 1em; text-align: center\">date</th>\n",
       "        <th style=\"padding-left: 1em; padding-right: 1em; text-align: center\">price</th>\n",
       "        <th style=\"padding-left: 1em; padding-right: 1em; text-align: center\">bedrooms</th>\n",
       "        <th style=\"padding-left: 1em; padding-right: 1em; text-align: center\">bathrooms</th>\n",
       "        <th style=\"padding-left: 1em; padding-right: 1em; text-align: center\">sqft_living</th>\n",
       "        <th style=\"padding-left: 1em; padding-right: 1em; text-align: center\">sqft_lot</th>\n",
       "        <th style=\"padding-left: 1em; padding-right: 1em; text-align: center\">floors</th>\n",
       "        <th style=\"padding-left: 1em; padding-right: 1em; text-align: center\">waterfront</th>\n",
       "    </tr>\n",
       "    <tr>\n",
       "        <td style=\"padding-left: 1em; padding-right: 1em; text-align: center; vertical-align: top\">7129300520</td>\n",
       "        <td style=\"padding-left: 1em; padding-right: 1em; text-align: center; vertical-align: top\">2014-10-13 00:00:00+00:00</td>\n",
       "        <td style=\"padding-left: 1em; padding-right: 1em; text-align: center; vertical-align: top\">221900</td>\n",
       "        <td style=\"padding-left: 1em; padding-right: 1em; text-align: center; vertical-align: top\">3</td>\n",
       "        <td style=\"padding-left: 1em; padding-right: 1em; text-align: center; vertical-align: top\">1</td>\n",
       "        <td style=\"padding-left: 1em; padding-right: 1em; text-align: center; vertical-align: top\">1180</td>\n",
       "        <td style=\"padding-left: 1em; padding-right: 1em; text-align: center; vertical-align: top\">5650</td>\n",
       "        <td style=\"padding-left: 1em; padding-right: 1em; text-align: center; vertical-align: top\">1</td>\n",
       "        <td style=\"padding-left: 1em; padding-right: 1em; text-align: center; vertical-align: top\">0</td>\n",
       "    </tr>\n",
       "    <tr>\n",
       "        <td style=\"padding-left: 1em; padding-right: 1em; text-align: center; vertical-align: top\">6414100192</td>\n",
       "        <td style=\"padding-left: 1em; padding-right: 1em; text-align: center; vertical-align: top\">2014-12-09 00:00:00+00:00</td>\n",
       "        <td style=\"padding-left: 1em; padding-right: 1em; text-align: center; vertical-align: top\">538000</td>\n",
       "        <td style=\"padding-left: 1em; padding-right: 1em; text-align: center; vertical-align: top\">3</td>\n",
       "        <td style=\"padding-left: 1em; padding-right: 1em; text-align: center; vertical-align: top\">2.25</td>\n",
       "        <td style=\"padding-left: 1em; padding-right: 1em; text-align: center; vertical-align: top\">2570</td>\n",
       "        <td style=\"padding-left: 1em; padding-right: 1em; text-align: center; vertical-align: top\">7242</td>\n",
       "        <td style=\"padding-left: 1em; padding-right: 1em; text-align: center; vertical-align: top\">2</td>\n",
       "        <td style=\"padding-left: 1em; padding-right: 1em; text-align: center; vertical-align: top\">0</td>\n",
       "    </tr>\n",
       "    <tr>\n",
       "        <td style=\"padding-left: 1em; padding-right: 1em; text-align: center; vertical-align: top\">5631500400</td>\n",
       "        <td style=\"padding-left: 1em; padding-right: 1em; text-align: center; vertical-align: top\">2015-02-25 00:00:00+00:00</td>\n",
       "        <td style=\"padding-left: 1em; padding-right: 1em; text-align: center; vertical-align: top\">180000</td>\n",
       "        <td style=\"padding-left: 1em; padding-right: 1em; text-align: center; vertical-align: top\">2</td>\n",
       "        <td style=\"padding-left: 1em; padding-right: 1em; text-align: center; vertical-align: top\">1</td>\n",
       "        <td style=\"padding-left: 1em; padding-right: 1em; text-align: center; vertical-align: top\">770</td>\n",
       "        <td style=\"padding-left: 1em; padding-right: 1em; text-align: center; vertical-align: top\">10000</td>\n",
       "        <td style=\"padding-left: 1em; padding-right: 1em; text-align: center; vertical-align: top\">1</td>\n",
       "        <td style=\"padding-left: 1em; padding-right: 1em; text-align: center; vertical-align: top\">0</td>\n",
       "    </tr>\n",
       "    <tr>\n",
       "        <td style=\"padding-left: 1em; padding-right: 1em; text-align: center; vertical-align: top\">2487200875</td>\n",
       "        <td style=\"padding-left: 1em; padding-right: 1em; text-align: center; vertical-align: top\">2014-12-09 00:00:00+00:00</td>\n",
       "        <td style=\"padding-left: 1em; padding-right: 1em; text-align: center; vertical-align: top\">604000</td>\n",
       "        <td style=\"padding-left: 1em; padding-right: 1em; text-align: center; vertical-align: top\">4</td>\n",
       "        <td style=\"padding-left: 1em; padding-right: 1em; text-align: center; vertical-align: top\">3</td>\n",
       "        <td style=\"padding-left: 1em; padding-right: 1em; text-align: center; vertical-align: top\">1960</td>\n",
       "        <td style=\"padding-left: 1em; padding-right: 1em; text-align: center; vertical-align: top\">5000</td>\n",
       "        <td style=\"padding-left: 1em; padding-right: 1em; text-align: center; vertical-align: top\">1</td>\n",
       "        <td style=\"padding-left: 1em; padding-right: 1em; text-align: center; vertical-align: top\">0</td>\n",
       "    </tr>\n",
       "    <tr>\n",
       "        <td style=\"padding-left: 1em; padding-right: 1em; text-align: center; vertical-align: top\">1954400510</td>\n",
       "        <td style=\"padding-left: 1em; padding-right: 1em; text-align: center; vertical-align: top\">2015-02-18 00:00:00+00:00</td>\n",
       "        <td style=\"padding-left: 1em; padding-right: 1em; text-align: center; vertical-align: top\">510000</td>\n",
       "        <td style=\"padding-left: 1em; padding-right: 1em; text-align: center; vertical-align: top\">3</td>\n",
       "        <td style=\"padding-left: 1em; padding-right: 1em; text-align: center; vertical-align: top\">2</td>\n",
       "        <td style=\"padding-left: 1em; padding-right: 1em; text-align: center; vertical-align: top\">1680</td>\n",
       "        <td style=\"padding-left: 1em; padding-right: 1em; text-align: center; vertical-align: top\">8080</td>\n",
       "        <td style=\"padding-left: 1em; padding-right: 1em; text-align: center; vertical-align: top\">1</td>\n",
       "        <td style=\"padding-left: 1em; padding-right: 1em; text-align: center; vertical-align: top\">0</td>\n",
       "    </tr>\n",
       "    <tr>\n",
       "        <td style=\"padding-left: 1em; padding-right: 1em; text-align: center; vertical-align: top\">7237550310</td>\n",
       "        <td style=\"padding-left: 1em; padding-right: 1em; text-align: center; vertical-align: top\">2014-05-12 00:00:00+00:00</td>\n",
       "        <td style=\"padding-left: 1em; padding-right: 1em; text-align: center; vertical-align: top\">1225000</td>\n",
       "        <td style=\"padding-left: 1em; padding-right: 1em; text-align: center; vertical-align: top\">4</td>\n",
       "        <td style=\"padding-left: 1em; padding-right: 1em; text-align: center; vertical-align: top\">4.5</td>\n",
       "        <td style=\"padding-left: 1em; padding-right: 1em; text-align: center; vertical-align: top\">5420</td>\n",
       "        <td style=\"padding-left: 1em; padding-right: 1em; text-align: center; vertical-align: top\">101930</td>\n",
       "        <td style=\"padding-left: 1em; padding-right: 1em; text-align: center; vertical-align: top\">1</td>\n",
       "        <td style=\"padding-left: 1em; padding-right: 1em; text-align: center; vertical-align: top\">0</td>\n",
       "    </tr>\n",
       "    <tr>\n",
       "        <td style=\"padding-left: 1em; padding-right: 1em; text-align: center; vertical-align: top\">1321400060</td>\n",
       "        <td style=\"padding-left: 1em; padding-right: 1em; text-align: center; vertical-align: top\">2014-06-27 00:00:00+00:00</td>\n",
       "        <td style=\"padding-left: 1em; padding-right: 1em; text-align: center; vertical-align: top\">257500</td>\n",
       "        <td style=\"padding-left: 1em; padding-right: 1em; text-align: center; vertical-align: top\">3</td>\n",
       "        <td style=\"padding-left: 1em; padding-right: 1em; text-align: center; vertical-align: top\">2.25</td>\n",
       "        <td style=\"padding-left: 1em; padding-right: 1em; text-align: center; vertical-align: top\">1715</td>\n",
       "        <td style=\"padding-left: 1em; padding-right: 1em; text-align: center; vertical-align: top\">6819</td>\n",
       "        <td style=\"padding-left: 1em; padding-right: 1em; text-align: center; vertical-align: top\">2</td>\n",
       "        <td style=\"padding-left: 1em; padding-right: 1em; text-align: center; vertical-align: top\">0</td>\n",
       "    </tr>\n",
       "    <tr>\n",
       "        <td style=\"padding-left: 1em; padding-right: 1em; text-align: center; vertical-align: top\">2008000270</td>\n",
       "        <td style=\"padding-left: 1em; padding-right: 1em; text-align: center; vertical-align: top\">2015-01-15 00:00:00+00:00</td>\n",
       "        <td style=\"padding-left: 1em; padding-right: 1em; text-align: center; vertical-align: top\">291850</td>\n",
       "        <td style=\"padding-left: 1em; padding-right: 1em; text-align: center; vertical-align: top\">3</td>\n",
       "        <td style=\"padding-left: 1em; padding-right: 1em; text-align: center; vertical-align: top\">1.5</td>\n",
       "        <td style=\"padding-left: 1em; padding-right: 1em; text-align: center; vertical-align: top\">1060</td>\n",
       "        <td style=\"padding-left: 1em; padding-right: 1em; text-align: center; vertical-align: top\">9711</td>\n",
       "        <td style=\"padding-left: 1em; padding-right: 1em; text-align: center; vertical-align: top\">1</td>\n",
       "        <td style=\"padding-left: 1em; padding-right: 1em; text-align: center; vertical-align: top\">0</td>\n",
       "    </tr>\n",
       "    <tr>\n",
       "        <td style=\"padding-left: 1em; padding-right: 1em; text-align: center; vertical-align: top\">2414600126</td>\n",
       "        <td style=\"padding-left: 1em; padding-right: 1em; text-align: center; vertical-align: top\">2015-04-15 00:00:00+00:00</td>\n",
       "        <td style=\"padding-left: 1em; padding-right: 1em; text-align: center; vertical-align: top\">229500</td>\n",
       "        <td style=\"padding-left: 1em; padding-right: 1em; text-align: center; vertical-align: top\">3</td>\n",
       "        <td style=\"padding-left: 1em; padding-right: 1em; text-align: center; vertical-align: top\">1</td>\n",
       "        <td style=\"padding-left: 1em; padding-right: 1em; text-align: center; vertical-align: top\">1780</td>\n",
       "        <td style=\"padding-left: 1em; padding-right: 1em; text-align: center; vertical-align: top\">7470</td>\n",
       "        <td style=\"padding-left: 1em; padding-right: 1em; text-align: center; vertical-align: top\">1</td>\n",
       "        <td style=\"padding-left: 1em; padding-right: 1em; text-align: center; vertical-align: top\">0</td>\n",
       "    </tr>\n",
       "    <tr>\n",
       "        <td style=\"padding-left: 1em; padding-right: 1em; text-align: center; vertical-align: top\">3793500160</td>\n",
       "        <td style=\"padding-left: 1em; padding-right: 1em; text-align: center; vertical-align: top\">2015-03-12 00:00:00+00:00</td>\n",
       "        <td style=\"padding-left: 1em; padding-right: 1em; text-align: center; vertical-align: top\">323000</td>\n",
       "        <td style=\"padding-left: 1em; padding-right: 1em; text-align: center; vertical-align: top\">3</td>\n",
       "        <td style=\"padding-left: 1em; padding-right: 1em; text-align: center; vertical-align: top\">2.5</td>\n",
       "        <td style=\"padding-left: 1em; padding-right: 1em; text-align: center; vertical-align: top\">1890</td>\n",
       "        <td style=\"padding-left: 1em; padding-right: 1em; text-align: center; vertical-align: top\">6560</td>\n",
       "        <td style=\"padding-left: 1em; padding-right: 1em; text-align: center; vertical-align: top\">2</td>\n",
       "        <td style=\"padding-left: 1em; padding-right: 1em; text-align: center; vertical-align: top\">0</td>\n",
       "    </tr>\n",
       "</table>\n",
       "<table frame=\"box\" rules=\"cols\">\n",
       "    <tr>\n",
       "        <th style=\"padding-left: 1em; padding-right: 1em; text-align: center\">view</th>\n",
       "        <th style=\"padding-left: 1em; padding-right: 1em; text-align: center\">condition</th>\n",
       "        <th style=\"padding-left: 1em; padding-right: 1em; text-align: center\">grade</th>\n",
       "        <th style=\"padding-left: 1em; padding-right: 1em; text-align: center\">sqft_above</th>\n",
       "        <th style=\"padding-left: 1em; padding-right: 1em; text-align: center\">sqft_basement</th>\n",
       "        <th style=\"padding-left: 1em; padding-right: 1em; text-align: center\">yr_built</th>\n",
       "        <th style=\"padding-left: 1em; padding-right: 1em; text-align: center\">yr_renovated</th>\n",
       "        <th style=\"padding-left: 1em; padding-right: 1em; text-align: center\">zipcode</th>\n",
       "        <th style=\"padding-left: 1em; padding-right: 1em; text-align: center\">lat</th>\n",
       "    </tr>\n",
       "    <tr>\n",
       "        <td style=\"padding-left: 1em; padding-right: 1em; text-align: center; vertical-align: top\">0</td>\n",
       "        <td style=\"padding-left: 1em; padding-right: 1em; text-align: center; vertical-align: top\">3</td>\n",
       "        <td style=\"padding-left: 1em; padding-right: 1em; text-align: center; vertical-align: top\">7</td>\n",
       "        <td style=\"padding-left: 1em; padding-right: 1em; text-align: center; vertical-align: top\">1180</td>\n",
       "        <td style=\"padding-left: 1em; padding-right: 1em; text-align: center; vertical-align: top\">0</td>\n",
       "        <td style=\"padding-left: 1em; padding-right: 1em; text-align: center; vertical-align: top\">1955</td>\n",
       "        <td style=\"padding-left: 1em; padding-right: 1em; text-align: center; vertical-align: top\">0</td>\n",
       "        <td style=\"padding-left: 1em; padding-right: 1em; text-align: center; vertical-align: top\">98178</td>\n",
       "        <td style=\"padding-left: 1em; padding-right: 1em; text-align: center; vertical-align: top\">47.51123398</td>\n",
       "    </tr>\n",
       "    <tr>\n",
       "        <td style=\"padding-left: 1em; padding-right: 1em; text-align: center; vertical-align: top\">0</td>\n",
       "        <td style=\"padding-left: 1em; padding-right: 1em; text-align: center; vertical-align: top\">3</td>\n",
       "        <td style=\"padding-left: 1em; padding-right: 1em; text-align: center; vertical-align: top\">7</td>\n",
       "        <td style=\"padding-left: 1em; padding-right: 1em; text-align: center; vertical-align: top\">2170</td>\n",
       "        <td style=\"padding-left: 1em; padding-right: 1em; text-align: center; vertical-align: top\">400</td>\n",
       "        <td style=\"padding-left: 1em; padding-right: 1em; text-align: center; vertical-align: top\">1951</td>\n",
       "        <td style=\"padding-left: 1em; padding-right: 1em; text-align: center; vertical-align: top\">1991</td>\n",
       "        <td style=\"padding-left: 1em; padding-right: 1em; text-align: center; vertical-align: top\">98125</td>\n",
       "        <td style=\"padding-left: 1em; padding-right: 1em; text-align: center; vertical-align: top\">47.72102274</td>\n",
       "    </tr>\n",
       "    <tr>\n",
       "        <td style=\"padding-left: 1em; padding-right: 1em; text-align: center; vertical-align: top\">0</td>\n",
       "        <td style=\"padding-left: 1em; padding-right: 1em; text-align: center; vertical-align: top\">3</td>\n",
       "        <td style=\"padding-left: 1em; padding-right: 1em; text-align: center; vertical-align: top\">6</td>\n",
       "        <td style=\"padding-left: 1em; padding-right: 1em; text-align: center; vertical-align: top\">770</td>\n",
       "        <td style=\"padding-left: 1em; padding-right: 1em; text-align: center; vertical-align: top\">0</td>\n",
       "        <td style=\"padding-left: 1em; padding-right: 1em; text-align: center; vertical-align: top\">1933</td>\n",
       "        <td style=\"padding-left: 1em; padding-right: 1em; text-align: center; vertical-align: top\">0</td>\n",
       "        <td style=\"padding-left: 1em; padding-right: 1em; text-align: center; vertical-align: top\">98028</td>\n",
       "        <td style=\"padding-left: 1em; padding-right: 1em; text-align: center; vertical-align: top\">47.73792661</td>\n",
       "    </tr>\n",
       "    <tr>\n",
       "        <td style=\"padding-left: 1em; padding-right: 1em; text-align: center; vertical-align: top\">0</td>\n",
       "        <td style=\"padding-left: 1em; padding-right: 1em; text-align: center; vertical-align: top\">5</td>\n",
       "        <td style=\"padding-left: 1em; padding-right: 1em; text-align: center; vertical-align: top\">7</td>\n",
       "        <td style=\"padding-left: 1em; padding-right: 1em; text-align: center; vertical-align: top\">1050</td>\n",
       "        <td style=\"padding-left: 1em; padding-right: 1em; text-align: center; vertical-align: top\">910</td>\n",
       "        <td style=\"padding-left: 1em; padding-right: 1em; text-align: center; vertical-align: top\">1965</td>\n",
       "        <td style=\"padding-left: 1em; padding-right: 1em; text-align: center; vertical-align: top\">0</td>\n",
       "        <td style=\"padding-left: 1em; padding-right: 1em; text-align: center; vertical-align: top\">98136</td>\n",
       "        <td style=\"padding-left: 1em; padding-right: 1em; text-align: center; vertical-align: top\">47.52082</td>\n",
       "    </tr>\n",
       "    <tr>\n",
       "        <td style=\"padding-left: 1em; padding-right: 1em; text-align: center; vertical-align: top\">0</td>\n",
       "        <td style=\"padding-left: 1em; padding-right: 1em; text-align: center; vertical-align: top\">3</td>\n",
       "        <td style=\"padding-left: 1em; padding-right: 1em; text-align: center; vertical-align: top\">8</td>\n",
       "        <td style=\"padding-left: 1em; padding-right: 1em; text-align: center; vertical-align: top\">1680</td>\n",
       "        <td style=\"padding-left: 1em; padding-right: 1em; text-align: center; vertical-align: top\">0</td>\n",
       "        <td style=\"padding-left: 1em; padding-right: 1em; text-align: center; vertical-align: top\">1987</td>\n",
       "        <td style=\"padding-left: 1em; padding-right: 1em; text-align: center; vertical-align: top\">0</td>\n",
       "        <td style=\"padding-left: 1em; padding-right: 1em; text-align: center; vertical-align: top\">98074</td>\n",
       "        <td style=\"padding-left: 1em; padding-right: 1em; text-align: center; vertical-align: top\">47.61681228</td>\n",
       "    </tr>\n",
       "    <tr>\n",
       "        <td style=\"padding-left: 1em; padding-right: 1em; text-align: center; vertical-align: top\">0</td>\n",
       "        <td style=\"padding-left: 1em; padding-right: 1em; text-align: center; vertical-align: top\">3</td>\n",
       "        <td style=\"padding-left: 1em; padding-right: 1em; text-align: center; vertical-align: top\">11</td>\n",
       "        <td style=\"padding-left: 1em; padding-right: 1em; text-align: center; vertical-align: top\">3890</td>\n",
       "        <td style=\"padding-left: 1em; padding-right: 1em; text-align: center; vertical-align: top\">1530</td>\n",
       "        <td style=\"padding-left: 1em; padding-right: 1em; text-align: center; vertical-align: top\">2001</td>\n",
       "        <td style=\"padding-left: 1em; padding-right: 1em; text-align: center; vertical-align: top\">0</td>\n",
       "        <td style=\"padding-left: 1em; padding-right: 1em; text-align: center; vertical-align: top\">98053</td>\n",
       "        <td style=\"padding-left: 1em; padding-right: 1em; text-align: center; vertical-align: top\">47.65611835</td>\n",
       "    </tr>\n",
       "    <tr>\n",
       "        <td style=\"padding-left: 1em; padding-right: 1em; text-align: center; vertical-align: top\">0</td>\n",
       "        <td style=\"padding-left: 1em; padding-right: 1em; text-align: center; vertical-align: top\">3</td>\n",
       "        <td style=\"padding-left: 1em; padding-right: 1em; text-align: center; vertical-align: top\">7</td>\n",
       "        <td style=\"padding-left: 1em; padding-right: 1em; text-align: center; vertical-align: top\">1715</td>\n",
       "        <td style=\"padding-left: 1em; padding-right: 1em; text-align: center; vertical-align: top\">0</td>\n",
       "        <td style=\"padding-left: 1em; padding-right: 1em; text-align: center; vertical-align: top\">1995</td>\n",
       "        <td style=\"padding-left: 1em; padding-right: 1em; text-align: center; vertical-align: top\">0</td>\n",
       "        <td style=\"padding-left: 1em; padding-right: 1em; text-align: center; vertical-align: top\">98003</td>\n",
       "        <td style=\"padding-left: 1em; padding-right: 1em; text-align: center; vertical-align: top\">47.30972002</td>\n",
       "    </tr>\n",
       "    <tr>\n",
       "        <td style=\"padding-left: 1em; padding-right: 1em; text-align: center; vertical-align: top\">0</td>\n",
       "        <td style=\"padding-left: 1em; padding-right: 1em; text-align: center; vertical-align: top\">3</td>\n",
       "        <td style=\"padding-left: 1em; padding-right: 1em; text-align: center; vertical-align: top\">7</td>\n",
       "        <td style=\"padding-left: 1em; padding-right: 1em; text-align: center; vertical-align: top\">1060</td>\n",
       "        <td style=\"padding-left: 1em; padding-right: 1em; text-align: center; vertical-align: top\">0</td>\n",
       "        <td style=\"padding-left: 1em; padding-right: 1em; text-align: center; vertical-align: top\">1963</td>\n",
       "        <td style=\"padding-left: 1em; padding-right: 1em; text-align: center; vertical-align: top\">0</td>\n",
       "        <td style=\"padding-left: 1em; padding-right: 1em; text-align: center; vertical-align: top\">98198</td>\n",
       "        <td style=\"padding-left: 1em; padding-right: 1em; text-align: center; vertical-align: top\">47.40949984</td>\n",
       "    </tr>\n",
       "    <tr>\n",
       "        <td style=\"padding-left: 1em; padding-right: 1em; text-align: center; vertical-align: top\">0</td>\n",
       "        <td style=\"padding-left: 1em; padding-right: 1em; text-align: center; vertical-align: top\">3</td>\n",
       "        <td style=\"padding-left: 1em; padding-right: 1em; text-align: center; vertical-align: top\">7</td>\n",
       "        <td style=\"padding-left: 1em; padding-right: 1em; text-align: center; vertical-align: top\">1050</td>\n",
       "        <td style=\"padding-left: 1em; padding-right: 1em; text-align: center; vertical-align: top\">730</td>\n",
       "        <td style=\"padding-left: 1em; padding-right: 1em; text-align: center; vertical-align: top\">1960</td>\n",
       "        <td style=\"padding-left: 1em; padding-right: 1em; text-align: center; vertical-align: top\">0</td>\n",
       "        <td style=\"padding-left: 1em; padding-right: 1em; text-align: center; vertical-align: top\">98146</td>\n",
       "        <td style=\"padding-left: 1em; padding-right: 1em; text-align: center; vertical-align: top\">47.51229381</td>\n",
       "    </tr>\n",
       "    <tr>\n",
       "        <td style=\"padding-left: 1em; padding-right: 1em; text-align: center; vertical-align: top\">0</td>\n",
       "        <td style=\"padding-left: 1em; padding-right: 1em; text-align: center; vertical-align: top\">3</td>\n",
       "        <td style=\"padding-left: 1em; padding-right: 1em; text-align: center; vertical-align: top\">7</td>\n",
       "        <td style=\"padding-left: 1em; padding-right: 1em; text-align: center; vertical-align: top\">1890</td>\n",
       "        <td style=\"padding-left: 1em; padding-right: 1em; text-align: center; vertical-align: top\">0</td>\n",
       "        <td style=\"padding-left: 1em; padding-right: 1em; text-align: center; vertical-align: top\">2003</td>\n",
       "        <td style=\"padding-left: 1em; padding-right: 1em; text-align: center; vertical-align: top\">0</td>\n",
       "        <td style=\"padding-left: 1em; padding-right: 1em; text-align: center; vertical-align: top\">98038</td>\n",
       "        <td style=\"padding-left: 1em; padding-right: 1em; text-align: center; vertical-align: top\">47.36840673</td>\n",
       "    </tr>\n",
       "</table>\n",
       "<table frame=\"box\" rules=\"cols\">\n",
       "    <tr>\n",
       "        <th style=\"padding-left: 1em; padding-right: 1em; text-align: center\">long</th>\n",
       "        <th style=\"padding-left: 1em; padding-right: 1em; text-align: center\">sqft_living15</th>\n",
       "        <th style=\"padding-left: 1em; padding-right: 1em; text-align: center\">sqft_lot15</th>\n",
       "    </tr>\n",
       "    <tr>\n",
       "        <td style=\"padding-left: 1em; padding-right: 1em; text-align: center; vertical-align: top\">-122.25677536</td>\n",
       "        <td style=\"padding-left: 1em; padding-right: 1em; text-align: center; vertical-align: top\">1340.0</td>\n",
       "        <td style=\"padding-left: 1em; padding-right: 1em; text-align: center; vertical-align: top\">5650.0</td>\n",
       "    </tr>\n",
       "    <tr>\n",
       "        <td style=\"padding-left: 1em; padding-right: 1em; text-align: center; vertical-align: top\">-122.3188624</td>\n",
       "        <td style=\"padding-left: 1em; padding-right: 1em; text-align: center; vertical-align: top\">1690.0</td>\n",
       "        <td style=\"padding-left: 1em; padding-right: 1em; text-align: center; vertical-align: top\">7639.0</td>\n",
       "    </tr>\n",
       "    <tr>\n",
       "        <td style=\"padding-left: 1em; padding-right: 1em; text-align: center; vertical-align: top\">-122.23319601</td>\n",
       "        <td style=\"padding-left: 1em; padding-right: 1em; text-align: center; vertical-align: top\">2720.0</td>\n",
       "        <td style=\"padding-left: 1em; padding-right: 1em; text-align: center; vertical-align: top\">8062.0</td>\n",
       "    </tr>\n",
       "    <tr>\n",
       "        <td style=\"padding-left: 1em; padding-right: 1em; text-align: center; vertical-align: top\">-122.39318505</td>\n",
       "        <td style=\"padding-left: 1em; padding-right: 1em; text-align: center; vertical-align: top\">1360.0</td>\n",
       "        <td style=\"padding-left: 1em; padding-right: 1em; text-align: center; vertical-align: top\">5000.0</td>\n",
       "    </tr>\n",
       "    <tr>\n",
       "        <td style=\"padding-left: 1em; padding-right: 1em; text-align: center; vertical-align: top\">-122.04490059</td>\n",
       "        <td style=\"padding-left: 1em; padding-right: 1em; text-align: center; vertical-align: top\">1800.0</td>\n",
       "        <td style=\"padding-left: 1em; padding-right: 1em; text-align: center; vertical-align: top\">7503.0</td>\n",
       "    </tr>\n",
       "    <tr>\n",
       "        <td style=\"padding-left: 1em; padding-right: 1em; text-align: center; vertical-align: top\">-122.00528655</td>\n",
       "        <td style=\"padding-left: 1em; padding-right: 1em; text-align: center; vertical-align: top\">4760.0</td>\n",
       "        <td style=\"padding-left: 1em; padding-right: 1em; text-align: center; vertical-align: top\">101930.0</td>\n",
       "    </tr>\n",
       "    <tr>\n",
       "        <td style=\"padding-left: 1em; padding-right: 1em; text-align: center; vertical-align: top\">-122.32704857</td>\n",
       "        <td style=\"padding-left: 1em; padding-right: 1em; text-align: center; vertical-align: top\">2238.0</td>\n",
       "        <td style=\"padding-left: 1em; padding-right: 1em; text-align: center; vertical-align: top\">6819.0</td>\n",
       "    </tr>\n",
       "    <tr>\n",
       "        <td style=\"padding-left: 1em; padding-right: 1em; text-align: center; vertical-align: top\">-122.31457273</td>\n",
       "        <td style=\"padding-left: 1em; padding-right: 1em; text-align: center; vertical-align: top\">1650.0</td>\n",
       "        <td style=\"padding-left: 1em; padding-right: 1em; text-align: center; vertical-align: top\">9711.0</td>\n",
       "    </tr>\n",
       "    <tr>\n",
       "        <td style=\"padding-left: 1em; padding-right: 1em; text-align: center; vertical-align: top\">-122.33659507</td>\n",
       "        <td style=\"padding-left: 1em; padding-right: 1em; text-align: center; vertical-align: top\">1780.0</td>\n",
       "        <td style=\"padding-left: 1em; padding-right: 1em; text-align: center; vertical-align: top\">8113.0</td>\n",
       "    </tr>\n",
       "    <tr>\n",
       "        <td style=\"padding-left: 1em; padding-right: 1em; text-align: center; vertical-align: top\">-122.0308176</td>\n",
       "        <td style=\"padding-left: 1em; padding-right: 1em; text-align: center; vertical-align: top\">2390.0</td>\n",
       "        <td style=\"padding-left: 1em; padding-right: 1em; text-align: center; vertical-align: top\">7570.0</td>\n",
       "    </tr>\n",
       "</table>\n",
       "[21613 rows x 21 columns]<br/>Note: Only the head of the SFrame is printed.<br/>You can use print_rows(num_rows=m, num_columns=n) to print more rows and columns.\n",
       "</div>"
      ],
      "text/plain": [
       "Columns:\n",
       "\tid\tstr\n",
       "\tdate\tdatetime\n",
       "\tprice\tint\n",
       "\tbedrooms\tstr\n",
       "\tbathrooms\tstr\n",
       "\tsqft_living\tint\n",
       "\tsqft_lot\tint\n",
       "\tfloors\tstr\n",
       "\twaterfront\tint\n",
       "\tview\tint\n",
       "\tcondition\tint\n",
       "\tgrade\tint\n",
       "\tsqft_above\tint\n",
       "\tsqft_basement\tint\n",
       "\tyr_built\tint\n",
       "\tyr_renovated\tint\n",
       "\tzipcode\tstr\n",
       "\tlat\tfloat\n",
       "\tlong\tfloat\n",
       "\tsqft_living15\tfloat\n",
       "\tsqft_lot15\tfloat\n",
       "\n",
       "Rows: 21613\n",
       "\n",
       "Data:\n",
       "+------------+---------------------------+---------+----------+-----------+-------------+\n",
       "|     id     |            date           |  price  | bedrooms | bathrooms | sqft_living |\n",
       "+------------+---------------------------+---------+----------+-----------+-------------+\n",
       "| 7129300520 | 2014-10-13 00:00:00+00:00 |  221900 |    3     |     1     |     1180    |\n",
       "| 6414100192 | 2014-12-09 00:00:00+00:00 |  538000 |    3     |    2.25   |     2570    |\n",
       "| 5631500400 | 2015-02-25 00:00:00+00:00 |  180000 |    2     |     1     |     770     |\n",
       "| 2487200875 | 2014-12-09 00:00:00+00:00 |  604000 |    4     |     3     |     1960    |\n",
       "| 1954400510 | 2015-02-18 00:00:00+00:00 |  510000 |    3     |     2     |     1680    |\n",
       "| 7237550310 | 2014-05-12 00:00:00+00:00 | 1225000 |    4     |    4.5    |     5420    |\n",
       "| 1321400060 | 2014-06-27 00:00:00+00:00 |  257500 |    3     |    2.25   |     1715    |\n",
       "| 2008000270 | 2015-01-15 00:00:00+00:00 |  291850 |    3     |    1.5    |     1060    |\n",
       "| 2414600126 | 2015-04-15 00:00:00+00:00 |  229500 |    3     |     1     |     1780    |\n",
       "| 3793500160 | 2015-03-12 00:00:00+00:00 |  323000 |    3     |    2.5    |     1890    |\n",
       "+------------+---------------------------+---------+----------+-----------+-------------+\n",
       "+----------+--------+------------+------+-----------+-------+------------+---------------+\n",
       "| sqft_lot | floors | waterfront | view | condition | grade | sqft_above | sqft_basement |\n",
       "+----------+--------+------------+------+-----------+-------+------------+---------------+\n",
       "|   5650   |   1    |     0      |  0   |     3     |   7   |    1180    |       0       |\n",
       "|   7242   |   2    |     0      |  0   |     3     |   7   |    2170    |      400      |\n",
       "|  10000   |   1    |     0      |  0   |     3     |   6   |    770     |       0       |\n",
       "|   5000   |   1    |     0      |  0   |     5     |   7   |    1050    |      910      |\n",
       "|   8080   |   1    |     0      |  0   |     3     |   8   |    1680    |       0       |\n",
       "|  101930  |   1    |     0      |  0   |     3     |   11  |    3890    |      1530     |\n",
       "|   6819   |   2    |     0      |  0   |     3     |   7   |    1715    |       0       |\n",
       "|   9711   |   1    |     0      |  0   |     3     |   7   |    1060    |       0       |\n",
       "|   7470   |   1    |     0      |  0   |     3     |   7   |    1050    |      730      |\n",
       "|   6560   |   2    |     0      |  0   |     3     |   7   |    1890    |       0       |\n",
       "+----------+--------+------------+------+-----------+-------+------------+---------------+\n",
       "+----------+--------------+---------+-------------+---------------+---------------+-----+\n",
       "| yr_built | yr_renovated | zipcode |     lat     |      long     | sqft_living15 | ... |\n",
       "+----------+--------------+---------+-------------+---------------+---------------+-----+\n",
       "|   1955   |      0       |  98178  | 47.51123398 | -122.25677536 |     1340.0    | ... |\n",
       "|   1951   |     1991     |  98125  | 47.72102274 |  -122.3188624 |     1690.0    | ... |\n",
       "|   1933   |      0       |  98028  | 47.73792661 | -122.23319601 |     2720.0    | ... |\n",
       "|   1965   |      0       |  98136  |   47.52082  | -122.39318505 |     1360.0    | ... |\n",
       "|   1987   |      0       |  98074  | 47.61681228 | -122.04490059 |     1800.0    | ... |\n",
       "|   2001   |      0       |  98053  | 47.65611835 | -122.00528655 |     4760.0    | ... |\n",
       "|   1995   |      0       |  98003  | 47.30972002 | -122.32704857 |     2238.0    | ... |\n",
       "|   1963   |      0       |  98198  | 47.40949984 | -122.31457273 |     1650.0    | ... |\n",
       "|   1960   |      0       |  98146  | 47.51229381 | -122.33659507 |     1780.0    | ... |\n",
       "|   2003   |      0       |  98038  | 47.36840673 |  -122.0308176 |     2390.0    | ... |\n",
       "+----------+--------------+---------+-------------+---------------+---------------+-----+\n",
       "[21613 rows x 21 columns]\n",
       "Note: Only the head of the SFrame is printed.\n",
       "You can use print_rows(num_rows=m, num_columns=n) to print more rows and columns."
      ]
     },
     "execution_count": 7,
     "metadata": {},
     "output_type": "execute_result"
    }
   ],
   "source": [
    "sales"
   ]
  },
  {
   "cell_type": "markdown",
   "metadata": {},
   "source": [
    "#Exploring the data for houseing sales"
   ]
  },
  {
   "cell_type": "code",
   "execution_count": 10,
   "metadata": {
    "collapsed": false,
    "scrolled": true
   },
   "outputs": [
    {
     "data": {
      "application/javascript": [
       "$(\"head\").append($(\"<link/>\").attr({\n",
       "  rel:  \"stylesheet\",\n",
       "  type: \"text/css\",\n",
       "  href: \"//cdnjs.cloudflare.com/ajax/libs/font-awesome/4.1.0/css/font-awesome.min.css\"\n",
       "}));\n",
       "$(\"head\").append($(\"<link/>\").attr({\n",
       "  rel:  \"stylesheet\",\n",
       "  type: \"text/css\",\n",
       "  href: \"//dato.com/files/canvas/1.8.1/css/canvas.css\"\n",
       "}));\n",
       "\n",
       "            (function(){\n",
       "\n",
       "                var e = null;\n",
       "                if (typeof element == 'undefined') {\n",
       "                    var scripts = document.getElementsByTagName('script');\n",
       "                    var thisScriptTag = scripts[scripts.length-1];\n",
       "                    var parentDiv = thisScriptTag.parentNode;\n",
       "                    e = document.createElement('div');\n",
       "                    parentDiv.appendChild(e);\n",
       "                } else {\n",
       "                    e = element[0];\n",
       "                }\n",
       "\n",
       "                if (typeof requirejs !== 'undefined') {\n",
       "                    // disable load timeout; ipython_app.js is large and can take a while to load.\n",
       "                    requirejs.config({waitSeconds: 0});\n",
       "                }\n",
       "\n",
       "                require(['//dato.com/files/canvas/1.8.1/js/ipython_app.js'], function(IPythonApp){\n",
       "                    var app = new IPythonApp();\n",
       "                    app.attachView('sframe','Plots', {\"selected_variable\": {\"name\": [\"sales\"], \"descriptives\": {\"rows\": 21613, \"columns\": 21}, \"view_component\": \"Plots\", \"view_file\": \"sframe\", \"view_params\": {\"y\": \"price\", \"x\": \"sqft_living\", \"columns\": [\"id\", \"date\", \"price\", \"bedrooms\", \"bathrooms\", \"sqft_living\", \"sqft_lot\", \"floors\", \"waterfront\", \"view\", \"condition\", \"grade\", \"sqft_above\", \"sqft_basement\", \"yr_built\", \"yr_renovated\", \"zipcode\", \"lat\", \"long\", \"sqft_living15\", \"sqft_lot15\"], \"view\": \"Scatter Plot\"}, \"view_components\": [\"Summary\", \"Table\", \"Bar Chart\", \"BoxWhisker Plot\", \"Line Chart\", \"Scatter Plot\", \"Heat Map\", \"Plots\"], \"type\": \"SFrame\", \"columns\": [{\"dtype\": \"str\", \"name\": \"id\"}, {\"dtype\": \"datetime\", \"name\": \"date\"}, {\"dtype\": \"int\", \"name\": \"price\"}, {\"dtype\": \"str\", \"name\": \"bedrooms\"}, {\"dtype\": \"str\", \"name\": \"bathrooms\"}, {\"dtype\": \"int\", \"name\": \"sqft_living\"}, {\"dtype\": \"int\", \"name\": \"sqft_lot\"}, {\"dtype\": \"str\", \"name\": \"floors\"}, {\"dtype\": \"int\", \"name\": \"waterfront\"}, {\"dtype\": \"int\", \"name\": \"view\"}, {\"dtype\": \"int\", \"name\": \"condition\"}, {\"dtype\": \"int\", \"name\": \"grade\"}, {\"dtype\": \"int\", \"name\": \"sqft_above\"}, {\"dtype\": \"int\", \"name\": \"sqft_basement\"}, {\"dtype\": \"int\", \"name\": \"yr_built\"}, {\"dtype\": \"int\", \"name\": \"yr_renovated\"}, {\"dtype\": \"str\", \"name\": \"zipcode\"}, {\"dtype\": \"float\", \"name\": \"lat\"}, {\"dtype\": \"float\", \"name\": \"long\"}, {\"dtype\": \"float\", \"name\": \"sqft_living15\"}, {\"dtype\": \"float\", \"name\": \"sqft_lot15\"}], \"column_identifiers\": [\"bathrooms\", \"sqft_living15\", \"sqft_above\", \"grade\", \"yr_built\", \"price\", \"bedrooms\", \"zipcode\", \"long\", \"id\", \"sqft_lot15\", \"sqft_living\", \"floors\", \"sqft_lot\", \"date\", \"waterfront\", \"sqft_basement\", \"yr_renovated\", \"lat\", \"condition\", \"view\"]}, \"complete\": 1, \"ipython\": true, \"progress\": 1.0, \"data\": [[2270, 500000], [2570, 538000], [1530, 545000], [3440, 455000], [1580, 325000], [1780, 495000], [930, 355000], [3880, 815000], [3070, 900000], [1630, 482500], [3160, 552000], [1650, 400000], [2330, 270000], [1670, 335000], [2210, 240000], [1670, 678000], [2720, 485000], [1750, 420000], [2260, 648360], [1090, 382500], [4600, 805000], [2280, 750000], [1310, 249900], [1420, 455000], [1670, 268500], [1640, 505000], [2130, 955500], [1400, 667000], [2030, 556300], [1800, 607500], [2890, 598000], [2500, 695000], [700, 209995], [1450, 460000], [2060, 675500], [1320, 313000], [2560, 640000], [820, 173000], [2040, 667500], [2620, 605000], [1410, 225000], [2320, 370000], [1950, 315000], [1420, 136500], [1240, 210000], [1140, 275000], [2190, 245000], [1870, 572000], [2860, 565000], [1720, 772500], [740, 304700], [1530, 546000], [2040, 284000], [2600, 425000], [2560, 465000], [1210, 375000], [4220, 1165000], [3800, 472000], [880, 405000], [2600, 428000], [2940, 1010000], [2740, 568000], [5250, 915000], [850, 233000], [2610, 725000], [1120, 750000], [1788, 294400], [2590, 569888], [1070, 406650], [1790, 380000], [1400, 383000], [2630, 990000], [1340, 315000], [4440, 1037000], [1760, 500000], [1410, 530000], [3820, 920000], [1510, 490000], [1410, 410000], [2120, 275000], [2020, 507500], [1490, 263000], [3560, 843500], [1730, 563000], [1380, 300000], [1020, 450000], [1350, 272450], [2770, 461000], [2310, 739000], [3550, 685000], [1814, 530000], [1320, 251750], [3030, 998000], [1690, 600000], [3223, 479349], [1520, 400000], [1720, 280000], [2240, 439000], [2590, 550000], [2242, 310000], [1720, 256900], [1540, 384000], [2220, 291375], [3500, 790000], [1470, 215000], [2340, 375000], [1630, 767450], [2230, 426000], [1370, 264500], [2320, 307000], [1560, 270000], [3070, 350000], [3450, 950000], [1640, 300000], [1660, 270000], [1950, 313200], [3750, 2903000], [2170, 340000], [1540, 259950], [1920, 295000], [2400, 660000], [1480, 418000], [1460, 449000], [1340, 615000], [1340, 206135], [1390, 185000], [3240, 724500], [2440, 765000], [2740, 660000], [1840, 285000], [3190, 2125000], [2670, 732000], [1410, 226740], [2400, 355000], [1750, 199000], [1690, 295000], [1030, 450000], [4065, 1950000], [1920, 870000], [2850, 1600000], [2280, 850000], [2200, 396800], [1660, 315000], [1410, 563000], [2030, 500000], [1050, 474000], [1780, 631500], [1270, 415000], [1260, 210000], [2010, 559000], [1410, 490000], [1800, 583000], [2410, 610000], [2920, 265000], [2200, 450000], [2580, 400000], [1510, 675000], [2540, 420000], [2260, 341780], [1940, 399000], [3410, 1100005], [2190, 370000], [1050, 414500], [670, 390000], [1740, 733000], [500, 125000], [1800, 472000], [1220, 231000], [1640, 247000], [1600, 400000], [1140, 410000], [2780, 1140000], [1340, 313000], [2060, 800000], [2450, 480000], [1340, 485500], [1131, 394950], [2670, 515000], [1950, 269950], [3470, 455000], [2180, 419000], [2550, 430000], [3290, 1385000], [3030, 879000], [2550, 465000], [1260, 350000], [1690, 591500], [3780, 1153000], [1670, 680000], [3420, 657044], [2330, 639500], [1810, 485000], [1120, 500000], [1580, 335000], [2120, 379500], [2080, 300000], [1190, 311000], [960, 224975], [2090, 400000], [2240, 975000], [3160, 625000], [2500, 364900], [1780, 625000], [1650, 251000], [2150, 300499], [2480, 840000], [1600, 302000], [1170, 527500], [1540, 525000], [4890, 865950], [3160, 805000], [1670, 649950], [1960, 285750], [4380, 1050000], [1690, 257500], [850, 280000], [1690, 338000], [2240, 676000], [1690, 419990], [1320, 425000], [1600, 205000], [1590, 295000], [1220, 526000], [720, 179000], [990, 225000], [1620, 415000], [1760, 410000], [3230, 605000], [2510, 375000], [930, 141800], [1960, 569500], [1080, 195000], [1410, 625000], [860, 227000], [3560, 833000], [2070, 423700], [3740, 448000], [1210, 285000], [1670, 539950], [1570, 555000], [1300, 287000], [930, 190000], [3030, 740000], [2650, 715000], [3060, 782900], [1830, 825000], [2060, 610000], [2800, 940000], [2160, 532500], [1740, 315000], [2490, 725000], [2880, 429900], [1610, 450000], [2750, 950000], [1680, 558000], [1400, 850000], [1630, 249000], [2600, 571000], [3140, 310000], [1140, 340000], [720, 275500], [1140, 420000], [1220, 175000], [2950, 930000], [2520, 372000], [1790, 515000], [1120, 285000], [2610, 547500], [2460, 900000], [2570, 540000], [2000, 538000], [3230, 1059500], [1030, 345000], [1430, 280000], [1090, 152500], [2180, 350000], [1400, 231200], [2140, 577500], [3050, 555000], [1650, 294000], [2400, 420000], [2240, 325000], [2150, 339950], [2130, 700000], [1310, 337000], [2120, 377691], [2030, 440000], [2344, 355000], [2400, 403500], [2330, 325000], [3790, 1165000], [1410, 658500], [2390, 625000], [1260, 259000], [2160, 730000], [2090, 860000], [1760, 577000], [2920, 823000], [2240, 415000], [3740, 1078500], [2330, 825000], [860, 256000], [2010, 530000], [1390, 216500], [1400, 639000], [1920, 725000], [1250, 419950], [2660, 915000], [2230, 439000], [1370, 524000], [2640, 790000], [1640, 303100], [1480, 500000], [1650, 250000], [1210, 610000], [1960, 422500], [2090, 455000], [1300, 309000], [1330, 410000], [3180, 499950], [3220, 768000], [2406, 270500], [1110, 440150], [1820, 750000], [2330, 308000], [1440, 265000], [1240, 900000], [920, 535000], [1000, 186375], [1960, 478000], [1480, 360000], [2150, 371000], [970, 172000], [1490, 289000], [2490, 940000], [2240, 410000], [1140, 576000], [1910, 650000], [1880, 585000], [2290, 630000], [1300, 625000], [3430, 740000], [1860, 291000], [1100, 400000], [2700, 725000], [1700, 710000], [1000, 239900], [3090, 1220000], [1390, 206600], [1660, 431000], [1060, 230000], [1070, 225000], [1360, 553650], [1880, 460000], [1000, 377000], [2950, 660500], [1910, 300000], [2760, 675000], [1400, 710000], [3940, 1965000], [2520, 429000], [2110, 780000], [1670, 660000], [1200, 306000], [1580, 279900], [1860, 477500], [1980, 396000], [2710, 805000], [1770, 480000], [2575, 359000], [1330, 479000], [2820, 297975], [3560, 907687], [1650, 238000], [3850, 995000], [3010, 615000], [3480, 852500], [2300, 1000000], [1260, 549950], [2050, 760000], [2950, 615000], [1620, 276750], [2260, 479950], [1580, 475000], [1930, 583000], [1920, 615000], [3280, 925000], [920, 125000], [1750, 750000], [2460, 445000], [1550, 345000], [2000, 1350000], [1270, 335000], [1440, 550000], [940, 267000], [1370, 225000], [1300, 308000], [1240, 290000], [2960, 426500], [2940, 420000], [1660, 460000], [1300, 540000], [3200, 699000], [2080, 495000], [2950, 835000], [1330, 218000], [1290, 450000], [1570, 278500], [1840, 639000], [1530, 449950], [1460, 258500], [2520, 525000], [2990, 644500], [940, 255000], [1690, 413565], [2910, 570000], [3780, 962800], [1610, 565000], [2460, 607500], [900, 230000], [2940, 1070000], [1670, 500000], [1290, 237000], [1900, 212000], [2260, 651000], [1430, 257000], [1870, 579000], [2790, 835000], [720, 287000], [1870, 554000], [1680, 340000], [1780, 705000], [2290, 545000], [1450, 375000], [4370, 1965221], [1770, 229500], [4870, 722500], [2170, 359800], [1270, 438000], [1000, 505000], [1300, 515000], [3340, 699000], [1580, 389950], [2450, 530000], [1200, 223000], [3250, 980000], [1780, 350000], [1480, 427500], [1560, 279000], [3010, 1240000], [1380, 345000], [1690, 640000], [1400, 232000], [1430, 520000], [2950, 992000], [2000, 549000], [1630, 464000], [2190, 665000], [2480, 906000], [1890, 339950], [2910, 504058], [1010, 470450], [2980, 750000], [2590, 346300], [2020, 415000], [3060, 1266525], [2760, 1340000], [2220, 540000], [880, 291500], [1690, 725000], [3080, 637000], [1460, 381000], [1190, 250000], [1580, 530000], [900, 451000], [3120, 315000], [1150, 370000], [1440, 550000], [2240, 220000], [2910, 590000], [3920, 1605000], [2770, 711000], [1940, 320000], [1220, 470000], [1770, 241000], [2430, 445000], [1640, 234000], [2250, 750000], [2810, 685000], [1060, 400000], [1600, 390000], [1740, 450000], [1090, 149900], [2820, 669950], [1740, 568000], [2140, 271675], [1880, 324900], [1982, 283200], [2410, 1440000], [1410, 229950], [1830, 518000], [2050, 750000], [2100, 548000], [1330, 209000], [1360, 500000], [1390, 469000], [2110, 607500], [2150, 500000], [2240, 400000], [3250, 486940], [1040, 535000], [2380, 319000], [1000, 210000], [3190, 1700000], [3730, 825000], [1910, 595000], [2290, 347500], [2100, 295000], [1220, 405000], [1060, 349950], [2550, 808000], [630, 190000], [1130, 207000], [1100, 395000], [1250, 485000], [1420, 385000], [830, 200000], [1740, 329950], [1070, 510000], [2500, 662000], [3760, 1250000], [3540, 1348000], [2240, 327500], [2290, 339950], [1780, 175000], [1320, 402000], [1720, 270000], [2040, 545000], [2330, 337500], [1780, 1000000], [950, 290000], [800, 404500], [2180, 875000], [1070, 224400], [1510, 799000], [950, 333000], [2200, 432000], [990, 329000], [2020, 330000], [1580, 489950], [1400, 359950], [1160, 508300], [2750, 763776], [2340, 735000], [3310, 429900], [3800, 575000], [1780, 309000], [2220, 437000], [1180, 220000], [1520, 240000], [1370, 689800], [3831, 2700000], [2870, 880000], [2200, 345000], [2590, 796500], [1710, 237000], [2480, 540000], [2820, 750000], [2310, 407450], [1740, 601000], [2550, 537500], [1410, 139000], [1160, 425000], [2110, 288250], [2970, 715000], [1680, 350000], [1770, 423500], [2300, 392000], [1730, 243400], [2900, 339000], [2770, 675000], [1910, 663000], [2430, 452500], [2720, 594950], [1920, 250000], [1300, 344000], [3480, 490000], [940, 435000], [1650, 500000], [6630, 1240000], [1030, 267000], [1460, 499922], [920, 275000], [1610, 425000], [1240, 375000], [3170, 600000], [3630, 490000], [2190, 437000], [1450, 230000], [1920, 380000], [2900, 616000], [2870, 690700], [1430, 185000], [1140, 374000], [1000, 352500], [4100, 2027000], [3350, 400000], [1690, 875000], [1040, 396000], [3090, 496000], [1430, 265000], [1140, 549900], [1580, 672500], [1450, 355000], [2040, 500000], [640, 426000], [1490, 525000], [1630, 264500], [2530, 380000], [2510, 330000], [1120, 440000], [3620, 768500], [2424, 391500], [4080, 825000], [2380, 812000], [1260, 349500], [2090, 300000], [1180, 425000], [1710, 290000], [1850, 605000], [3370, 1135000], [2210, 648000], [1790, 397000], [2350, 650000], [2110, 479000], [1646, 307500], [960, 265000], [1360, 245000], [1440, 487000], [1430, 213950], [1850, 450000], [1640, 250000], [3160, 335000], [2000, 427000], [2360, 430000], [1760, 240000], [3560, 756000], [2050, 353500], [1100, 229900], [1260, 425000], [3020, 354000], [3120, 799000], [4300, 593500], [1230, 522000], [1380, 350000], [2770, 860000], [1920, 250000], [980, 221000], [2690, 760000], [2510, 581000], [3880, 1815000], [1950, 850000], [1180, 325000], [2120, 293550], [2120, 550000], [2560, 350000], [2740, 525000], [1920, 353000], [2970, 845000], [1630, 395000], [3360, 740000], [2100, 500000], [2440, 525000], [2730, 505000], [3510, 729950], [1740, 379000], [1350, 571000], [2680, 445000], [3450, 1295000], [1980, 455000], [1220, 260000], [1620, 475000], [4610, 960000], [3020, 780000], [1420, 400000], [3340, 910000], [1580, 305000], [2150, 229950], [600, 174000], [2770, 318700], [2030, 544000], [1120, 230000], [1980, 545800], [1860, 526500], [3120, 575000], [2860, 799000], [2880, 820000], [1600, 480000], [1150, 165000], [1830, 465000], [3600, 1075000], [1180, 311000], [2560, 765000], [2650, 665000], [2020, 385000], [3500, 682500], [1470, 454280], [1560, 425000], [3060, 970000], [1480, 256000], [2120, 637000], [1480, 385000], [1790, 585000], [2170, 443500], [2200, 365000], [4090, 640000], [3720, 875000], [1150, 215000], [2210, 719000], [2230, 560000], [2130, 305000], [2090, 415000], [3940, 1695000], [940, 121800], [1680, 330000], [3250, 800000], [1320, 529000], [1220, 300000], [2690, 1650000], [1350, 259950], [1800, 508500], [2310, 400000], [2090, 403000], [1830, 347500], [2740, 706000], [1230, 175000], [2160, 580000], [3360, 850000], [920, 280300], [2770, 890000], [1300, 455000], [2000, 700000], [1430, 380950], [1890, 280500], [2340, 360000], [2940, 560000], [990, 250000], [1560, 449950], [2760, 834538], [2460, 790000], [2640, 1398000], [2820, 1600000], [2700, 390000], [2200, 525000], [1580, 549800], [1330, 236000], [2840, 665000], [1360, 466950], [1010, 200000], [1560, 525000], [1400, 180000], [2790, 695000], [2880, 536000], [1630, 165000], [1630, 725000], [990, 435000], [2300, 320000], [2170, 709000], [1270, 260000], [3110, 1260000], [2313, 370000], [1400, 250000], [1780, 442573], [1070, 175000], [3080, 889950], [940, 329000], [3070, 462000], [1650, 622000], [1240, 324950], [1280, 304000], [2220, 350000], [1590, 400000], [1110, 371000], [2340, 315000], [1980, 428000], [2260, 759000], [2750, 333000], [3530, 510000], [1940, 232500], [4560, 3200000], [2810, 812500], [1460, 150000], [2040, 730000], [800, 414000], [1680, 620000], [2200, 360000], [4370, 897500], [1740, 710000], [2540, 485000], [1300, 310000], [1800, 345000], [2370, 420000], [1890, 398000], [1370, 280000], [3010, 568500], [6200, 1959000], [1530, 450000], [1480, 268000], [2920, 1015000], [1450, 450000], [540, 425000], [900, 263300], [1070, 357500], [2750, 869900], [3810, 752000], [1990, 490000], [2630, 589500], [1140, 268500], [970, 600000], [1430, 246500], [1830, 430000], [2960, 1161000], [1980, 268000], [1350, 427500], [3400, 870000], [2030, 775000], [2910, 549000], [1230, 147500], [3260, 1880000], [1680, 935000], [2240, 565000], [2270, 766000], [1910, 496600], [1640, 320000], [1330, 405000], [1300, 422500], [1480, 243000], [2930, 294000], [1250, 462000], [2450, 299000], [2130, 397500], [2424, 375000], [1150, 241000], [1450, 394000], [1810, 326500], [2290, 670000], [2830, 1035292], [1580, 255000], [2670, 749000], [1790, 346000], [1560, 400000], [1860, 380000], [1750, 434000], [1730, 445000], [1930, 390000], [5850, 1525000], [2430, 585000], [2680, 676000], [1390, 365000], [4260, 635000], [2700, 810000], [2120, 550000], [2560, 655000], [1760, 343500], [2070, 465000], [2450, 559950], [2200, 740000], [1460, 480000], [2720, 420000], [3370, 890000], [1770, 200000], [2230, 699950], [2095, 670000], [2190, 286000], [1200, 251000], [2150, 428040], [2690, 530000], [1830, 286651], [3680, 1900000], [2560, 585000], [5020, 1500000], [1750, 329950], [2701, 399895], [1190, 229000], [3050, 600000], [1700, 895000], [1290, 163000], [2690, 419000], [1480, 235000], [1430, 427500], [2030, 305000], [1410, 529500], [750, 310000], [2420, 429000], [2460, 464000], [4290, 2680000], [1010, 345000], [1150, 227500], [1980, 470000], [1950, 325000], [1580, 340000], [2570, 800000], [3300, 510000], [1770, 369900], [3140, 765000], [2460, 665000], [1060, 182000], [940, 430000], [2160, 550000], [1520, 167000], [3350, 844000], [1950, 565000], [1600, 260000], [4430, 875000], [5100, 936000], [3180, 725000], [1570, 570000], [4130, 2750000], [2007, 305950], [2010, 350000], [790, 315000], [5350, 2885000], [2360, 730000], [1610, 275000], [1250, 370037], [2960, 539950], [1260, 435000], [1860, 590000], [1320, 366000], [1950, 525126], [850, 229950], [2610, 757000], [3120, 380000], [1320, 410000], [1030, 205000], [1210, 235000], [1240, 355000], [1410, 590000], [1280, 184500], [2200, 216600], [2260, 555000], [1820, 655000], [1390, 458000], [3520, 1220000], [2680, 620000], [1760, 247500], [1270, 499000], [2820, 893880], [980, 201000], [1980, 233000], [3400, 950000], [2460, 427500], [2520, 250000], [1980, 463000], [2210, 465000], [1720, 230000], [2640, 537000], [2450, 530000], [2700, 565000], [2320, 315000], [1190, 275000], [3730, 649500], [1280, 199000], [1380, 525000], [1200, 225000], [1870, 664000], [900, 144975], [840, 150000], [1690, 500000], [1450, 471000], [1210, 156601], [1540, 278500], [2600, 339900], [1710, 524250], [2370, 684680], [2060, 348000], [2170, 638000], [1360, 442000], [2560, 619000], [1610, 648000], [1550, 324000], [2970, 1260000], [2600, 775000], [3110, 485000], [2510, 994000], [2180, 650000], [2930, 1225000], [2390, 770126], [1990, 536000], [2260, 365000], [2820, 697000], [1380, 295000], [2570, 715000], [2070, 255000], [2730, 769900], [3960, 1195000], [1310, 475000], [1560, 590000], [3110, 700000], [3786, 1379900]], \"columns\": [{\"dtype\": \"str\", \"name\": \"id\"}, {\"dtype\": \"datetime\", \"name\": \"date\"}, {\"dtype\": \"int\", \"name\": \"price\"}, {\"dtype\": \"str\", \"name\": \"bedrooms\"}, {\"dtype\": \"str\", \"name\": \"bathrooms\"}, {\"dtype\": \"int\", \"name\": \"sqft_living\"}, {\"dtype\": \"int\", \"name\": \"sqft_lot\"}, {\"dtype\": \"str\", \"name\": \"floors\"}, {\"dtype\": \"int\", \"name\": \"waterfront\"}, {\"dtype\": \"int\", \"name\": \"view\"}, {\"dtype\": \"int\", \"name\": \"condition\"}, {\"dtype\": \"int\", \"name\": \"grade\"}, {\"dtype\": \"int\", \"name\": \"sqft_above\"}, {\"dtype\": \"int\", \"name\": \"sqft_basement\"}, {\"dtype\": \"int\", \"name\": \"yr_built\"}, {\"dtype\": \"int\", \"name\": \"yr_renovated\"}, {\"dtype\": \"str\", \"name\": \"zipcode\"}, {\"dtype\": \"float\", \"name\": \"lat\"}, {\"dtype\": \"float\", \"name\": \"long\"}, {\"dtype\": \"float\", \"name\": \"sqft_living15\"}, {\"dtype\": \"float\", \"name\": \"sqft_lot15\"}]}, e);\n",
       "                });\n",
       "            })();\n",
       "        "
      ]
     },
     "metadata": {},
     "output_type": "display_data"
    }
   ],
   "source": [
    "graphlab.canvas.set_target('ipynb')\n",
    "sales.show(view=\"Scatter Plot\",x=\"sqft_living\",y=\"price\")"
   ]
  },
  {
   "cell_type": "markdown",
   "metadata": {},
   "source": [
    "#Create a simple regression model of sqft_living to price"
   ]
  },
  {
   "cell_type": "code",
   "execution_count": 4,
   "metadata": {
    "collapsed": true
   },
   "outputs": [],
   "source": [
    "train_data,test_data= sales.random_split(.8,seed=0)"
   ]
  },
  {
   "cell_type": "markdown",
   "metadata": {},
   "source": [
    "#Build the regression model"
   ]
  },
  {
   "cell_type": "code",
   "execution_count": 5,
   "metadata": {
    "collapsed": false,
    "scrolled": true
   },
   "outputs": [
    {
     "name": "stdout",
     "output_type": "stream",
     "text": [
      "PROGRESS: Creating a validation set from 5 percent of training data. This may take a while.\n",
      "          You can set ``validation_set=None`` to disable validation tracking.\n",
      "\n",
      "PROGRESS: Linear regression:\n",
      "PROGRESS: --------------------------------------------------------\n",
      "PROGRESS: Number of examples          : 16587\n",
      "PROGRESS: Number of features          : 1\n",
      "PROGRESS: Number of unpacked features : 1\n",
      "PROGRESS: Number of coefficients    : 2\n",
      "PROGRESS: Starting Newton Method\n",
      "PROGRESS: --------------------------------------------------------\n",
      "PROGRESS: +-----------+----------+--------------+--------------------+----------------------+---------------+-----------------+\n",
      "PROGRESS: | Iteration | Passes   | Elapsed Time | Training-max_error | Validation-max_error | Training-rmse | Validation-rmse |\n",
      "PROGRESS: +-----------+----------+--------------+--------------------+----------------------+---------------+-----------------+\n",
      "PROGRESS: | 1         | 2        | 1.050060     | 4367631.909526     | 3036000.485039       | 261903.274446 | 283840.272832   |\n",
      "PROGRESS: +-----------+----------+--------------+--------------------+----------------------+---------------+-----------------+\n",
      "PROGRESS: SUCCESS: Optimal solution found.\n",
      "PROGRESS:\n"
     ]
    }
   ],
   "source": [
    "sqft_model=graphlab.linear_regression.create(train_data,target='price',features=['sqft_living'])"
   ]
  },
  {
   "cell_type": "markdown",
   "metadata": {},
   "source": [
    "#Evaluting the simple model"
   ]
  },
  {
   "cell_type": "code",
   "execution_count": 14,
   "metadata": {
    "collapsed": false
   },
   "outputs": [
    {
     "name": "stdout",
     "output_type": "stream",
     "text": [
      "543054.042563\n"
     ]
    }
   ],
   "source": [
    "print test_data['price'].mean()"
   ]
  },
  {
   "cell_type": "code",
   "execution_count": 15,
   "metadata": {
    "collapsed": false
   },
   "outputs": [
    {
     "name": "stdout",
     "output_type": "stream",
     "text": [
      "{'max_error': 4150479.3131276085, 'rmse': 255186.8770707015}\n"
     ]
    }
   ],
   "source": [
    "print sqft_model.evaluate(test_data)"
   ]
  },
  {
   "cell_type": "markdown",
   "metadata": {},
   "source": [
    "#Lets see what our prediction look like"
   ]
  },
  {
   "cell_type": "code",
   "execution_count": 6,
   "metadata": {
    "collapsed": true
   },
   "outputs": [],
   "source": [
    "import matplotlib.pyplot as plt"
   ]
  },
  {
   "cell_type": "code",
   "execution_count": 7,
   "metadata": {
    "collapsed": true
   },
   "outputs": [],
   "source": [
    "%matplotlib inline"
   ]
  },
  {
   "cell_type": "code",
   "execution_count": 8,
   "metadata": {
    "collapsed": false
   },
   "outputs": [
    {
     "data": {
      "text/plain": [
       "[<matplotlib.lines.Line2D at 0x1ba8f080>,\n",
       " <matplotlib.lines.Line2D at 0x1ba8f2b0>]"
      ]
     },
     "execution_count": 8,
     "metadata": {},
     "output_type": "execute_result"
    },
    {
     "data": {
      "image/png": "[encoded data removed]",
      "text/plain": [
       "<matplotlib.figure.Figure at 0x1b8bc8d0>"
      ]
     },
     "metadata": {},
     "output_type": "display_data"
    }
   ],
   "source": [
    "plt.plot(test_data[\"sqft_living\"],test_data['price'],'.',test_data[\"sqft_living\"],sqft_model.predict(test_data),'-',)"
   ]
  },
  {
   "cell_type": "code",
   "execution_count": 20,
   "metadata": {
    "collapsed": false
   },
   "outputs": [
    {
     "data": {
      "text/html": [
       "<div style=\"max-height:1000px;max-width:1500px;overflow:auto;\"><table frame=\"box\" rules=\"cols\">\n",
       "    <tr>\n",
       "        <th style=\"padding-left: 1em; padding-right: 1em; text-align: center\">name</th>\n",
       "        <th style=\"padding-left: 1em; padding-right: 1em; text-align: center\">index</th>\n",
       "        <th style=\"padding-left: 1em; padding-right: 1em; text-align: center\">value</th>\n",
       "        <th style=\"padding-left: 1em; padding-right: 1em; text-align: center\">stderr</th>\n",
       "    </tr>\n",
       "    <tr>\n",
       "        <td style=\"padding-left: 1em; padding-right: 1em; text-align: center; vertical-align: top\">(intercept)</td>\n",
       "        <td style=\"padding-left: 1em; padding-right: 1em; text-align: center; vertical-align: top\">None</td>\n",
       "        <td style=\"padding-left: 1em; padding-right: 1em; text-align: center; vertical-align: top\">-46230.7121661</td>\n",
       "        <td style=\"padding-left: 1em; padding-right: 1em; text-align: center; vertical-align: top\">5052.65783969</td>\n",
       "    </tr>\n",
       "    <tr>\n",
       "        <td style=\"padding-left: 1em; padding-right: 1em; text-align: center; vertical-align: top\">sqft_living</td>\n",
       "        <td style=\"padding-left: 1em; padding-right: 1em; text-align: center; vertical-align: top\">None</td>\n",
       "        <td style=\"padding-left: 1em; padding-right: 1em; text-align: center; vertical-align: top\">281.167987769</td>\n",
       "        <td style=\"padding-left: 1em; padding-right: 1em; text-align: center; vertical-align: top\">2.2214173218</td>\n",
       "    </tr>\n",
       "</table>\n",
       "[2 rows x 4 columns]<br/>\n",
       "</div>"
      ],
      "text/plain": [
       "Columns:\n",
       "\tname\tstr\n",
       "\tindex\tstr\n",
       "\tvalue\tfloat\n",
       "\tstderr\tfloat\n",
       "\n",
       "Rows: 2\n",
       "\n",
       "Data:\n",
       "+-------------+-------+----------------+---------------+\n",
       "|     name    | index |     value      |     stderr    |\n",
       "+-------------+-------+----------------+---------------+\n",
       "| (intercept) |  None | -46230.7121661 | 5052.65783969 |\n",
       "| sqft_living |  None | 281.167987769  |  2.2214173218 |\n",
       "+-------------+-------+----------------+---------------+\n",
       "[2 rows x 4 columns]"
      ]
     },
     "execution_count": 20,
     "metadata": {},
     "output_type": "execute_result"
    }
   ],
   "source": [
    "sqft_model.get('coefficients')"
   ]
  },
  {
   "cell_type": "markdown",
   "metadata": {},
   "source": [
    "#Explore other features in the data"
   ]
  },
  {
   "cell_type": "code",
   "execution_count": 24,
   "metadata": {
    "collapsed": true
   },
   "outputs": [],
   "source": [
    "my_features=['bedrooms','bathrooms','sqft_living','floors','zipcode']"
   ]
  },
  {
   "cell_type": "code",
   "execution_count": 25,
   "metadata": {
    "collapsed": false
   },
   "outputs": [
    {
     "data": {
      "application/javascript": [
       "$(\"head\").append($(\"<link/>\").attr({\n",
       "  rel:  \"stylesheet\",\n",
       "  type: \"text/css\",\n",
       "  href: \"//cdnjs.cloudflare.com/ajax/libs/font-awesome/4.1.0/css/font-awesome.min.css\"\n",
       "}));\n",
       "$(\"head\").append($(\"<link/>\").attr({\n",
       "  rel:  \"stylesheet\",\n",
       "  type: \"text/css\",\n",
       "  href: \"//dato.com/files/canvas/1.8.1/css/canvas.css\"\n",
       "}));\n",
       "\n",
       "            (function(){\n",
       "\n",
       "                var e = null;\n",
       "                if (typeof element == 'undefined') {\n",
       "                    var scripts = document.getElementsByTagName('script');\n",
       "                    var thisScriptTag = scripts[scripts.length-1];\n",
       "                    var parentDiv = thisScriptTag.parentNode;\n",
       "                    e = document.createElement('div');\n",
       "                    parentDiv.appendChild(e);\n",
       "                } else {\n",
       "                    e = element[0];\n",
       "                }\n",
       "\n",
       "                if (typeof requirejs !== 'undefined') {\n",
       "                    // disable load timeout; ipython_app.js is large and can take a while to load.\n",
       "                    requirejs.config({waitSeconds: 0});\n",
       "                }\n",
       "\n",
       "                require(['//dato.com/files/canvas/1.8.1/js/ipython_app.js'], function(IPythonApp){\n",
       "                    var app = new IPythonApp();\n",
       "                    app.attachView('sframe','Summary', {\"ipython\": true, \"sketch\": {\"sqft_living\": {\"std\": 918.4196493828822, \"complete\": true, \"min\": 290.0, \"max\": 13540.0, \"quantile\": [290.0, 720.0, 790.0, 840.0, 890.0, 930.0, 970.0, 1010.0, 1030.0, 1060.0, 1090.0, 1120.0, 1150.0, 1170.0, 1200.0, 1220.0, 1240.0, 1260.0, 1280.0, 1300.0, 1320.0, 1340.0, 1365.0, 1390.0, 1400.0, 1430.0, 1440.0, 1460.0, 1480.0, 1500.0, 1520.0, 1540.0, 1560.0, 1580.0, 1600.0, 1610.0, 1640.0, 1654.0, 1670.0, 1690.0, 1710.0, 1730.0, 1750.0, 1770.0, 1790.0, 1810.0, 1830.0, 1850.0, 1870.0, 1890.0, 1910.0, 1940.0, 1960.0, 1980.0, 2000.0, 2020.0, 2050.0, 2070.0, 2090.0, 2110.0, 2130.0, 2160.0, 2180.0, 2210.0, 2230.0, 2260.0, 2290.0, 2310.0, 2340.0, 2370.0, 2400.0, 2420.0, 2450.0, 2490.0, 2514.0, 2550.0, 2580.0, 2620.0, 2650.0, 2690.0, 2730.0, 2770.0, 2810.0, 2860.0, 2910.0, 2970.0, 3010.0, 3070.0, 3130.0, 3190.0, 3250.0, 3330.0, 3420.0, 3520.0, 3640.0, 3770.0, 3930.0, 4150.0, 4420.0, 5020.0, 13540.0], \"median\": 1910.0, \"numeric\": true, \"num_unique\": 1036, \"num_undefined\": 0, \"var\": 843494.6523725762, \"progress\": 1.0, \"size\": 21613, \"frequent_items\": {\"2050\": {\"frequency\": 83, \"value\": 2050}, \"4100\": {\"frequency\": 5, \"value\": 4100}, \"2056\": {\"frequency\": 2, \"value\": 2056}, \"2732\": {\"frequency\": 2, \"value\": 2732}, \"2060\": {\"frequency\": 100, \"value\": 2060}, \"4110\": {\"frequency\": 10, \"value\": 4110}, \"2064\": {\"frequency\": 1, \"value\": 2064}, \"4115\": {\"frequency\": 1, \"value\": 4115}, \"2068\": {\"frequency\": 1, \"value\": 2068}, \"2070\": {\"frequency\": 92, \"value\": 2070}, \"4120\": {\"frequency\": 9, \"value\": 4120}, \"2052\": {\"frequency\": 1, \"value\": 2052}, \"2074\": {\"frequency\": 1, \"value\": 2074}, \"2075\": {\"frequency\": 2, \"value\": 2075}, \"2080\": {\"frequency\": 98, \"value\": 2080}, \"4130\": {\"frequency\": 8, \"value\": 4130}, \"2085\": {\"frequency\": 1, \"value\": 2085}, \"2090\": {\"frequency\": 95, \"value\": 2090}, \"4140\": {\"frequency\": 12, \"value\": 4140}, \"2093\": {\"frequency\": 1, \"value\": 2093}, \"2095\": {\"frequency\": 3, \"value\": 2095}, \"2099\": {\"frequency\": 1, \"value\": 2099}, \"2100\": {\"frequency\": 116, \"value\": 2100}, \"4150\": {\"frequency\": 10, \"value\": 4150}, \"6200\": {\"frequency\": 2, \"value\": 6200}, \"2105\": {\"frequency\": 1, \"value\": 2105}, \"2110\": {\"frequency\": 82, \"value\": 2110}, \"4160\": {\"frequency\": 7, \"value\": 4160}, \"6210\": {\"frequency\": 1, \"value\": 6210}, \"2115\": {\"frequency\": 1, \"value\": 2115}, \"2120\": {\"frequency\": 111, \"value\": 2120}, \"4170\": {\"frequency\": 6, \"value\": 4170}, \"2744\": {\"frequency\": 1, \"value\": 2744}, \"2130\": {\"frequency\": 94, \"value\": 2130}, \"4180\": {\"frequency\": 7, \"value\": 4180}, \"2134\": {\"frequency\": 1, \"value\": 2134}, \"2140\": {\"frequency\": 78, \"value\": 2140}, \"4190\": {\"frequency\": 6, \"value\": 4190}, \"6240\": {\"frequency\": 1, \"value\": 6240}, \"2145\": {\"frequency\": 1, \"value\": 2145}, \"2150\": {\"frequency\": 85, \"value\": 2150}, \"4200\": {\"frequency\": 6, \"value\": 4200}, \"2153\": {\"frequency\": 1, \"value\": 2153}, \"2154\": {\"frequency\": 2, \"value\": 2154}, \"2155\": {\"frequency\": 1, \"value\": 2155}, \"2156\": {\"frequency\": 1, \"value\": 2156}, \"2160\": {\"frequency\": 96, \"value\": 2160}, \"5480\": {\"frequency\": 4, \"value\": 5480}, \"4210\": {\"frequency\": 7, \"value\": 4210}, \"2163\": {\"frequency\": 2, \"value\": 2163}, \"6260\": {\"frequency\": 1, \"value\": 6260}, \"2166\": {\"frequency\": 1, \"value\": 2166}, \"2168\": {\"frequency\": 2, \"value\": 2168}, \"2170\": {\"frequency\": 80, \"value\": 2170}, \"4220\": {\"frequency\": 8, \"value\": 4220}, \"4225\": {\"frequency\": 1, \"value\": 4225}, \"2180\": {\"frequency\": 89, \"value\": 2180}, \"2181\": {\"frequency\": 1, \"value\": 2181}, \"4230\": {\"frequency\": 11, \"value\": 4230}, \"2185\": {\"frequency\": 1, \"value\": 2185}, \"2190\": {\"frequency\": 92, \"value\": 2190}, \"4240\": {\"frequency\": 7, \"value\": 4240}, \"3960\": {\"frequency\": 11, \"value\": 3960}, \"2195\": {\"frequency\": 1, \"value\": 2195}, \"2196\": {\"frequency\": 1, \"value\": 2196}, \"2414\": {\"frequency\": 1, \"value\": 2414}, \"2198\": {\"frequency\": 1, \"value\": 2198}, \"2200\": {\"frequency\": 93, \"value\": 2200}, \"2201\": {\"frequency\": 1, \"value\": 2201}, \"4250\": {\"frequency\": 10, \"value\": 4250}, \"6300\": {\"frequency\": 1, \"value\": 6300}, \"2206\": {\"frequency\": 1, \"value\": 2206}, \"2208\": {\"frequency\": 1, \"value\": 2208}, \"1392\": {\"frequency\": 1, \"value\": 1392}, \"2210\": {\"frequency\": 74, \"value\": 2210}, \"4260\": {\"frequency\": 6, \"value\": 4260}, \"2216\": {\"frequency\": 1, \"value\": 2216}, \"2217\": {\"frequency\": 1, \"value\": 2217}, \"2220\": {\"frequency\": 75, \"value\": 2220}, \"4270\": {\"frequency\": 11, \"value\": 4270}, \"2223\": {\"frequency\": 1, \"value\": 2223}, \"2229\": {\"frequency\": 1, \"value\": 2229}, \"2230\": {\"frequency\": 82, \"value\": 2230}, \"4280\": {\"frequency\": 9, \"value\": 4280}, \"2233\": {\"frequency\": 1, \"value\": 2233}, \"6330\": {\"frequency\": 1, \"value\": 6330}, \"2235\": {\"frequency\": 1, \"value\": 2235}, \"4285\": {\"frequency\": 2, \"value\": 4285}, \"2238\": {\"frequency\": 1, \"value\": 2238}, \"2240\": {\"frequency\": 101, \"value\": 2240}, \"4290\": {\"frequency\": 7, \"value\": 4290}, \"2244\": {\"frequency\": 1, \"value\": 2244}, \"2245\": {\"frequency\": 2, \"value\": 2245}, \"2250\": {\"frequency\": 68, \"value\": 2250}, \"2251\": {\"frequency\": 1, \"value\": 2251}, \"4300\": {\"frequency\": 8, \"value\": 4300}, \"2253\": {\"frequency\": 1, \"value\": 2253}, \"1741\": {\"frequency\": 2, \"value\": 1741}, \"2257\": {\"frequency\": 1, \"value\": 2257}, \"2259\": {\"frequency\": 1, \"value\": 2259}, \"2260\": {\"frequency\": 79, \"value\": 2260}, \"4310\": {\"frequency\": 5, \"value\": 4310}, \"2267\": {\"frequency\": 1, \"value\": 2267}, \"2270\": {\"frequency\": 62, \"value\": 2270}, \"4133\": {\"frequency\": 1, \"value\": 4133}, \"4320\": {\"frequency\": 9, \"value\": 4320}, \"6370\": {\"frequency\": 1, \"value\": 6370}, \"2280\": {\"frequency\": 81, \"value\": 2280}, \"4330\": {\"frequency\": 4, \"value\": 4330}, \"2283\": {\"frequency\": 1, \"value\": 2283}, \"6380\": {\"frequency\": 1, \"value\": 6380}, \"2286\": {\"frequency\": 1, \"value\": 2286}, \"2290\": {\"frequency\": 80, \"value\": 2290}, \"4340\": {\"frequency\": 8, \"value\": 4340}, \"6390\": {\"frequency\": 1, \"value\": 6390}, \"4168\": {\"frequency\": 1, \"value\": 4168}, \"2298\": {\"frequency\": 1, \"value\": 2298}, \"2300\": {\"frequency\": 84, \"value\": 2300}, \"2301\": {\"frequency\": 1, \"value\": 2301}, \"4350\": {\"frequency\": 7, \"value\": 4350}, \"2303\": {\"frequency\": 3, \"value\": 2303}, \"6400\": {\"frequency\": 1, \"value\": 6400}, \"2305\": {\"frequency\": 1, \"value\": 2305}, \"2310\": {\"frequency\": 59, \"value\": 2310}, \"2311\": {\"frequency\": 1, \"value\": 2311}, \"4360\": {\"frequency\": 9, \"value\": 4360}, \"2092\": {\"frequency\": 1, \"value\": 2092}, \"6410\": {\"frequency\": 1, \"value\": 6410}, \"6530\": {\"frequency\": 1, \"value\": 6530}, \"2320\": {\"frequency\": 90, \"value\": 2320}, \"1752\": {\"frequency\": 1, \"value\": 1752}, \"4370\": {\"frequency\": 8, \"value\": 4370}, \"3118\": {\"frequency\": 1, \"value\": 3118}, \"2329\": {\"frequency\": 2, \"value\": 2329}, \"2330\": {\"frequency\": 76, \"value\": 2330}, \"2331\": {\"frequency\": 1, \"value\": 2331}, \"4380\": {\"frequency\": 7, \"value\": 4380}, \"6430\": {\"frequency\": 1, \"value\": 6430}, \"1072\": {\"frequency\": 1, \"value\": 1072}, \"4386\": {\"frequency\": 1, \"value\": 4386}, \"2340\": {\"frequency\": 80, \"value\": 2340}, \"2341\": {\"frequency\": 1, \"value\": 2341}, \"4390\": {\"frequency\": 7, \"value\": 4390}, \"2344\": {\"frequency\": 2, \"value\": 2344}, \"2350\": {\"frequency\": 74, \"value\": 2350}, \"4400\": {\"frequency\": 5, \"value\": 4400}, \"3488\": {\"frequency\": 1, \"value\": 3488}, \"2738\": {\"frequency\": 1, \"value\": 2738}, \"2360\": {\"frequency\": 75, \"value\": 2360}, \"1076\": {\"frequency\": 1, \"value\": 1076}, \"4410\": {\"frequency\": 12, \"value\": 4410}, \"2370\": {\"frequency\": 75, \"value\": 2370}, \"4420\": {\"frequency\": 9, \"value\": 4420}, \"2375\": {\"frequency\": 1, \"value\": 2375}, \"2380\": {\"frequency\": 64, \"value\": 2380}, \"4430\": {\"frequency\": 6, \"value\": 4430}, \"3470\": {\"frequency\": 21, \"value\": 3470}, \"2390\": {\"frequency\": 85, \"value\": 2390}, \"4440\": {\"frequency\": 7, \"value\": 4440}, \"2393\": {\"frequency\": 1, \"value\": 2393}, \"6490\": {\"frequency\": 1, \"value\": 6490}, \"2395\": {\"frequency\": 1, \"value\": 2395}, \"2398\": {\"frequency\": 1, \"value\": 2398}, \"2400\": {\"frequency\": 84, \"value\": 2400}, \"4450\": {\"frequency\": 2, \"value\": 4450}, \"2403\": {\"frequency\": 1, \"value\": 2403}, \"6500\": {\"frequency\": 1, \"value\": 6500}, \"2406\": {\"frequency\": 1, \"value\": 2406}, \"1084\": {\"frequency\": 1, \"value\": 1084}, \"2410\": {\"frequency\": 57, \"value\": 2410}, \"4460\": {\"frequency\": 9, \"value\": 4460}, \"2413\": {\"frequency\": 1, \"value\": 2413}, \"6510\": {\"frequency\": 1, \"value\": 6510}, \"2415\": {\"frequency\": 1, \"value\": 2415}, \"370\": {\"frequency\": 1, \"value\": 370}, \"2420\": {\"frequency\": 88, \"value\": 2420}, \"4470\": {\"frequency\": 7, \"value\": 4470}, \"2423\": {\"frequency\": 1, \"value\": 2423}, \"2424\": {\"frequency\": 2, \"value\": 2424}, \"2425\": {\"frequency\": 1, \"value\": 2425}, \"4475\": {\"frequency\": 2, \"value\": 4475}, \"380\": {\"frequency\": 1, \"value\": 380}, \"2430\": {\"frequency\": 70, \"value\": 2430}, \"2432\": {\"frequency\": 1, \"value\": 2432}, \"3136\": {\"frequency\": 1, \"value\": 3136}, \"2434\": {\"frequency\": 1, \"value\": 2434}, \"2437\": {\"frequency\": 1, \"value\": 2437}, \"390\": {\"frequency\": 2, \"value\": 390}, \"2440\": {\"frequency\": 87, \"value\": 2440}, \"2441\": {\"frequency\": 1, \"value\": 2441}, \"4490\": {\"frequency\": 8, \"value\": 4490}, \"4495\": {\"frequency\": 1, \"value\": 4495}, \"2448\": {\"frequency\": 1, \"value\": 2448}, \"2450\": {\"frequency\": 52, \"value\": 2450}, \"4500\": {\"frequency\": 8, \"value\": 4500}, \"2798\": {\"frequency\": 2, \"value\": 2798}, \"6550\": {\"frequency\": 1, \"value\": 6550}, \"5810\": {\"frequency\": 1, \"value\": 5810}, \"2456\": {\"frequency\": 1, \"value\": 2456}, \"1092\": {\"frequency\": 1, \"value\": 1092}, \"410\": {\"frequency\": 1, \"value\": 410}, \"2460\": {\"frequency\": 66, \"value\": 2460}, \"4510\": {\"frequency\": 4, \"value\": 4510}, \"6563\": {\"frequency\": 1, \"value\": 6563}, \"420\": {\"frequency\": 2, \"value\": 420}, \"2470\": {\"frequency\": 52, \"value\": 2470}, \"4520\": {\"frequency\": 2, \"value\": 4520}, \"2473\": {\"frequency\": 1, \"value\": 2473}, \"2475\": {\"frequency\": 4, \"value\": 2475}, \"430\": {\"frequency\": 1, \"value\": 430}, \"2480\": {\"frequency\": 65, \"value\": 2480}, \"2481\": {\"frequency\": 1, \"value\": 2481}, \"4530\": {\"frequency\": 2, \"value\": 4530}, \"2483\": {\"frequency\": 2, \"value\": 2483}, \"440\": {\"frequency\": 1, \"value\": 440}, \"3828\": {\"frequency\": 1, \"value\": 3828}, \"2490\": {\"frequency\": 58, \"value\": 2490}, \"4540\": {\"frequency\": 1, \"value\": 4540}, \"2495\": {\"frequency\": 3, \"value\": 2495}, \"2496\": {\"frequency\": 1, \"value\": 2496}, \"2497\": {\"frequency\": 1, \"value\": 2497}, \"2500\": {\"frequency\": 90, \"value\": 2500}, \"1782\": {\"frequency\": 1, \"value\": 1782}, \"4550\": {\"frequency\": 2, \"value\": 4550}, \"3148\": {\"frequency\": 1, \"value\": 3148}, \"2506\": {\"frequency\": 2, \"value\": 2506}, \"2507\": {\"frequency\": 1, \"value\": 2507}, \"460\": {\"frequency\": 1, \"value\": 460}, \"2510\": {\"frequency\": 70, \"value\": 2510}, \"4560\": {\"frequency\": 8, \"value\": 4560}, \"2514\": {\"frequency\": 1, \"value\": 2514}, \"2517\": {\"frequency\": 1, \"value\": 2517}, \"2518\": {\"frequency\": 1, \"value\": 2518}, \"2519\": {\"frequency\": 1, \"value\": 2519}, \"2520\": {\"frequency\": 71, \"value\": 2520}, \"1444\": {\"frequency\": 1, \"value\": 1444}, \"4570\": {\"frequency\": 6, \"value\": 4570}, \"8670\": {\"frequency\": 1, \"value\": 8670}, \"4575\": {\"frequency\": 1, \"value\": 4575}, \"480\": {\"frequency\": 2, \"value\": 480}, \"2529\": {\"frequency\": 1, \"value\": 2529}, \"2530\": {\"frequency\": 48, \"value\": 2530}, \"2531\": {\"frequency\": 1, \"value\": 2531}, \"4580\": {\"frequency\": 2, \"value\": 4580}, \"6630\": {\"frequency\": 1, \"value\": 6630}, \"490\": {\"frequency\": 1, \"value\": 490}, \"2540\": {\"frequency\": 61, \"value\": 2540}, \"4590\": {\"frequency\": 7, \"value\": 4590}, \"6640\": {\"frequency\": 2, \"value\": 6640}, \"2547\": {\"frequency\": 1, \"value\": 2547}, \"500\": {\"frequency\": 1, \"value\": 500}, \"2550\": {\"frequency\": 74, \"value\": 2550}, \"4600\": {\"frequency\": 6, \"value\": 4600}, \"2555\": {\"frequency\": 1, \"value\": 2555}, \"2557\": {\"frequency\": 1, \"value\": 2557}, \"2560\": {\"frequency\": 58, \"value\": 2560}, \"4610\": {\"frequency\": 7, \"value\": 4610}, \"520\": {\"frequency\": 6, \"value\": 520}, \"2570\": {\"frequency\": 62, \"value\": 2570}, \"4620\": {\"frequency\": 3, \"value\": 4620}, \"6670\": {\"frequency\": 1, \"value\": 6670}, \"2575\": {\"frequency\": 1, \"value\": 2575}, \"2577\": {\"frequency\": 1, \"value\": 2577}, \"2578\": {\"frequency\": 1, \"value\": 2578}, \"2580\": {\"frequency\": 51, \"value\": 2580}, \"2478\": {\"frequency\": 1, \"value\": 2478}, \"4630\": {\"frequency\": 2, \"value\": 4630}, \"2584\": {\"frequency\": 1, \"value\": 2584}, \"540\": {\"frequency\": 2, \"value\": 540}, \"2590\": {\"frequency\": 55, \"value\": 2590}, \"4640\": {\"frequency\": 4, \"value\": 4640}, \"2594\": {\"frequency\": 1, \"value\": 2594}, \"4645\": {\"frequency\": 1, \"value\": 4645}, \"550\": {\"frequency\": 4, \"value\": 550}, \"2600\": {\"frequency\": 68, \"value\": 2600}, \"2601\": {\"frequency\": 1, \"value\": 2601}, \"4650\": {\"frequency\": 2, \"value\": 4650}, \"2605\": {\"frequency\": 3, \"value\": 2605}, \"560\": {\"frequency\": 4, \"value\": 560}, \"2610\": {\"frequency\": 51, \"value\": 2610}, \"4660\": {\"frequency\": 6, \"value\": 4660}, \"570\": {\"frequency\": 3, \"value\": 570}, \"2620\": {\"frequency\": 73, \"value\": 2620}, \"1802\": {\"frequency\": 1, \"value\": 1802}, \"4670\": {\"frequency\": 5, \"value\": 4670}, \"2623\": {\"frequency\": 1, \"value\": 2623}, \"580\": {\"frequency\": 5, \"value\": 580}, \"2630\": {\"frequency\": 53, \"value\": 2630}, \"2632\": {\"frequency\": 2, \"value\": 2632}, \"2828\": {\"frequency\": 1, \"value\": 2828}, \"1122\": {\"frequency\": 2, \"value\": 1122}, \"590\": {\"frequency\": 5, \"value\": 590}, \"2640\": {\"frequency\": 50, \"value\": 2640}, \"2641\": {\"frequency\": 2, \"value\": 2641}, \"4690\": {\"frequency\": 5, \"value\": 4690}, \"2643\": {\"frequency\": 1, \"value\": 2643}, \"600\": {\"frequency\": 7, \"value\": 600}, \"3172\": {\"frequency\": 1, \"value\": 3172}, \"2650\": {\"frequency\": 60, \"value\": 2650}, \"4700\": {\"frequency\": 8, \"value\": 4700}, \"2653\": {\"frequency\": 1, \"value\": 2653}, \"2655\": {\"frequency\": 1, \"value\": 2655}, \"2656\": {\"frequency\": 1, \"value\": 2656}, \"610\": {\"frequency\": 4, \"value\": 610}, \"2660\": {\"frequency\": 62, \"value\": 2660}, \"4710\": {\"frequency\": 1, \"value\": 4710}, \"2665\": {\"frequency\": 1, \"value\": 2665}, \"3362\": {\"frequency\": 1, \"value\": 3362}, \"620\": {\"frequency\": 12, \"value\": 620}, \"2669\": {\"frequency\": 1, \"value\": 2669}, \"2670\": {\"frequency\": 46, \"value\": 2670}, \"4720\": {\"frequency\": 4, \"value\": 4720}, \"2675\": {\"frequency\": 1, \"value\": 2675}, \"630\": {\"frequency\": 5, \"value\": 630}, \"2680\": {\"frequency\": 64, \"value\": 2680}, \"1812\": {\"frequency\": 1, \"value\": 1812}, \"4730\": {\"frequency\": 2, \"value\": 4730}, \"2683\": {\"frequency\": 1, \"value\": 2683}, \"640\": {\"frequency\": 5, \"value\": 640}, \"2689\": {\"frequency\": 2, \"value\": 2689}, \"2690\": {\"frequency\": 42, \"value\": 2690}, \"4740\": {\"frequency\": 5, \"value\": 4740}, \"1934\": {\"frequency\": 1, \"value\": 1934}, \"650\": {\"frequency\": 3, \"value\": 650}, \"2700\": {\"frequency\": 58, \"value\": 2700}, \"2701\": {\"frequency\": 2, \"value\": 2701}, \"4750\": {\"frequency\": 5, \"value\": 4750}, \"660\": {\"frequency\": 6, \"value\": 660}, \"2710\": {\"frequency\": 51, \"value\": 2710}, \"4760\": {\"frequency\": 1, \"value\": 4760}, \"2714\": {\"frequency\": 2, \"value\": 2714}, \"2716\": {\"frequency\": 1, \"value\": 2716}, \"2717\": {\"frequency\": 1, \"value\": 2717}, \"670\": {\"frequency\": 25, \"value\": 670}, \"2720\": {\"frequency\": 58, \"value\": 2720}, \"4770\": {\"frequency\": 2, \"value\": 4770}, \"2502\": {\"frequency\": 1, \"value\": 2502}, \"6160\": {\"frequency\": 1, \"value\": 6160}, \"680\": {\"frequency\": 13, \"value\": 680}, \"2730\": {\"frequency\": 48, \"value\": 2730}, \"4780\": {\"frequency\": 2, \"value\": 4780}, \"2734\": {\"frequency\": 1, \"value\": 2734}, \"690\": {\"frequency\": 8, \"value\": 690}, \"2740\": {\"frequency\": 53, \"value\": 2740}, \"4790\": {\"frequency\": 2, \"value\": 4790}, \"6840\": {\"frequency\": 1, \"value\": 6840}, \"700\": {\"frequency\": 36, \"value\": 700}, \"2750\": {\"frequency\": 40, \"value\": 2750}, \"4800\": {\"frequency\": 3, \"value\": 4800}, \"2753\": {\"frequency\": 1, \"value\": 2753}, \"2755\": {\"frequency\": 2, \"value\": 2755}, \"710\": {\"frequency\": 27, \"value\": 710}, \"2760\": {\"frequency\": 43, \"value\": 2760}, \"4810\": {\"frequency\": 2, \"value\": 4810}, \"720\": {\"frequency\": 49, \"value\": 720}, \"3192\": {\"frequency\": 1, \"value\": 3192}, \"2770\": {\"frequency\": 56, \"value\": 2770}, \"4820\": {\"frequency\": 1, \"value\": 4820}, \"730\": {\"frequency\": 14, \"value\": 730}, \"2780\": {\"frequency\": 47, \"value\": 2780}, \"4830\": {\"frequency\": 4, \"value\": 4830}, \"2783\": {\"frequency\": 1, \"value\": 2783}, \"6880\": {\"frequency\": 1, \"value\": 6880}, \"740\": {\"frequency\": 22, \"value\": 740}, \"2789\": {\"frequency\": 1, \"value\": 2789}, \"2790\": {\"frequency\": 52, \"value\": 2790}, \"2793\": {\"frequency\": 1, \"value\": 2793}, \"2795\": {\"frequency\": 1, \"value\": 2795}, \"2796\": {\"frequency\": 1, \"value\": 2796}, \"750\": {\"frequency\": 27, \"value\": 750}, \"2800\": {\"frequency\": 54, \"value\": 2800}, \"4850\": {\"frequency\": 4, \"value\": 4850}, \"2803\": {\"frequency\": 1, \"value\": 2803}, \"6900\": {\"frequency\": 1, \"value\": 6900}, \"2807\": {\"frequency\": 1, \"value\": 2807}, \"760\": {\"frequency\": 25, \"value\": 760}, \"2810\": {\"frequency\": 46, \"value\": 2810}, \"2811\": {\"frequency\": 1, \"value\": 2811}, \"4860\": {\"frequency\": 5, \"value\": 4860}, \"1834\": {\"frequency\": 1, \"value\": 1834}, \"2815\": {\"frequency\": 2, \"value\": 2815}, \"770\": {\"frequency\": 42, \"value\": 770}, \"2820\": {\"frequency\": 54, \"value\": 2820}, \"470\": {\"frequency\": 2, \"value\": 470}, \"4870\": {\"frequency\": 3, \"value\": 4870}, \"780\": {\"frequency\": 26, \"value\": 780}, \"3202\": {\"frequency\": 1, \"value\": 3202}, \"2830\": {\"frequency\": 46, \"value\": 2830}, \"6930\": {\"frequency\": 1, \"value\": 6930}, \"4883\": {\"frequency\": 1, \"value\": 4883}, \"790\": {\"frequency\": 38, \"value\": 790}, \"2840\": {\"frequency\": 49, \"value\": 2840}, \"4890\": {\"frequency\": 3, \"value\": 4890}, \"2844\": {\"frequency\": 1, \"value\": 2844}, \"2846\": {\"frequency\": 1, \"value\": 2846}, \"800\": {\"frequency\": 47, \"value\": 800}, \"2849\": {\"frequency\": 1, \"value\": 2849}, \"2850\": {\"frequency\": 38, \"value\": 2850}, \"809\": {\"frequency\": 1, \"value\": 809}, \"810\": {\"frequency\": 27, \"value\": 810}, \"2860\": {\"frequency\": 39, \"value\": 2860}, \"4910\": {\"frequency\": 4, \"value\": 4910}, \"2864\": {\"frequency\": 1, \"value\": 2864}, \"820\": {\"frequency\": 40, \"value\": 820}, \"1502\": {\"frequency\": 1, \"value\": 1502}, \"2870\": {\"frequency\": 38, \"value\": 2870}, \"4920\": {\"frequency\": 3, \"value\": 4920}, \"828\": {\"frequency\": 1, \"value\": 828}, \"830\": {\"frequency\": 36, \"value\": 830}, \"2880\": {\"frequency\": 46, \"value\": 2880}, \"833\": {\"frequency\": 1, \"value\": 833}, \"4930\": {\"frequency\": 4, \"value\": 4930}, \"6980\": {\"frequency\": 1, \"value\": 6980}, \"2885\": {\"frequency\": 1, \"value\": 2885}, \"840\": {\"frequency\": 56, \"value\": 840}, \"2890\": {\"frequency\": 34, \"value\": 2890}, \"2891\": {\"frequency\": 1, \"value\": 2891}, \"4940\": {\"frequency\": 1, \"value\": 4940}, \"850\": {\"frequency\": 26, \"value\": 850}, \"2900\": {\"frequency\": 35, \"value\": 2900}, \"7000\": {\"frequency\": 1, \"value\": 7000}, \"2905\": {\"frequency\": 1, \"value\": 2905}, \"2906\": {\"frequency\": 1, \"value\": 2906}, \"860\": {\"frequency\": 57, \"value\": 860}, \"2910\": {\"frequency\": 57, \"value\": 2910}, \"4960\": {\"frequency\": 2, \"value\": 4960}, \"2192\": {\"frequency\": 1, \"value\": 2192}, \"1510\": {\"frequency\": 114, \"value\": 1510}, \"870\": {\"frequency\": 36, \"value\": 870}, \"2920\": {\"frequency\": 43, \"value\": 2920}, \"2876\": {\"frequency\": 2, \"value\": 2876}, \"4970\": {\"frequency\": 1, \"value\": 4970}, \"2927\": {\"frequency\": 2, \"value\": 2927}, \"880\": {\"frequency\": 54, \"value\": 880}, \"2930\": {\"frequency\": 37, \"value\": 2930}, \"4980\": {\"frequency\": 2, \"value\": 4980}, \"3030\": {\"frequency\": 45, \"value\": 3030}, \"890\": {\"frequency\": 33, \"value\": 890}, \"2940\": {\"frequency\": 34, \"value\": 2940}, \"2538\": {\"frequency\": 1, \"value\": 2538}, \"894\": {\"frequency\": 1, \"value\": 894}, \"900\": {\"frequency\": 53, \"value\": 900}, \"901\": {\"frequency\": 1, \"value\": 901}, \"2950\": {\"frequency\": 32, \"value\": 2950}, \"5000\": {\"frequency\": 4, \"value\": 5000}, \"7050\": {\"frequency\": 1, \"value\": 7050}, \"3223\": {\"frequency\": 2, \"value\": 3223}, \"910\": {\"frequency\": 60, \"value\": 910}, \"2960\": {\"frequency\": 37, \"value\": 2960}, \"2961\": {\"frequency\": 1, \"value\": 2961}, \"5010\": {\"frequency\": 3, \"value\": 5010}, \"2963\": {\"frequency\": 1, \"value\": 2963}, \"2542\": {\"frequency\": 1, \"value\": 2542}, \"920\": {\"frequency\": 51, \"value\": 920}, \"2970\": {\"frequency\": 29, \"value\": 2970}, \"5020\": {\"frequency\": 3, \"value\": 5020}, \"2544\": {\"frequency\": 1, \"value\": 2544}, \"930\": {\"frequency\": 43, \"value\": 930}, \"2979\": {\"frequency\": 1, \"value\": 2979}, \"2980\": {\"frequency\": 57, \"value\": 2980}, \"5030\": {\"frequency\": 1, \"value\": 5030}, \"7080\": {\"frequency\": 1, \"value\": 7080}, \"940\": {\"frequency\": 62, \"value\": 940}, \"1522\": {\"frequency\": 1, \"value\": 1522}, \"2990\": {\"frequency\": 48, \"value\": 2990}, \"5040\": {\"frequency\": 3, \"value\": 5040}, \"2993\": {\"frequency\": 1, \"value\": 2993}, \"950\": {\"frequency\": 46, \"value\": 950}, \"3000\": {\"frequency\": 40, \"value\": 3000}, \"3001\": {\"frequency\": 1, \"value\": 3001}, \"5050\": {\"frequency\": 4, \"value\": 5050}, \"7100\": {\"frequency\": 1, \"value\": 7100}, \"960\": {\"frequency\": 82, \"value\": 960}, \"3010\": {\"frequency\": 48, \"value\": 3010}, \"1867\": {\"frequency\": 1, \"value\": 1867}, \"5060\": {\"frequency\": 1, \"value\": 5060}, \"844\": {\"frequency\": 1, \"value\": 844}, \"970\": {\"frequency\": 49, \"value\": 970}, \"5067\": {\"frequency\": 1, \"value\": 5067}, \"3020\": {\"frequency\": 41, \"value\": 3020}, \"5070\": {\"frequency\": 1, \"value\": 5070}, \"7120\": {\"frequency\": 1, \"value\": 7120}, \"980\": {\"frequency\": 53, \"value\": 980}, \"982\": {\"frequency\": 1, \"value\": 982}, \"5080\": {\"frequency\": 1, \"value\": 5080}, \"988\": {\"frequency\": 1, \"value\": 988}, \"990\": {\"frequency\": 53, \"value\": 990}, \"3040\": {\"frequency\": 45, \"value\": 3040}, \"5090\": {\"frequency\": 2, \"value\": 5090}, \"3238\": {\"frequency\": 1, \"value\": 3238}, \"998\": {\"frequency\": 2, \"value\": 998}, \"1000\": {\"frequency\": 73, \"value\": 1000}, \"3050\": {\"frequency\": 25, \"value\": 3050}, \"3052\": {\"frequency\": 1, \"value\": 3052}, \"1008\": {\"frequency\": 1, \"value\": 1008}, \"1010\": {\"frequency\": 129, \"value\": 1010}, \"3060\": {\"frequency\": 34, \"value\": 3060}, \"5110\": {\"frequency\": 2, \"value\": 5110}, \"3064\": {\"frequency\": 1, \"value\": 3064}, \"1876\": {\"frequency\": 1, \"value\": 1876}, \"1020\": {\"frequency\": 73, \"value\": 1020}, \"3070\": {\"frequency\": 36, \"value\": 3070}, \"5120\": {\"frequency\": 2, \"value\": 5120}, \"1030\": {\"frequency\": 57, \"value\": 1030}, \"3080\": {\"frequency\": 36, \"value\": 3080}, \"3444\": {\"frequency\": 1, \"value\": 3444}, \"5130\": {\"frequency\": 1, \"value\": 5130}, \"3085\": {\"frequency\": 1, \"value\": 3085}, \"12050\": {\"frequency\": 1, \"value\": 12050}, \"3087\": {\"frequency\": 1, \"value\": 3087}, \"1040\": {\"frequency\": 78, \"value\": 1040}, \"3090\": {\"frequency\": 38, \"value\": 3090}, \"1048\": {\"frequency\": 1, \"value\": 1048}, \"1050\": {\"frequency\": 68, \"value\": 1050}, \"3100\": {\"frequency\": 34, \"value\": 3100}, \"5150\": {\"frequency\": 3, \"value\": 5150}, \"1060\": {\"frequency\": 94, \"value\": 1060}, \"1061\": {\"frequency\": 1, \"value\": 1061}, \"3110\": {\"frequency\": 35, \"value\": 3110}, \"5160\": {\"frequency\": 1, \"value\": 5160}, \"1068\": {\"frequency\": 3, \"value\": 1068}, \"1070\": {\"frequency\": 76, \"value\": 1070}, \"3120\": {\"frequency\": 24, \"value\": 3120}, \"2568\": {\"frequency\": 1, \"value\": 2568}, \"5170\": {\"frequency\": 1, \"value\": 5170}, \"7220\": {\"frequency\": 1, \"value\": 7220}, \"1078\": {\"frequency\": 1, \"value\": 1078}, \"1080\": {\"frequency\": 50, \"value\": 1080}, \"3130\": {\"frequency\": 35, \"value\": 3130}, \"5180\": {\"frequency\": 5, \"value\": 5180}, \"3133\": {\"frequency\": 1, \"value\": 3133}, \"3135\": {\"frequency\": 1, \"value\": 3135}, \"1088\": {\"frequency\": 2, \"value\": 1088}, \"1090\": {\"frequency\": 69, \"value\": 1090}, \"3140\": {\"frequency\": 32, \"value\": 3140}, \"5190\": {\"frequency\": 3, \"value\": 5190}, \"1095\": {\"frequency\": 1, \"value\": 1095}, \"1100\": {\"frequency\": 79, \"value\": 1100}, \"3150\": {\"frequency\": 36, \"value\": 3150}, \"1108\": {\"frequency\": 1, \"value\": 1108}, \"1110\": {\"frequency\": 48, \"value\": 1110}, \"3160\": {\"frequency\": 49, \"value\": 3160}, \"5210\": {\"frequency\": 1, \"value\": 5210}, \"1120\": {\"frequency\": 86, \"value\": 1120}, \"1552\": {\"frequency\": 2, \"value\": 1552}, \"3170\": {\"frequency\": 22, \"value\": 3170}, \"5220\": {\"frequency\": 2, \"value\": 5220}, \"1894\": {\"frequency\": 1, \"value\": 1894}, \"7270\": {\"frequency\": 1, \"value\": 7270}, \"3176\": {\"frequency\": 1, \"value\": 3176}, \"1129\": {\"frequency\": 1, \"value\": 1129}, \"1130\": {\"frequency\": 56, \"value\": 1130}, \"1131\": {\"frequency\": 1, \"value\": 1131}, \"3180\": {\"frequency\": 41, \"value\": 3180}, \"3181\": {\"frequency\": 1, \"value\": 3181}, \"5230\": {\"frequency\": 3, \"value\": 5230}, \"1140\": {\"frequency\": 100, \"value\": 1140}, \"3190\": {\"frequency\": 47, \"value\": 3190}, \"5240\": {\"frequency\": 1, \"value\": 5240}, \"2708\": {\"frequency\": 1, \"value\": 2708}, \"1150\": {\"frequency\": 98, \"value\": 1150}, \"3200\": {\"frequency\": 36, \"value\": 3200}, \"5250\": {\"frequency\": 1, \"value\": 5250}, \"3206\": {\"frequency\": 1, \"value\": 3206}, \"1159\": {\"frequency\": 1, \"value\": 1159}, \"1160\": {\"frequency\": 91, \"value\": 1160}, \"3210\": {\"frequency\": 18, \"value\": 3210}, \"2242\": {\"frequency\": 5, \"value\": 2242}, \"3216\": {\"frequency\": 1, \"value\": 3216}, \"3217\": {\"frequency\": 1, \"value\": 3217}, \"1170\": {\"frequency\": 78, \"value\": 1170}, \"3220\": {\"frequency\": 40, \"value\": 3220}, \"5270\": {\"frequency\": 3, \"value\": 5270}, \"1175\": {\"frequency\": 2, \"value\": 1175}, \"7320\": {\"frequency\": 1, \"value\": 7320}, \"1180\": {\"frequency\": 89, \"value\": 1180}, \"3028\": {\"frequency\": 1, \"value\": 3028}, \"3230\": {\"frequency\": 36, \"value\": 3230}, \"5280\": {\"frequency\": 1, \"value\": 5280}, \"3236\": {\"frequency\": 1, \"value\": 3236}, \"1190\": {\"frequency\": 67, \"value\": 1190}, \"3240\": {\"frequency\": 31, \"value\": 3240}, \"2588\": {\"frequency\": 2, \"value\": 2588}, \"5290\": {\"frequency\": 2, \"value\": 5290}, \"1200\": {\"frequency\": 118, \"value\": 1200}, \"3250\": {\"frequency\": 28, \"value\": 3250}, \"5300\": {\"frequency\": 2, \"value\": 5300}, \"7350\": {\"frequency\": 1, \"value\": 7350}, \"5305\": {\"frequency\": 1, \"value\": 5305}, \"1210\": {\"frequency\": 88, \"value\": 1210}, \"3260\": {\"frequency\": 20, \"value\": 3260}, \"5310\": {\"frequency\": 4, \"value\": 5310}, \"3266\": {\"frequency\": 2, \"value\": 3266}, \"1220\": {\"frequency\": 92, \"value\": 1220}, \"3270\": {\"frequency\": 23, \"value\": 3270}, \"5320\": {\"frequency\": 1, \"value\": 5320}, \"3273\": {\"frequency\": 1, \"value\": 3273}, \"3274\": {\"frequency\": 1, \"value\": 3274}, \"3276\": {\"frequency\": 1, \"value\": 3276}, \"1230\": {\"frequency\": 82, \"value\": 1230}, \"3280\": {\"frequency\": 29, \"value\": 3280}, \"1233\": {\"frequency\": 1, \"value\": 1233}, \"5330\": {\"frequency\": 2, \"value\": 5330}, \"3284\": {\"frequency\": 1, \"value\": 3284}, \"1239\": {\"frequency\": 1, \"value\": 1239}, \"1240\": {\"frequency\": 112, \"value\": 1240}, \"1572\": {\"frequency\": 1, \"value\": 1572}, \"3290\": {\"frequency\": 29, \"value\": 3290}, \"5340\": {\"frequency\": 1, \"value\": 5340}, \"7390\": {\"frequency\": 1, \"value\": 7390}, \"1232\": {\"frequency\": 1, \"value\": 1232}, \"1250\": {\"frequency\": 120, \"value\": 1250}, \"13540\": {\"frequency\": 1, \"value\": 13540}, \"2598\": {\"frequency\": 1, \"value\": 2598}, \"5350\": {\"frequency\": 2, \"value\": 5350}, \"1255\": {\"frequency\": 2, \"value\": 1255}, \"1256\": {\"frequency\": 1, \"value\": 1256}, \"3305\": {\"frequency\": 1, \"value\": 3305}, \"1260\": {\"frequency\": 113, \"value\": 1260}, \"3310\": {\"frequency\": 23, \"value\": 3310}, \"893\": {\"frequency\": 1, \"value\": 893}, \"5360\": {\"frequency\": 1, \"value\": 5360}, \"3316\": {\"frequency\": 1, \"value\": 3316}, \"1270\": {\"frequency\": 102, \"value\": 1270}, \"3320\": {\"frequency\": 36, \"value\": 3320}, \"5370\": {\"frequency\": 5, \"value\": 5370}, \"1275\": {\"frequency\": 1, \"value\": 1275}, \"7420\": {\"frequency\": 1, \"value\": 7420}, \"1278\": {\"frequency\": 1, \"value\": 1278}, \"1280\": {\"frequency\": 100, \"value\": 1280}, \"3330\": {\"frequency\": 21, \"value\": 3330}, \"1290\": {\"frequency\": 74, \"value\": 1290}, \"3340\": {\"frequency\": 22, \"value\": 3340}, \"1295\": {\"frequency\": 1, \"value\": 1295}, \"7440\": {\"frequency\": 1, \"value\": 7440}, \"384\": {\"frequency\": 1, \"value\": 384}, \"1300\": {\"frequency\": 138, \"value\": 1300}, \"3350\": {\"frequency\": 22, \"value\": 3350}, \"5400\": {\"frequency\": 1, \"value\": 5400}, \"5403\": {\"frequency\": 1, \"value\": 5403}, \"1310\": {\"frequency\": 81, \"value\": 1310}, \"3360\": {\"frequency\": 22, \"value\": 3360}, \"3361\": {\"frequency\": 2, \"value\": 3361}, \"5410\": {\"frequency\": 1, \"value\": 5410}, \"1315\": {\"frequency\": 1, \"value\": 1315}, \"902\": {\"frequency\": 1, \"value\": 902}, \"3366\": {\"frequency\": 1, \"value\": 3366}, \"1320\": {\"frequency\": 122, \"value\": 1320}, \"3370\": {\"frequency\": 39, \"value\": 3370}, \"5420\": {\"frequency\": 1, \"value\": 5420}, \"7730\": {\"frequency\": 1, \"value\": 7730}, \"1330\": {\"frequency\": 89, \"value\": 1330}, \"3380\": {\"frequency\": 17, \"value\": 3380}, \"1333\": {\"frequency\": 1, \"value\": 1333}, \"5430\": {\"frequency\": 2, \"value\": 5430}, \"7480\": {\"frequency\": 1, \"value\": 7480}, \"2612\": {\"frequency\": 1, \"value\": 2612}, \"1340\": {\"frequency\": 113, \"value\": 1340}, \"3390\": {\"frequency\": 16, \"value\": 3390}, \"5440\": {\"frequency\": 2, \"value\": 5440}, \"1347\": {\"frequency\": 1, \"value\": 1347}, \"1350\": {\"frequency\": 95, \"value\": 1350}, \"3400\": {\"frequency\": 30, \"value\": 3400}, \"3402\": {\"frequency\": 1, \"value\": 3402}, \"1358\": {\"frequency\": 3, \"value\": 1358}, \"5860\": {\"frequency\": 3, \"value\": 5860}, \"1360\": {\"frequency\": 96, \"value\": 1360}, \"3410\": {\"frequency\": 24, \"value\": 3410}, \"5461\": {\"frequency\": 1, \"value\": 5461}, \"3300\": {\"frequency\": 24, \"value\": 3300}, \"1370\": {\"frequency\": 118, \"value\": 1370}, \"3420\": {\"frequency\": 32, \"value\": 3420}, \"5470\": {\"frequency\": 2, \"value\": 5470}, \"1380\": {\"frequency\": 85, \"value\": 1380}, \"1381\": {\"frequency\": 1, \"value\": 1381}, \"3430\": {\"frequency\": 20, \"value\": 3430}, \"1384\": {\"frequency\": 3, \"value\": 1384}, \"1390\": {\"frequency\": 89, \"value\": 1390}, \"3440\": {\"frequency\": 27, \"value\": 3440}, \"7400\": {\"frequency\": 1, \"value\": 7400}, \"5490\": {\"frequency\": 2, \"value\": 5490}, \"1396\": {\"frequency\": 1, \"value\": 1396}, \"1397\": {\"frequency\": 1, \"value\": 1397}, \"1400\": {\"frequency\": 135, \"value\": 1400}, \"3450\": {\"frequency\": 24, \"value\": 3450}, \"1405\": {\"frequency\": 1, \"value\": 1405}, \"1408\": {\"frequency\": 1, \"value\": 1408}, \"1410\": {\"frequency\": 109, \"value\": 1410}, \"3460\": {\"frequency\": 14, \"value\": 3460}, \"1413\": {\"frequency\": 2, \"value\": 1413}, \"3078\": {\"frequency\": 1, \"value\": 3078}, \"1420\": {\"frequency\": 92, \"value\": 1420}, \"1422\": {\"frequency\": 1, \"value\": 1422}, \"5520\": {\"frequency\": 1, \"value\": 5520}, \"1425\": {\"frequency\": 1, \"value\": 1425}, \"4480\": {\"frequency\": 3, \"value\": 4480}, \"1427\": {\"frequency\": 1, \"value\": 1427}, \"1430\": {\"frequency\": 116, \"value\": 1430}, \"3480\": {\"frequency\": 21, \"value\": 3480}, \"2628\": {\"frequency\": 1, \"value\": 2628}, \"5530\": {\"frequency\": 1, \"value\": 5530}, \"1435\": {\"frequency\": 1, \"value\": 1435}, \"1440\": {\"frequency\": 133, \"value\": 1440}, \"1264\": {\"frequency\": 1, \"value\": 1264}, \"3490\": {\"frequency\": 26, \"value\": 3490}, \"5540\": {\"frequency\": 2, \"value\": 5540}, \"1445\": {\"frequency\": 5, \"value\": 1445}, \"9640\": {\"frequency\": 1, \"value\": 9640}, \"5545\": {\"frequency\": 1, \"value\": 5545}, \"1450\": {\"frequency\": 91, \"value\": 1450}, \"1451\": {\"frequency\": 1, \"value\": 1451}, \"3500\": {\"frequency\": 29, \"value\": 3500}, \"1453\": {\"frequency\": 1, \"value\": 1453}, \"5550\": {\"frequency\": 4, \"value\": 5550}, \"3504\": {\"frequency\": 1, \"value\": 3504}, \"4680\": {\"frequency\": 2, \"value\": 4680}, \"1458\": {\"frequency\": 1, \"value\": 1458}, \"1460\": {\"frequency\": 116, \"value\": 1460}, \"3510\": {\"frequency\": 21, \"value\": 3510}, \"1463\": {\"frequency\": 1, \"value\": 1463}, \"1465\": {\"frequency\": 1, \"value\": 1465}, \"1470\": {\"frequency\": 112, \"value\": 1470}, \"3520\": {\"frequency\": 21, \"value\": 3520}, \"1952\": {\"frequency\": 1, \"value\": 1952}, \"5570\": {\"frequency\": 1, \"value\": 5570}, \"7620\": {\"frequency\": 1, \"value\": 7620}, \"3526\": {\"frequency\": 1, \"value\": 3526}, \"3527\": {\"frequency\": 1, \"value\": 3527}, \"1480\": {\"frequency\": 125, \"value\": 1480}, \"1481\": {\"frequency\": 2, \"value\": 1481}, \"3530\": {\"frequency\": 21, \"value\": 3530}, \"1484\": {\"frequency\": 1, \"value\": 1484}, \"1954\": {\"frequency\": 2, \"value\": 1954}, \"5584\": {\"frequency\": 1, \"value\": 5584}, \"1489\": {\"frequency\": 3, \"value\": 1489}, \"1490\": {\"frequency\": 99, \"value\": 1490}, \"3540\": {\"frequency\": 14, \"value\": 3540}, \"1494\": {\"frequency\": 2, \"value\": 1494}, \"1495\": {\"frequency\": 1, \"value\": 1495}, \"1496\": {\"frequency\": 1, \"value\": 1496}, \"3545\": {\"frequency\": 1, \"value\": 3545}, \"1500\": {\"frequency\": 112, \"value\": 1500}, \"3550\": {\"frequency\": 20, \"value\": 3550}, \"5600\": {\"frequency\": 1, \"value\": 5600}, \"3555\": {\"frequency\": 1, \"value\": 3555}, \"1509\": {\"frequency\": 3, \"value\": 1509}, \"1414\": {\"frequency\": 1, \"value\": 1414}, \"3560\": {\"frequency\": 28, \"value\": 3560}, \"5610\": {\"frequency\": 2, \"value\": 5610}, \"1516\": {\"frequency\": 1, \"value\": 1516}, \"1520\": {\"frequency\": 102, \"value\": 1520}, \"3569\": {\"frequency\": 1, \"value\": 3569}, \"3570\": {\"frequency\": 16, \"value\": 3570}, \"5620\": {\"frequency\": 2, \"value\": 5620}, \"1528\": {\"frequency\": 1, \"value\": 1528}, \"1530\": {\"frequency\": 109, \"value\": 1530}, \"3580\": {\"frequency\": 14, \"value\": 3580}, \"5635\": {\"frequency\": 1, \"value\": 5635}, \"1540\": {\"frequency\": 124, \"value\": 1540}, \"3590\": {\"frequency\": 7, \"value\": 3590}, \"5640\": {\"frequency\": 1, \"value\": 5640}, \"3595\": {\"frequency\": 1, \"value\": 3595}, \"3596\": {\"frequency\": 1, \"value\": 3596}, \"3597\": {\"frequency\": 1, \"value\": 3597}, \"1550\": {\"frequency\": 96, \"value\": 1550}, \"3600\": {\"frequency\": 25, \"value\": 3600}, \"1553\": {\"frequency\": 2, \"value\": 1553}, \"1556\": {\"frequency\": 1, \"value\": 1556}, \"1560\": {\"frequency\": 124, \"value\": 1560}, \"3610\": {\"frequency\": 19, \"value\": 3610}, \"5660\": {\"frequency\": 1, \"value\": 5660}, \"1626\": {\"frequency\": 1, \"value\": 1626}, \"7710\": {\"frequency\": 1, \"value\": 7710}, \"1570\": {\"frequency\": 100, \"value\": 1570}, \"1571\": {\"frequency\": 1, \"value\": 1571}, \"3620\": {\"frequency\": 17, \"value\": 3620}, \"5670\": {\"frequency\": 1, \"value\": 5670}, \"1578\": {\"frequency\": 1, \"value\": 1578}, \"1580\": {\"frequency\": 119, \"value\": 1580}, \"3630\": {\"frequency\": 13, \"value\": 3630}, \"1584\": {\"frequency\": 3, \"value\": 1584}, \"530\": {\"frequency\": 3, \"value\": 530}, \"1212\": {\"frequency\": 1, \"value\": 1212}, \"1590\": {\"frequency\": 104, \"value\": 1590}, \"2313\": {\"frequency\": 1, \"value\": 2313}, \"3640\": {\"frequency\": 13, \"value\": 3640}, \"1594\": {\"frequency\": 1, \"value\": 1594}, \"1600\": {\"frequency\": 109, \"value\": 1600}, \"1601\": {\"frequency\": 1, \"value\": 1601}, \"3650\": {\"frequency\": 19, \"value\": 3650}, \"5700\": {\"frequency\": 1, \"value\": 5700}, \"1606\": {\"frequency\": 1, \"value\": 1606}, \"3655\": {\"frequency\": 1, \"value\": 3655}, \"1608\": {\"frequency\": 3, \"value\": 1608}, \"1610\": {\"frequency\": 112, \"value\": 1610}, \"1611\": {\"frequency\": 1, \"value\": 1611}, \"3660\": {\"frequency\": 10, \"value\": 3660}, \"1613\": {\"frequency\": 1, \"value\": 1613}, \"5710\": {\"frequency\": 1, \"value\": 5710}, \"1615\": {\"frequency\": 1, \"value\": 1615}, \"1620\": {\"frequency\": 99, \"value\": 1620}, \"2452\": {\"frequency\": 1, \"value\": 2452}, \"3670\": {\"frequency\": 15, \"value\": 3670}, \"3672\": {\"frequency\": 1, \"value\": 3672}, \"3674\": {\"frequency\": 1, \"value\": 3674}, \"1628\": {\"frequency\": 1, \"value\": 1628}, \"3002\": {\"frequency\": 1, \"value\": 3002}, \"1630\": {\"frequency\": 94, \"value\": 1630}, \"3680\": {\"frequency\": 21, \"value\": 3680}, \"1296\": {\"frequency\": 1, \"value\": 1296}, \"5730\": {\"frequency\": 1, \"value\": 5730}, \"1852\": {\"frequency\": 2, \"value\": 1852}, \"5510\": {\"frequency\": 1, \"value\": 5510}, \"1639\": {\"frequency\": 1, \"value\": 1639}, \"1640\": {\"frequency\": 112, \"value\": 1640}, \"3004\": {\"frequency\": 1, \"value\": 3004}, \"3690\": {\"frequency\": 12, \"value\": 3690}, \"1643\": {\"frequency\": 1, \"value\": 1643}, \"5740\": {\"frequency\": 1, \"value\": 5740}, \"1646\": {\"frequency\": 3, \"value\": 1646}, \"3695\": {\"frequency\": 1, \"value\": 3695}, \"1650\": {\"frequency\": 117, \"value\": 1650}, \"1651\": {\"frequency\": 2, \"value\": 1651}, \"3700\": {\"frequency\": 18, \"value\": 3700}, \"1982\": {\"frequency\": 1, \"value\": 1982}, \"1654\": {\"frequency\": 2, \"value\": 1654}, \"1656\": {\"frequency\": 1, \"value\": 1656}, \"1657\": {\"frequency\": 1, \"value\": 1657}, \"1658\": {\"frequency\": 1, \"value\": 1658}, \"1252\": {\"frequency\": 1, \"value\": 1252}, \"1660\": {\"frequency\": 129, \"value\": 1660}, \"3710\": {\"frequency\": 10, \"value\": 3710}, \"5760\": {\"frequency\": 1, \"value\": 5760}, \"3691\": {\"frequency\": 1, \"value\": 3691}, \"3056\": {\"frequency\": 1, \"value\": 3056}, \"1670\": {\"frequency\": 109, \"value\": 1670}, \"3720\": {\"frequency\": 23, \"value\": 3720}, \"5770\": {\"frequency\": 3, \"value\": 5770}, \"1676\": {\"frequency\": 1, \"value\": 1676}, \"962\": {\"frequency\": 1, \"value\": 962}, \"5774\": {\"frequency\": 1, \"value\": 5774}, \"1679\": {\"frequency\": 1, \"value\": 1679}, \"1680\": {\"frequency\": 116, \"value\": 1680}, \"3730\": {\"frequency\": 16, \"value\": 3730}, \"5780\": {\"frequency\": 2, \"value\": 5780}, \"1689\": {\"frequency\": 1, \"value\": 1689}, \"1690\": {\"frequency\": 110, \"value\": 1690}, \"3740\": {\"frequency\": 17, \"value\": 3740}, \"5790\": {\"frequency\": 2, \"value\": 5790}, \"2672\": {\"frequency\": 1, \"value\": 2672}, \"9890\": {\"frequency\": 1, \"value\": 9890}, \"1700\": {\"frequency\": 108, \"value\": 1700}, \"3750\": {\"frequency\": 10, \"value\": 3750}, \"3753\": {\"frequency\": 1, \"value\": 3753}, \"7850\": {\"frequency\": 1, \"value\": 7850}, \"1710\": {\"frequency\": 93, \"value\": 1710}, \"3760\": {\"frequency\": 18, \"value\": 3760}, \"1992\": {\"frequency\": 1, \"value\": 1992}, \"1714\": {\"frequency\": 3, \"value\": 1714}, \"1715\": {\"frequency\": 1, \"value\": 1715}, \"1720\": {\"frequency\": 125, \"value\": 1720}, \"3770\": {\"frequency\": 13, \"value\": 3770}, \"5820\": {\"frequency\": 1, \"value\": 5820}, \"1726\": {\"frequency\": 1, \"value\": 1726}, \"1728\": {\"frequency\": 1, \"value\": 1728}, \"1730\": {\"frequency\": 100, \"value\": 1730}, \"3780\": {\"frequency\": 14, \"value\": 3780}, \"2678\": {\"frequency\": 1, \"value\": 2678}, \"5830\": {\"frequency\": 1, \"value\": 5830}, \"1313\": {\"frequency\": 1, \"value\": 1313}, \"7880\": {\"frequency\": 1, \"value\": 7880}, \"3786\": {\"frequency\": 1, \"value\": 3786}, \"1740\": {\"frequency\": 115, \"value\": 1740}, \"290\": {\"frequency\": 1, \"value\": 290}, \"3790\": {\"frequency\": 9, \"value\": 3790}, \"5840\": {\"frequency\": 2, \"value\": 5840}, \"1747\": {\"frequency\": 1, \"value\": 1747}, \"5844\": {\"frequency\": 1, \"value\": 5844}, \"1750\": {\"frequency\": 83, \"value\": 1750}, \"3800\": {\"frequency\": 10, \"value\": 3800}, \"5850\": {\"frequency\": 2, \"value\": 5850}, \"1757\": {\"frequency\": 1, \"value\": 1757}, \"1760\": {\"frequency\": 104, \"value\": 1760}, \"3810\": {\"frequency\": 13, \"value\": 3810}, \"1763\": {\"frequency\": 1, \"value\": 1763}, \"1764\": {\"frequency\": 1, \"value\": 1764}, \"1765\": {\"frequency\": 1, \"value\": 1765}, \"1767\": {\"frequency\": 1, \"value\": 1767}, \"1769\": {\"frequency\": 2, \"value\": 1769}, \"1770\": {\"frequency\": 98, \"value\": 1770}, \"3820\": {\"frequency\": 13, \"value\": 3820}, \"3281\": {\"frequency\": 1, \"value\": 3281}, \"1776\": {\"frequency\": 1, \"value\": 1776}, \"1778\": {\"frequency\": 1, \"value\": 1778}, \"1780\": {\"frequency\": 117, \"value\": 1780}, \"3830\": {\"frequency\": 20, \"value\": 3830}, \"3831\": {\"frequency\": 1, \"value\": 3831}, \"1785\": {\"frequency\": 2, \"value\": 1785}, \"2835\": {\"frequency\": 1, \"value\": 2835}, \"1788\": {\"frequency\": 1, \"value\": 1788}, \"1322\": {\"frequency\": 2, \"value\": 1322}, \"1790\": {\"frequency\": 110, \"value\": 1790}, \"3840\": {\"frequency\": 14, \"value\": 3840}, \"1794\": {\"frequency\": 1, \"value\": 1794}, \"3845\": {\"frequency\": 1, \"value\": 3845}, \"1798\": {\"frequency\": 1, \"value\": 1798}, \"3847\": {\"frequency\": 1, \"value\": 3847}, \"1800\": {\"frequency\": 129, \"value\": 1800}, \"3850\": {\"frequency\": 8, \"value\": 3850}, \"1805\": {\"frequency\": 1, \"value\": 1805}, \"1808\": {\"frequency\": 1, \"value\": 1808}, \"1810\": {\"frequency\": 98, \"value\": 1810}, \"1811\": {\"frequency\": 1, \"value\": 1811}, \"3860\": {\"frequency\": 15, \"value\": 3860}, \"1814\": {\"frequency\": 1, \"value\": 1814}, \"2692\": {\"frequency\": 2, \"value\": 2692}, \"1820\": {\"frequency\": 128, \"value\": 1820}, \"3870\": {\"frequency\": 12, \"value\": 3870}, \"1824\": {\"frequency\": 1, \"value\": 1824}, \"1830\": {\"frequency\": 114, \"value\": 1830}, \"3880\": {\"frequency\": 13, \"value\": 3880}, \"1833\": {\"frequency\": 1, \"value\": 1833}, \"5930\": {\"frequency\": 1, \"value\": 5930}, \"2658\": {\"frequency\": 1, \"value\": 2658}, \"1840\": {\"frequency\": 101, \"value\": 1840}, \"3890\": {\"frequency\": 14, \"value\": 3890}, \"5940\": {\"frequency\": 1, \"value\": 5940}, \"1845\": {\"frequency\": 1, \"value\": 1845}, \"1847\": {\"frequency\": 2, \"value\": 1847}, \"10040\": {\"frequency\": 1, \"value\": 10040}, \"1850\": {\"frequency\": 100, \"value\": 1850}, \"3900\": {\"frequency\": 10, \"value\": 3900}, \"3902\": {\"frequency\": 1, \"value\": 3902}, \"8000\": {\"frequency\": 1, \"value\": 8000}, \"3906\": {\"frequency\": 1, \"value\": 3906}, \"1860\": {\"frequency\": 91, \"value\": 1860}, \"1861\": {\"frequency\": 1, \"value\": 1861}, \"3910\": {\"frequency\": 13, \"value\": 3910}, \"1864\": {\"frequency\": 1, \"value\": 1864}, \"8010\": {\"frequency\": 1, \"value\": 8010}, \"3915\": {\"frequency\": 1, \"value\": 3915}, \"1870\": {\"frequency\": 96, \"value\": 1870}, \"1677\": {\"frequency\": 2, \"value\": 1677}, \"3920\": {\"frequency\": 17, \"value\": 3920}, \"6110\": {\"frequency\": 1, \"value\": 6110}, \"8020\": {\"frequency\": 1, \"value\": 8020}, \"1678\": {\"frequency\": 1, \"value\": 1678}, \"1880\": {\"frequency\": 90, \"value\": 1880}, \"3930\": {\"frequency\": 11, \"value\": 3930}, \"3931\": {\"frequency\": 1, \"value\": 3931}, \"5450\": {\"frequency\": 2, \"value\": 5450}, \"3045\": {\"frequency\": 1, \"value\": 3045}, \"1889\": {\"frequency\": 1, \"value\": 1889}, \"1890\": {\"frequency\": 98, \"value\": 1890}, \"3940\": {\"frequency\": 8, \"value\": 3940}, \"5990\": {\"frequency\": 2, \"value\": 5990}, \"1899\": {\"frequency\": 1, \"value\": 1899}, \"1900\": {\"frequency\": 117, \"value\": 1900}, \"3950\": {\"frequency\": 13, \"value\": 3950}, \"1904\": {\"frequency\": 1, \"value\": 1904}, \"2382\": {\"frequency\": 1, \"value\": 2382}, \"1909\": {\"frequency\": 1, \"value\": 1909}, \"1910\": {\"frequency\": 81, \"value\": 1910}, \"4073\": {\"frequency\": 1, \"value\": 4073}, \"1912\": {\"frequency\": 1, \"value\": 1912}, \"3732\": {\"frequency\": 1, \"value\": 3732}, \"1914\": {\"frequency\": 2, \"value\": 1914}, \"1920\": {\"frequency\": 94, \"value\": 1920}, \"1921\": {\"frequency\": 1, \"value\": 1921}, \"3970\": {\"frequency\": 8, \"value\": 3970}, \"5100\": {\"frequency\": 1, \"value\": 5100}, \"1930\": {\"frequency\": 88, \"value\": 1930}, \"3980\": {\"frequency\": 6, \"value\": 3980}, \"6030\": {\"frequency\": 1, \"value\": 6030}, \"1936\": {\"frequency\": 2, \"value\": 1936}, \"3065\": {\"frequency\": 1, \"value\": 3065}, \"1940\": {\"frequency\": 101, \"value\": 1940}, \"3990\": {\"frequency\": 16, \"value\": 3990}, \"6040\": {\"frequency\": 1, \"value\": 6040}, \"1946\": {\"frequency\": 1, \"value\": 1946}, \"6810\": {\"frequency\": 1, \"value\": 6810}, \"1950\": {\"frequency\": 92, \"value\": 1950}, \"4000\": {\"frequency\": 7, \"value\": 4000}, \"9200\": {\"frequency\": 1, \"value\": 9200}, \"6050\": {\"frequency\": 2, \"value\": 6050}, \"6055\": {\"frequency\": 1, \"value\": 6055}, \"1960\": {\"frequency\": 110, \"value\": 1960}, \"1961\": {\"frequency\": 1, \"value\": 1961}, \"4010\": {\"frequency\": 12, \"value\": 4010}, \"1964\": {\"frequency\": 1, \"value\": 1964}, \"1352\": {\"frequency\": 1, \"value\": 1352}, \"1970\": {\"frequency\": 84, \"value\": 1970}, \"4020\": {\"frequency\": 9, \"value\": 4020}, \"2718\": {\"frequency\": 1, \"value\": 2718}, \"6070\": {\"frequency\": 2, \"value\": 6070}, \"1975\": {\"frequency\": 1, \"value\": 1975}, \"1979\": {\"frequency\": 1, \"value\": 1979}, \"1980\": {\"frequency\": 105, \"value\": 1980}, \"1981\": {\"frequency\": 2, \"value\": 1981}, \"4030\": {\"frequency\": 11, \"value\": 4030}, \"1983\": {\"frequency\": 1, \"value\": 1983}, \"1984\": {\"frequency\": 3, \"value\": 1984}, \"1986\": {\"frequency\": 1, \"value\": 1986}, \"1987\": {\"frequency\": 1, \"value\": 1987}, \"6085\": {\"frequency\": 1, \"value\": 6085}, \"1990\": {\"frequency\": 85, \"value\": 1990}, \"4040\": {\"frequency\": 14, \"value\": 4040}, \"1995\": {\"frequency\": 4, \"value\": 1995}, \"1996\": {\"frequency\": 1, \"value\": 1996}, \"5960\": {\"frequency\": 2, \"value\": 5960}, \"2000\": {\"frequency\": 103, \"value\": 2000}, \"4050\": {\"frequency\": 8, \"value\": 4050}, \"2005\": {\"frequency\": 1, \"value\": 2005}, \"2007\": {\"frequency\": 1, \"value\": 2007}, \"2008\": {\"frequency\": 1, \"value\": 2008}, \"2009\": {\"frequency\": 2, \"value\": 2009}, \"2010\": {\"frequency\": 77, \"value\": 2010}, \"4060\": {\"frequency\": 13, \"value\": 4060}, \"2014\": {\"frequency\": 1, \"value\": 2014}, \"2015\": {\"frequency\": 1, \"value\": 2015}, \"4065\": {\"frequency\": 1, \"value\": 4065}, \"2019\": {\"frequency\": 1, \"value\": 2019}, \"2020\": {\"frequency\": 104, \"value\": 2020}, \"4070\": {\"frequency\": 10, \"value\": 4070}, \"5720\": {\"frequency\": 1, \"value\": 5720}, \"2025\": {\"frequency\": 1, \"value\": 2025}, \"2026\": {\"frequency\": 1, \"value\": 2026}, \"2029\": {\"frequency\": 1, \"value\": 2029}, \"2030\": {\"frequency\": 78, \"value\": 2030}, \"2031\": {\"frequency\": 1, \"value\": 2031}, \"4080\": {\"frequency\": 7, \"value\": 4080}, \"2034\": {\"frequency\": 1, \"value\": 2034}, \"4083\": {\"frequency\": 1, \"value\": 4083}, \"2038\": {\"frequency\": 1, \"value\": 2038}, \"2040\": {\"frequency\": 104, \"value\": 2040}, \"4090\": {\"frequency\": 8, \"value\": 4090}, \"2044\": {\"frequency\": 1, \"value\": 2044}, \"1365\": {\"frequency\": 1, \"value\": 1365}}, \"mean\": 2079.8997362698346}, \"bedrooms\": {\"complete\": true, \"numeric\": false, \"num_unique\": 13, \"num_undefined\": 0, \"progress\": 1.0, \"frequent_items\": {\"11\": {\"frequency\": 1, \"value\": \"11\"}, \"10\": {\"frequency\": 3, \"value\": \"10\"}, \"33\": {\"frequency\": 1, \"value\": \"33\"}, \"1\": {\"frequency\": 199, \"value\": \"1\"}, \"0\": {\"frequency\": 13, \"value\": \"0\"}, \"3\": {\"frequency\": 9824, \"value\": \"3\"}, \"2\": {\"frequency\": 2760, \"value\": \"2\"}, \"5\": {\"frequency\": 1601, \"value\": \"5\"}, \"4\": {\"frequency\": 6882, \"value\": \"4\"}, \"7\": {\"frequency\": 38, \"value\": \"7\"}, \"6\": {\"frequency\": 272, \"value\": \"6\"}, \"9\": {\"frequency\": 6, \"value\": \"9\"}, \"8\": {\"frequency\": 13, \"value\": \"8\"}}, \"size\": 21613}, \"floors\": {\"complete\": true, \"numeric\": false, \"num_unique\": 6, \"num_undefined\": 0, \"progress\": 1.0, \"frequent_items\": {\"1.5\": {\"frequency\": 1910, \"value\": \"1.5\"}, \"1\": {\"frequency\": 10680, \"value\": \"1\"}, \"3\": {\"frequency\": 613, \"value\": \"3\"}, \"2\": {\"frequency\": 8241, \"value\": \"2\"}, \"3.5\": {\"frequency\": 8, \"value\": \"3.5\"}, \"2.5\": {\"frequency\": 161, \"value\": \"2.5\"}}, \"size\": 21613}, \"bathrooms\": {\"complete\": true, \"numeric\": false, \"num_unique\": 30, \"num_undefined\": 0, \"progress\": 1.0, \"frequent_items\": {\"1.5\": {\"frequency\": 1446, \"value\": \"1.5\"}, \"3.75\": {\"frequency\": 155, \"value\": \"3.75\"}, \"0.5\": {\"frequency\": 4, \"value\": \"0.5\"}, \"5.25\": {\"frequency\": 13, \"value\": \"5.25\"}, \"3.5\": {\"frequency\": 731, \"value\": \"3.5\"}, \"7.5\": {\"frequency\": 1, \"value\": \"7.5\"}, \"2.5\": {\"frequency\": 5380, \"value\": \"2.5\"}, \"4.5\": {\"frequency\": 100, \"value\": \"4.5\"}, \"5.5\": {\"frequency\": 10, \"value\": \"5.5\"}, \"1.75\": {\"frequency\": 3048, \"value\": \"1.75\"}, \"2.75\": {\"frequency\": 1185, \"value\": \"2.75\"}, \"5.75\": {\"frequency\": 4, \"value\": \"5.75\"}, \"1\": {\"frequency\": 3852, \"value\": \"1\"}, \"0\": {\"frequency\": 10, \"value\": \"0\"}, \"3\": {\"frequency\": 753, \"value\": \"3\"}, \"2\": {\"frequency\": 1930, \"value\": \"2\"}, \"3.25\": {\"frequency\": 589, \"value\": \"3.25\"}, \"4\": {\"frequency\": 136, \"value\": \"4\"}, \"6\": {\"frequency\": 6, \"value\": \"6\"}, \"5\": {\"frequency\": 21, \"value\": \"5\"}, \"6.25\": {\"frequency\": 2, \"value\": \"6.25\"}, \"6.75\": {\"frequency\": 2, \"value\": \"6.75\"}, \"0.75\": {\"frequency\": 72, \"value\": \"0.75\"}, \"8\": {\"frequency\": 2, \"value\": \"8\"}, \"4.25\": {\"frequency\": 79, \"value\": \"4.25\"}, \"4.75\": {\"frequency\": 23, \"value\": \"4.75\"}, \"6.5\": {\"frequency\": 2, \"value\": \"6.5\"}, \"7.75\": {\"frequency\": 1, \"value\": \"7.75\"}, \"1.25\": {\"frequency\": 9, \"value\": \"1.25\"}, \"2.25\": {\"frequency\": 2047, \"value\": \"2.25\"}}, \"size\": 21613}, \"zipcode\": {\"complete\": true, \"numeric\": false, \"num_unique\": 70, \"num_undefined\": 0, \"progress\": 1.0, \"frequent_items\": {\"98019\": {\"frequency\": 190, \"value\": \"98019\"}, \"98039\": {\"frequency\": 50, \"value\": \"98039\"}, \"98038\": {\"frequency\": 590, \"value\": \"98038\"}, \"98118\": {\"frequency\": 508, \"value\": \"98118\"}, \"98119\": {\"frequency\": 184, \"value\": \"98119\"}, \"98116\": {\"frequency\": 330, \"value\": \"98116\"}, \"98117\": {\"frequency\": 553, \"value\": \"98117\"}, \"98011\": {\"frequency\": 195, \"value\": \"98011\"}, \"98115\": {\"frequency\": 583, \"value\": \"98115\"}, \"98112\": {\"frequency\": 269, \"value\": \"98112\"}, \"98030\": {\"frequency\": 256, \"value\": \"98030\"}, \"98033\": {\"frequency\": 432, \"value\": \"98033\"}, \"98032\": {\"frequency\": 125, \"value\": \"98032\"}, \"98092\": {\"frequency\": 351, \"value\": \"98092\"}, \"98058\": {\"frequency\": 455, \"value\": \"98058\"}, \"98003\": {\"frequency\": 280, \"value\": \"98003\"}, \"98198\": {\"frequency\": 280, \"value\": \"98198\"}, \"98199\": {\"frequency\": 317, \"value\": \"98199\"}, \"98077\": {\"frequency\": 198, \"value\": \"98077\"}, \"98004\": {\"frequency\": 317, \"value\": \"98004\"}, \"98005\": {\"frequency\": 168, \"value\": \"98005\"}, \"98006\": {\"frequency\": 498, \"value\": \"98006\"}, \"98007\": {\"frequency\": 141, \"value\": \"98007\"}, \"98001\": {\"frequency\": 362, \"value\": \"98001\"}, \"98002\": {\"frequency\": 199, \"value\": \"98002\"}, \"98065\": {\"frequency\": 310, \"value\": \"98065\"}, \"98040\": {\"frequency\": 282, \"value\": \"98040\"}, \"98166\": {\"frequency\": 254, \"value\": \"98166\"}, \"98042\": {\"frequency\": 548, \"value\": \"98042\"}, \"98008\": {\"frequency\": 283, \"value\": \"98008\"}, \"98045\": {\"frequency\": 221, \"value\": \"98045\"}, \"98144\": {\"frequency\": 343, \"value\": \"98144\"}, \"98027\": {\"frequency\": 412, \"value\": \"98027\"}, \"98010\": {\"frequency\": 100, \"value\": \"98010\"}, \"98109\": {\"frequency\": 109, \"value\": \"98109\"}, \"98108\": {\"frequency\": 186, \"value\": \"98108\"}, \"98028\": {\"frequency\": 283, \"value\": \"98028\"}, \"98029\": {\"frequency\": 321, \"value\": \"98029\"}, \"98105\": {\"frequency\": 229, \"value\": \"98105\"}, \"98122\": {\"frequency\": 290, \"value\": \"98122\"}, \"98024\": {\"frequency\": 81, \"value\": \"98024\"}, \"98146\": {\"frequency\": 288, \"value\": \"98146\"}, \"98022\": {\"frequency\": 234, \"value\": \"98022\"}, \"98126\": {\"frequency\": 354, \"value\": \"98126\"}, \"98103\": {\"frequency\": 602, \"value\": \"98103\"}, \"98023\": {\"frequency\": 499, \"value\": \"98023\"}, \"98125\": {\"frequency\": 410, \"value\": \"98125\"}, \"98148\": {\"frequency\": 57, \"value\": \"98148\"}, \"98031\": {\"frequency\": 274, \"value\": \"98031\"}, \"98102\": {\"frequency\": 105, \"value\": \"98102\"}, \"98188\": {\"frequency\": 136, \"value\": \"98188\"}, \"98034\": {\"frequency\": 545, \"value\": \"98034\"}, \"98106\": {\"frequency\": 335, \"value\": \"98106\"}, \"98014\": {\"frequency\": 124, \"value\": \"98014\"}, \"98107\": {\"frequency\": 266, \"value\": \"98107\"}, \"98155\": {\"frequency\": 446, \"value\": \"98155\"}, \"98052\": {\"frequency\": 574, \"value\": \"98052\"}, \"98178\": {\"frequency\": 262, \"value\": \"98178\"}, \"98070\": {\"frequency\": 118, \"value\": \"98070\"}, \"98136\": {\"frequency\": 263, \"value\": \"98136\"}, \"98072\": {\"frequency\": 273, \"value\": \"98072\"}, \"98075\": {\"frequency\": 359, \"value\": \"98075\"}, \"98074\": {\"frequency\": 441, \"value\": \"98074\"}, \"98059\": {\"frequency\": 468, \"value\": \"98059\"}, \"98133\": {\"frequency\": 494, \"value\": \"98133\"}, \"98056\": {\"frequency\": 406, \"value\": \"98056\"}, \"98055\": {\"frequency\": 268, \"value\": \"98055\"}, \"98053\": {\"frequency\": 405, \"value\": \"98053\"}, \"98168\": {\"frequency\": 269, \"value\": \"98168\"}, \"98177\": {\"frequency\": 255, \"value\": \"98177\"}}, \"size\": 21613}}, \"selected_variable\": {\"name\": [\"<SFrame>\"], \"descriptives\": {\"rows\": 21613, \"columns\": 5}, \"view_component\": \"Summary\", \"view_file\": \"sframe\", \"view_params\": {\"y\": null, \"x\": null, \"columns\": [\"bedrooms\", \"bathrooms\", \"sqft_living\", \"floors\", \"zipcode\"], \"view\": null}, \"view_components\": [\"Summary\", \"Table\", \"Bar Chart\", \"BoxWhisker Plot\", \"Line Chart\", \"Scatter Plot\", \"Heat Map\", \"Plots\"], \"type\": \"SFrame\", \"columns\": [{\"dtype\": \"str\", \"name\": \"bedrooms\"}, {\"dtype\": \"str\", \"name\": \"bathrooms\"}, {\"dtype\": \"int\", \"name\": \"sqft_living\"}, {\"dtype\": \"str\", \"name\": \"floors\"}, {\"dtype\": \"str\", \"name\": \"zipcode\"}], \"column_identifiers\": [\"sqft_living\", \"bedrooms\", \"floors\", \"bathrooms\", \"zipcode\"]}, \"columns\": [{\"dtype\": \"str\", \"name\": \"bedrooms\"}, {\"dtype\": \"str\", \"name\": \"bathrooms\"}, {\"dtype\": \"int\", \"name\": \"sqft_living\"}, {\"dtype\": \"str\", \"name\": \"floors\"}, {\"dtype\": \"str\", \"name\": \"zipcode\"}]}, e);\n",
       "                });\n",
       "            })();\n",
       "        "
      ]
     },
     "metadata": {},
     "output_type": "display_data"
    }
   ],
   "source": [
    "sales[my_features].show()"
   ]
  },
  {
   "cell_type": "code",
   "execution_count": 26,
   "metadata": {
    "collapsed": false
   },
   "outputs": [
    {
     "data": {
      "application/javascript": [
       "$(\"head\").append($(\"<link/>\").attr({\n",
       "  rel:  \"stylesheet\",\n",
       "  type: \"text/css\",\n",
       "  href: \"//cdnjs.cloudflare.com/ajax/libs/font-awesome/4.1.0/css/font-awesome.min.css\"\n",
       "}));\n",
       "$(\"head\").append($(\"<link/>\").attr({\n",
       "  rel:  \"stylesheet\",\n",
       "  type: \"text/css\",\n",
       "  href: \"//dato.com/files/canvas/1.8.1/css/canvas.css\"\n",
       "}));\n",
       "\n",
       "            (function(){\n",
       "\n",
       "                var e = null;\n",
       "                if (typeof element == 'undefined') {\n",
       "                    var scripts = document.getElementsByTagName('script');\n",
       "                    var thisScriptTag = scripts[scripts.length-1];\n",
       "                    var parentDiv = thisScriptTag.parentNode;\n",
       "                    e = document.createElement('div');\n",
       "                    parentDiv.appendChild(e);\n",
       "                } else {\n",
       "                    e = element[0];\n",
       "                }\n",
       "\n",
       "                if (typeof requirejs !== 'undefined') {\n",
       "                    // disable load timeout; ipython_app.js is large and can take a while to load.\n",
       "                    requirejs.config({waitSeconds: 0});\n",
       "                }\n",
       "\n",
       "                require(['//dato.com/files/canvas/1.8.1/js/ipython_app.js'], function(IPythonApp){\n",
       "                    var app = new IPythonApp();\n",
       "                    app.attachView('sframe','Plots', {\"selected_variable\": {\"name\": [\"sales\"], \"descriptives\": {\"rows\": 21613, \"columns\": 21}, \"view_component\": \"Plots\", \"view_file\": \"sframe\", \"view_params\": {\"y\": \"price\", \"x\": \"zipcode\", \"columns\": [\"id\", \"date\", \"price\", \"bedrooms\", \"bathrooms\", \"sqft_living\", \"sqft_lot\", \"floors\", \"waterfront\", \"view\", \"condition\", \"grade\", \"sqft_above\", \"sqft_basement\", \"yr_built\", \"yr_renovated\", \"zipcode\", \"lat\", \"long\", \"sqft_living15\", \"sqft_lot15\"], \"view\": \"BoxWhisker Plot\"}, \"view_components\": [\"Summary\", \"Table\", \"Bar Chart\", \"BoxWhisker Plot\", \"Line Chart\", \"Scatter Plot\", \"Heat Map\", \"Plots\"], \"type\": \"SFrame\", \"columns\": [{\"dtype\": \"str\", \"name\": \"id\"}, {\"dtype\": \"datetime\", \"name\": \"date\"}, {\"dtype\": \"int\", \"name\": \"price\"}, {\"dtype\": \"str\", \"name\": \"bedrooms\"}, {\"dtype\": \"str\", \"name\": \"bathrooms\"}, {\"dtype\": \"int\", \"name\": \"sqft_living\"}, {\"dtype\": \"int\", \"name\": \"sqft_lot\"}, {\"dtype\": \"str\", \"name\": \"floors\"}, {\"dtype\": \"int\", \"name\": \"waterfront\"}, {\"dtype\": \"int\", \"name\": \"view\"}, {\"dtype\": \"int\", \"name\": \"condition\"}, {\"dtype\": \"int\", \"name\": \"grade\"}, {\"dtype\": \"int\", \"name\": \"sqft_above\"}, {\"dtype\": \"int\", \"name\": \"sqft_basement\"}, {\"dtype\": \"int\", \"name\": \"yr_built\"}, {\"dtype\": \"int\", \"name\": \"yr_renovated\"}, {\"dtype\": \"str\", \"name\": \"zipcode\"}, {\"dtype\": \"float\", \"name\": \"lat\"}, {\"dtype\": \"float\", \"name\": \"long\"}, {\"dtype\": \"float\", \"name\": \"sqft_living15\"}, {\"dtype\": \"float\", \"name\": \"sqft_lot15\"}], \"column_identifiers\": [\"bathrooms\", \"sqft_living15\", \"sqft_above\", \"grade\", \"yr_built\", \"price\", \"bedrooms\", \"zipcode\", \"long\", \"id\", \"sqft_lot15\", \"sqft_living\", \"floors\", \"sqft_lot\", \"date\", \"waterfront\", \"sqft_basement\", \"yr_renovated\", \"lat\", \"condition\", \"view\"]}, \"complete\": 1, \"ipython\": true, \"progress\": 1.0, \"data\": {\"grouped\": [[\"98001\", [100000.0, 115000.0, 180000.0, 184000.0, 215000.0, 260000.0, 320000.0, 420000.0, 427000.0, 625000.0, 850000.0]], [\"98002\", [95000.0, 111300.0, 160000.0, 163500.0, 199950.0, 235000.0, 269000.0, 298900.0, 300000.0, 370000.0, 389000.0]], [\"98003\", [128000.0, 152500.0, 199000.0, 200000.0, 229000.0, 267950.0, 333000.0, 420000.0, 429900.0, 740000.0, 950000.0]], [\"98004\", [425000.0, 595000.0, 695000.0, 720000.0, 845000.0, 1150000.0, 1691000.0, 2150000.0, 2200000.0, 3800000.0, 7062500.0]], [\"98005\", [400000.0, 411100.0, 542500.0, 549000.0, 638700.0, 768500.0, 915000.0, 1110000.0, 1125000.0, 1900000.0, 1960000.0]], [\"98006\", [247500.0, 295000.0, 450000.0, 455000.0, 575000.0, 760369.0, 978000.0, 1380000.0, 1400000.0, 2525000.0, 4208000.0]], [\"98007\", [295000.0, 330000.0, 415500.0, 419000.0, 465000.0, 555000.0, 730000.0, 900000.0, 907500.0, 1229000.0, 1315000.0]], [\"98008\", [250000.0, 277700.0, 405000.0, 415000.0, 465000.0, 545000.0, 660000.0, 850000.0, 899000.0, 3300000.0, 3567000.0]], [\"98010\", [135000.0, 162000.0, 208500.0, 212644.0, 257000.0, 360000.0, 600000.0, 712000.0, 720000.0, 935000.0, 935000.0]], [\"98011\", [245500.0, 260000.0, 347000.0, 361000.0, 411800.0, 470000.0, 550000.0, 632000.0, 650000.0, 870000.0, 1075000.0]], [\"98014\", [80000.0, 134000.0, 167000.0, 180000.0, 309000.0, 415000.0, 539000.0, 739000.0, 755000.0, 1610000.0, 1680000.0]], [\"98019\", [119500.0, 170000.0, 289275.0, 299950.0, 330000.0, 402500.0, 500000.0, 570000.0, 570000.0, 979500.0, 1015000.0]], [\"98022\", [75000.0, 152900.0, 199990.0, 200000.0, 235000.0, 280000.0, 350000.0, 475000.0, 487000.0, 750000.0, 858000.0]], [\"98023\", [86500.0, 115000.0, 188000.0, 193000.0, 224097.0, 268450.0, 316500.0, 402500.0, 415000.0, 629000.0, 1275000.0]], [\"98024\", [142000.0, 142000.0, 258000.0, 260000.0, 340000.0, 460000.0, 700000.0, 997950.0, 1065000.0, 1862000.0, 1862000.0]], [\"98027\", [130000.0, 240000.0, 352499.0, 361000.0, 450000.0, 571000.0, 716500.0, 865000.0, 890000.0, 1800000.0, 2700000.0]], [\"98028\", [160000.0, 196000.0, 300000.0, 310000.0, 379950.0, 445000.0, 526750.0, 610000.0, 619990.0, 1120000.0, 1600000.0]], [\"98029\", [285000.0, 310000.0, 413565.0, 420000.0, 485000.0, 575000.0, 690000.0, 795000.0, 812000.0, 1450000.0, 2200000.0]], [\"98030\", [120000.0, 140000.0, 213400.0, 220000.0, 249950.0, 282510.0, 339950.0, 380000.0, 386000.0, 491000.0, 565000.0]], [\"98031\", [147500.0, 152000.0, 223000.0, 230000.0, 252000.0, 288400.0, 327500.0, 377000.0, 382500.0, 680000.0, 800000.0]], [\"98032\", [85000.0, 85000.0, 165000.0, 169000.0, 221700.0, 249000.0, 285000.0, 321000.0, 324900.0, 400000.0, 545000.0]], [\"98033\", [130000.0, 305000.0, 425000.0, 437500.0, 535000.0, 678700.0, 902000.0, 1339000.0, 1378000.0, 2650000.0, 5110800.0]], [\"98034\", [90000.0, 257000.0, 330000.0, 335000.0, 387000.0, 445950.0, 525000.0, 749950.0, 799950.0, 2125000.0, 3120000.0]], [\"98038\", [110000.0, 176000.0, 240000.0, 245000.0, 285000.0, 342000.0, 410000.0, 533000.0, 540000.0, 849000.0, 1350000.0]], [\"98039\", [787500.0, 787500.0, 940000.0, 1000000.0, 1398000.0, 1905000.0, 2575000.0, 3640900.0, 3640900.0, 6885000.0, 6885000.0]], [\"98040\", [500000.0, 550000.0, 685000.0, 698000.0, 821000.0, 994000.0, 1387000.0, 1815000.0, 1900000.0, 3850000.0, 5300000.0]], [\"98042\", [105000.0, 132825.0, 200000.0, 204000.0, 240000.0, 292500.0, 359950.0, 444900.0, 450000.0, 734000.0, 859000.0]], [\"98045\", [175000.0, 189000.0, 259000.0, 271000.0, 305000.0, 399500.0, 495000.0, 665000.0, 688000.0, 1075000.0, 1950000.0]], [\"98052\", [225000.0, 315000.0, 425000.0, 432100.0, 509250.0, 615000.0, 751000.0, 852500.0, 872750.0, 1299888.0, 2200000.0]], [\"98053\", [170000.0, 300000.0, 400000.0, 405000.0, 485000.0, 635000.0, 790500.0, 955990.0, 975000.0, 1769000.0, 2280000.0]], [\"98055\", [100000.0, 126000.0, 192000.0, 197500.0, 240000.0, 295000.0, 350000.0, 430000.0, 440000.0, 580000.0, 631000.0]], [\"98056\", [139000.0, 155000.0, 230000.0, 231500.0, 289000.0, 380000.0, 510000.0, 635000.0, 640000.0, 980000.0, 3000000.0]], [\"98058\", [95000.0, 144000.0, 225000.0, 230000.0, 285000.0, 335000.0, 392000.0, 475000.0, 485000.0, 790000.0, 1500000.0]], [\"98059\", [172500.0, 217000.0, 291375.0, 294500.0, 340000.0, 435000.0, 552500.0, 751000.0, 785000.0, 1300000.0, 1780000.0]], [\"98065\", [170000.0, 208000.0, 323000.0, 335000.0, 424950.0, 500000.0, 619000.0, 710000.0, 723000.0, 1145000.0, 1998000.0]], [\"98070\", [160000.0, 181000.0, 280000.0, 285000.0, 340000.0, 465000.0, 575000.0, 729000.0, 730000.0, 1350000.0, 1379900.0]], [\"98072\", [200000.0, 275000.0, 357823.0, 365000.0, 422800.0, 515000.0, 642860.0, 879000.0, 905000.0, 1350000.0, 1565000.0]], [\"98074\", [280000.0, 325000.0, 420000.0, 434900.0, 532000.0, 642000.0, 798000.0, 922755.0, 929000.0, 1675000.0, 3075000.0]], [\"98075\", [406430.0, 432000.0, 545000.0, 550000.0, 641000.0, 739999.0, 870000.0, 1060000.0, 1062500.0, 2000000.0, 3200000.0]], [\"98077\", [250000.0, 274975.0, 335000.0, 353000.0, 510000.0, 654950.0, 835000.0, 950000.0, 985000.0, 1820000.0, 1920000.0]], [\"98092\", [90000.0, 148226.0, 210000.0, 216000.0, 263950.0, 309780.0, 379500.0, 471275.0, 480000.0, 835000.0, 930000.0]], [\"98102\", [330000.0, 350000.0, 440000.0, 475000.0, 575000.0, 720000.0, 979700.0, 1440000.0, 1443917.0, 2479000.0, 7700000.0]], [\"98103\", [238000.0, 259250.0, 352950.0, 355000.0, 432000.0, 550000.0, 695000.0, 830000.0, 850000.0, 1350000.0, 1695000.0]], [\"98105\", [380000.0, 395000.0, 483000.0, 485000.0, 550000.0, 675000.0, 1005000.0, 1415000.0, 1482500.0, 2555000.0, 3650000.0]], [\"98106\", [90000.0, 107000.0, 208400.0, 210000.0, 260000.0, 315000.0, 366000.0, 426000.0, 435000.0, 625000.0, 795000.0]], [\"98107\", [290000.0, 356000.0, 425000.0, 430000.0, 470000.0, 529950.0, 630000.0, 752500.0, 769950.0, 1205000.0, 2945000.0]], [\"98108\", [90000.0, 130000.0, 230000.0, 230000.0, 284000.0, 345000.0, 425000.0, 491000.0, 500000.0, 635000.0, 640000.0]], [\"98109\", [216650.0, 216650.0, 478000.0, 479000.0, 620000.0, 736000.0, 1000000.0, 1450000.0, 1450000.0, 2900000.0, 3200000.0]], [\"98112\", [169317.0, 350000.0, 515000.0, 524000.0, 680000.0, 915000.0, 1328000.0, 1975000.0, 2048000.0, 3000000.0, 3400000.0]], [\"98115\", [200000.0, 289500.0, 395000.0, 399000.0, 455000.0, 567000.0, 719000.0, 897000.0, 925000.0, 1500000.0, 2300000.0]], [\"98116\", [130000.0, 252000.0, 386950.0, 390000.0, 460000.0, 565500.0, 703000.0, 930000.0, 950000.0, 1598888.0, 2050000.0]], [\"98117\", [125000.0, 280000.0, 375000.0, 390000.0, 450000.0, 544000.0, 657500.0, 825000.0, 850000.0, 1275000.0, 1370000.0]], [\"98118\", [109000.0, 155000.0, 221000.0, 226000.0, 289000.0, 367500.0, 476500.0, 665000.0, 680000.0, 1309500.0, 2903000.0]], [\"98119\", [300523.0, 365000.0, 485000.0, 490000.0, 600000.0, 749950.0, 940000.0, 1320000.0, 1330000.0, 2630000.0, 3065000.0]], [\"98122\", [202000.0, 260000.0, 375000.0, 385000.0, 450000.0, 574000.0, 720000.0, 920000.0, 925000.0, 1850000.0, 2050000.0]], [\"98125\", [175000.0, 228000.0, 303697.0, 310000.0, 357250.0, 425000.0, 518000.0, 675000.0, 689000.0, 1335000.0, 2050000.0]], [\"98126\", [110000.0, 183000.0, 250000.0, 255000.0, 320000.0, 396500.0, 485000.0, 643500.0, 661000.0, 901000.0, 1085000.0]], [\"98133\", [130000.0, 210000.0, 275000.0, 277500.0, 318000.0, 375000.0, 435000.0, 507000.0, 518000.0, 729953.0, 808100.0]], [\"98136\", [200000.0, 229050.0, 340000.0, 345000.0, 398000.0, 489950.0, 660000.0, 838000.0, 850000.0, 1662000.0, 2230000.0]], [\"98144\", [181000.0, 230000.0, 325000.0, 327000.0, 374950.0, 450000.0, 666000.0, 970000.0, 1039000.0, 2450000.0, 3600000.0]], [\"98146\", [82000.0, 104950.0, 158800.0, 175000.0, 229500.0, 307000.0, 409000.0, 605000.0, 665900.0, 1250000.0, 1410000.0]], [\"98148\", [105500.0, 105500.0, 193000.0, 193000.0, 240000.0, 278000.0, 319990.0, 375000.0, 375000.0, 600600.0, 600600.0]], [\"98155\", [153000.0, 195000.0, 267800.0, 270000.0, 315000.0, 375000.0, 460000.0, 590000.0, 600000.0, 1680000.0, 4500000.0]], [\"98166\", [100000.0, 129888.0, 220000.0, 229000.0, 292000.0, 390000.0, 540500.0, 755000.0, 770000.0, 1899000.0, 2510000.0]], [\"98168\", [78000.0, 82500.0, 150550.0, 158000.0, 199950.0, 235000.0, 285000.0, 325000.0, 327200.0, 424305.0, 600000.0]], [\"98177\", [245560.0, 276000.0, 355950.0, 367500.0, 427000.0, 554000.0, 749950.0, 1075000.0, 1200000.0, 2880500.0, 3800000.0]], [\"98178\", [90000.0, 119900.0, 180000.0, 188000.0, 223000.0, 279000.0, 350000.0, 450000.0, 460000.0, 869000.0, 1700000.0]], [\"98188\", [110000.0, 110700.0, 179000.0, 179950.0, 230000.0, 265000.0, 335000.0, 400200.0, 408000.0, 706000.0, 707000.0]], [\"98198\", [95000.0, 120000.0, 174500.0, 175000.0, 216500.0, 265000.0, 340000.0, 455000.0, 475000.0, 950000.0, 1350000.0]], [\"98199\", [323000.0, 334000.0, 419000.0, 425000.0, 535000.0, 689800.0, 950000.0, 1289000.0, 1300000.0, 2160000.0, 3200000.0]]], \"omitted\": 0}, \"columns\": [{\"dtype\": \"str\", \"name\": \"id\"}, {\"dtype\": \"datetime\", \"name\": \"date\"}, {\"dtype\": \"int\", \"name\": \"price\"}, {\"dtype\": \"str\", \"name\": \"bedrooms\"}, {\"dtype\": \"str\", \"name\": \"bathrooms\"}, {\"dtype\": \"int\", \"name\": \"sqft_living\"}, {\"dtype\": \"int\", \"name\": \"sqft_lot\"}, {\"dtype\": \"str\", \"name\": \"floors\"}, {\"dtype\": \"int\", \"name\": \"waterfront\"}, {\"dtype\": \"int\", \"name\": \"view\"}, {\"dtype\": \"int\", \"name\": \"condition\"}, {\"dtype\": \"int\", \"name\": \"grade\"}, {\"dtype\": \"int\", \"name\": \"sqft_above\"}, {\"dtype\": \"int\", \"name\": \"sqft_basement\"}, {\"dtype\": \"int\", \"name\": \"yr_built\"}, {\"dtype\": \"int\", \"name\": \"yr_renovated\"}, {\"dtype\": \"str\", \"name\": \"zipcode\"}, {\"dtype\": \"float\", \"name\": \"lat\"}, {\"dtype\": \"float\", \"name\": \"long\"}, {\"dtype\": \"float\", \"name\": \"sqft_living15\"}, {\"dtype\": \"float\", \"name\": \"sqft_lot15\"}]}, e);\n",
       "                });\n",
       "            })();\n",
       "        "
      ]
     },
     "metadata": {},
     "output_type": "display_data"
    }
   ],
   "source": [
    "sales.show(view='BoxWhisker Plot', x='zipcode',y='price')"
   ]
  },
  {
   "cell_type": "markdown",
   "metadata": {},
   "source": [
    "#Build a regression model with more features"
   ]
  },
  {
   "cell_type": "code",
   "execution_count": 28,
   "metadata": {
    "collapsed": false
   },
   "outputs": [
    {
     "name": "stdout",
     "output_type": "stream",
     "text": [
      "PROGRESS: Creating a validation set from 5 percent of training data. This may take a while.\n",
      "          You can set ``validation_set=None`` to disable validation tracking.\n",
      "\n",
      "PROGRESS: Linear regression:\n",
      "PROGRESS: --------------------------------------------------------\n",
      "PROGRESS: Number of examples          : 16481\n",
      "PROGRESS: Number of features          : 5\n",
      "PROGRESS: Number of unpacked features : 5\n",
      "PROGRESS: Number of coefficients    : 114\n",
      "PROGRESS: Starting Newton Method\n",
      "PROGRESS: --------------------------------------------------------\n",
      "PROGRESS: +-----------+----------+--------------+--------------------+----------------------+---------------+-----------------+\n",
      "PROGRESS: | Iteration | Passes   | Elapsed Time | Training-max_error | Validation-max_error | Training-rmse | Validation-rmse |\n",
      "PROGRESS: +-----------+----------+--------------+--------------------+----------------------+---------------+-----------------+\n",
      "PROGRESS: | 1         | 2        | 0.022001     | 3737872.926734     | 1344911.795174       | 183220.881551 | 161212.317025   |\n",
      "PROGRESS: +-----------+----------+--------------+--------------------+----------------------+---------------+-----------------+\n",
      "PROGRESS: SUCCESS: Optimal solution found.\n",
      "PROGRESS:\n"
     ]
    }
   ],
   "source": [
    "my_features_model=graphlab.linear_regression.create(train_data,target='price',features=my_features)"
   ]
  },
  {
   "cell_type": "code",
   "execution_count": 29,
   "metadata": {
    "collapsed": false
   },
   "outputs": [
    {
     "name": "stdout",
     "output_type": "stream",
     "text": [
      "['bedrooms', 'bathrooms', 'sqft_living', 'floors', 'zipcode']\n"
     ]
    }
   ],
   "source": [
    "print my_features"
   ]
  },
  {
   "cell_type": "code",
   "execution_count": 31,
   "metadata": {
    "collapsed": false
   },
   "outputs": [
    {
     "name": "stdout",
     "output_type": "stream",
     "text": [
      "{'max_error': 4150479.3131276085, 'rmse': 255186.8770707015}\n",
      "{'max_error': 3452679.7355582546, 'rmse': 179453.44430169082}\n"
     ]
    }
   ],
   "source": [
    "print sqft_model.evaluate(test_data)\n",
    "print my_features_model.evaluate(test_data)"
   ]
  },
  {
   "cell_type": "markdown",
   "metadata": {},
   "source": [
    "#Apply learn models to prdict prices of 3 houses"
   ]
  },
  {
   "cell_type": "code",
   "execution_count": 32,
   "metadata": {
    "collapsed": true
   },
   "outputs": [],
   "source": [
    "house1=sales[sales['id']=='5309101200']"
   ]
  },
  {
   "cell_type": "code",
   "execution_count": 33,
   "metadata": {
    "collapsed": false
   },
   "outputs": [
    {
     "data": {
      "text/html": [
       "<div style=\"max-height:1000px;max-width:1500px;overflow:auto;\"><table frame=\"box\" rules=\"cols\">\n",
       "    <tr>\n",
       "        <th style=\"padding-left: 1em; padding-right: 1em; text-align: center\">id</th>\n",
       "        <th style=\"padding-left: 1em; padding-right: 1em; text-align: center\">date</th>\n",
       "        <th style=\"padding-left: 1em; padding-right: 1em; text-align: center\">price</th>\n",
       "        <th style=\"padding-left: 1em; padding-right: 1em; text-align: center\">bedrooms</th>\n",
       "        <th style=\"padding-left: 1em; padding-right: 1em; text-align: center\">bathrooms</th>\n",
       "        <th style=\"padding-left: 1em; padding-right: 1em; text-align: center\">sqft_living</th>\n",
       "        <th style=\"padding-left: 1em; padding-right: 1em; text-align: center\">sqft_lot</th>\n",
       "        <th style=\"padding-left: 1em; padding-right: 1em; text-align: center\">floors</th>\n",
       "        <th style=\"padding-left: 1em; padding-right: 1em; text-align: center\">waterfront</th>\n",
       "    </tr>\n",
       "    <tr>\n",
       "        <td style=\"padding-left: 1em; padding-right: 1em; text-align: center; vertical-align: top\">5309101200</td>\n",
       "        <td style=\"padding-left: 1em; padding-right: 1em; text-align: center; vertical-align: top\">2014-06-05 00:00:00+00:00</td>\n",
       "        <td style=\"padding-left: 1em; padding-right: 1em; text-align: center; vertical-align: top\">620000</td>\n",
       "        <td style=\"padding-left: 1em; padding-right: 1em; text-align: center; vertical-align: top\">4</td>\n",
       "        <td style=\"padding-left: 1em; padding-right: 1em; text-align: center; vertical-align: top\">2.25</td>\n",
       "        <td style=\"padding-left: 1em; padding-right: 1em; text-align: center; vertical-align: top\">2400</td>\n",
       "        <td style=\"padding-left: 1em; padding-right: 1em; text-align: center; vertical-align: top\">5350</td>\n",
       "        <td style=\"padding-left: 1em; padding-right: 1em; text-align: center; vertical-align: top\">1.5</td>\n",
       "        <td style=\"padding-left: 1em; padding-right: 1em; text-align: center; vertical-align: top\">0</td>\n",
       "    </tr>\n",
       "</table>\n",
       "<table frame=\"box\" rules=\"cols\">\n",
       "    <tr>\n",
       "        <th style=\"padding-left: 1em; padding-right: 1em; text-align: center\">view</th>\n",
       "        <th style=\"padding-left: 1em; padding-right: 1em; text-align: center\">condition</th>\n",
       "        <th style=\"padding-left: 1em; padding-right: 1em; text-align: center\">grade</th>\n",
       "        <th style=\"padding-left: 1em; padding-right: 1em; text-align: center\">sqft_above</th>\n",
       "        <th style=\"padding-left: 1em; padding-right: 1em; text-align: center\">sqft_basement</th>\n",
       "        <th style=\"padding-left: 1em; padding-right: 1em; text-align: center\">yr_built</th>\n",
       "        <th style=\"padding-left: 1em; padding-right: 1em; text-align: center\">yr_renovated</th>\n",
       "        <th style=\"padding-left: 1em; padding-right: 1em; text-align: center\">zipcode</th>\n",
       "        <th style=\"padding-left: 1em; padding-right: 1em; text-align: center\">lat</th>\n",
       "    </tr>\n",
       "    <tr>\n",
       "        <td style=\"padding-left: 1em; padding-right: 1em; text-align: center; vertical-align: top\">0</td>\n",
       "        <td style=\"padding-left: 1em; padding-right: 1em; text-align: center; vertical-align: top\">4</td>\n",
       "        <td style=\"padding-left: 1em; padding-right: 1em; text-align: center; vertical-align: top\">7</td>\n",
       "        <td style=\"padding-left: 1em; padding-right: 1em; text-align: center; vertical-align: top\">1460</td>\n",
       "        <td style=\"padding-left: 1em; padding-right: 1em; text-align: center; vertical-align: top\">940</td>\n",
       "        <td style=\"padding-left: 1em; padding-right: 1em; text-align: center; vertical-align: top\">1929</td>\n",
       "        <td style=\"padding-left: 1em; padding-right: 1em; text-align: center; vertical-align: top\">0</td>\n",
       "        <td style=\"padding-left: 1em; padding-right: 1em; text-align: center; vertical-align: top\">98117</td>\n",
       "        <td style=\"padding-left: 1em; padding-right: 1em; text-align: center; vertical-align: top\">47.67632376</td>\n",
       "    </tr>\n",
       "</table>\n",
       "<table frame=\"box\" rules=\"cols\">\n",
       "    <tr>\n",
       "        <th style=\"padding-left: 1em; padding-right: 1em; text-align: center\">long</th>\n",
       "        <th style=\"padding-left: 1em; padding-right: 1em; text-align: center\">sqft_living15</th>\n",
       "        <th style=\"padding-left: 1em; padding-right: 1em; text-align: center\">sqft_lot15</th>\n",
       "    </tr>\n",
       "    <tr>\n",
       "        <td style=\"padding-left: 1em; padding-right: 1em; text-align: center; vertical-align: top\">-122.37010126</td>\n",
       "        <td style=\"padding-left: 1em; padding-right: 1em; text-align: center; vertical-align: top\">1250.0</td>\n",
       "        <td style=\"padding-left: 1em; padding-right: 1em; text-align: center; vertical-align: top\">4880.0</td>\n",
       "    </tr>\n",
       "</table>\n",
       "[? rows x 21 columns]<br/>Note: Only the head of the SFrame is printed. This SFrame is lazily evaluated.<br/>You can use len(sf) to force materialization.\n",
       "</div>"
      ],
      "text/plain": [
       "Columns:\n",
       "\tid\tstr\n",
       "\tdate\tdatetime\n",
       "\tprice\tint\n",
       "\tbedrooms\tstr\n",
       "\tbathrooms\tstr\n",
       "\tsqft_living\tint\n",
       "\tsqft_lot\tint\n",
       "\tfloors\tstr\n",
       "\twaterfront\tint\n",
       "\tview\tint\n",
       "\tcondition\tint\n",
       "\tgrade\tint\n",
       "\tsqft_above\tint\n",
       "\tsqft_basement\tint\n",
       "\tyr_built\tint\n",
       "\tyr_renovated\tint\n",
       "\tzipcode\tstr\n",
       "\tlat\tfloat\n",
       "\tlong\tfloat\n",
       "\tsqft_living15\tfloat\n",
       "\tsqft_lot15\tfloat\n",
       "\n",
       "Rows: Unknown\n",
       "\n",
       "Data:\n",
       "+------------+---------------------------+--------+----------+-----------+-------------+\n",
       "|     id     |            date           | price  | bedrooms | bathrooms | sqft_living |\n",
       "+------------+---------------------------+--------+----------+-----------+-------------+\n",
       "| 5309101200 | 2014-06-05 00:00:00+00:00 | 620000 |    4     |    2.25   |     2400    |\n",
       "+------------+---------------------------+--------+----------+-----------+-------------+\n",
       "+----------+--------+------------+------+-----------+-------+------------+---------------+\n",
       "| sqft_lot | floors | waterfront | view | condition | grade | sqft_above | sqft_basement |\n",
       "+----------+--------+------------+------+-----------+-------+------------+---------------+\n",
       "|   5350   |  1.5   |     0      |  0   |     4     |   7   |    1460    |      940      |\n",
       "+----------+--------+------------+------+-----------+-------+------------+---------------+\n",
       "+----------+--------------+---------+-------------+---------------+---------------+-----+\n",
       "| yr_built | yr_renovated | zipcode |     lat     |      long     | sqft_living15 | ... |\n",
       "+----------+--------------+---------+-------------+---------------+---------------+-----+\n",
       "|   1929   |      0       |  98117  | 47.67632376 | -122.37010126 |     1250.0    | ... |\n",
       "+----------+--------------+---------+-------------+---------------+---------------+-----+\n",
       "[? rows x 21 columns]\n",
       "Note: Only the head of the SFrame is printed. This SFrame is lazily evaluated.\n",
       "You can use len(sf) to force materialization."
      ]
     },
     "execution_count": 33,
     "metadata": {},
     "output_type": "execute_result"
    }
   ],
   "source": [
    "house1"
   ]
  },
  {
   "cell_type": "markdown",
   "metadata": {},
   "source": [
    "<img src=\"peacocks-2d.jpg\">"
   ]
  },
  {
   "cell_type": "code",
   "execution_count": 34,
   "metadata": {
    "collapsed": true
   },
   "outputs": [],
   "source": [
    "house1 = sales[sales['id']=='5309101200']"
   ]
  },
  {
   "cell_type": "code",
   "execution_count": 35,
   "metadata": {
    "collapsed": false,
    "scrolled": true
   },
   "outputs": [
    {
     "data": {
      "text/html": [
       "<div style=\"max-height:1000px;max-width:1500px;overflow:auto;\"><table frame=\"box\" rules=\"cols\">\n",
       "    <tr>\n",
       "        <th style=\"padding-left: 1em; padding-right: 1em; text-align: center\">id</th>\n",
       "        <th style=\"padding-left: 1em; padding-right: 1em; text-align: center\">date</th>\n",
       "        <th style=\"padding-left: 1em; padding-right: 1em; text-align: center\">price</th>\n",
       "        <th style=\"padding-left: 1em; padding-right: 1em; text-align: center\">bedrooms</th>\n",
       "        <th style=\"padding-left: 1em; padding-right: 1em; text-align: center\">bathrooms</th>\n",
       "        <th style=\"padding-left: 1em; padding-right: 1em; text-align: center\">sqft_living</th>\n",
       "        <th style=\"padding-left: 1em; padding-right: 1em; text-align: center\">sqft_lot</th>\n",
       "        <th style=\"padding-left: 1em; padding-right: 1em; text-align: center\">floors</th>\n",
       "        <th style=\"padding-left: 1em; padding-right: 1em; text-align: center\">waterfront</th>\n",
       "    </tr>\n",
       "    <tr>\n",
       "        <td style=\"padding-left: 1em; padding-right: 1em; text-align: center; vertical-align: top\">5309101200</td>\n",
       "        <td style=\"padding-left: 1em; padding-right: 1em; text-align: center; vertical-align: top\">2014-06-05 00:00:00+00:00</td>\n",
       "        <td style=\"padding-left: 1em; padding-right: 1em; text-align: center; vertical-align: top\">620000</td>\n",
       "        <td style=\"padding-left: 1em; padding-right: 1em; text-align: center; vertical-align: top\">4</td>\n",
       "        <td style=\"padding-left: 1em; padding-right: 1em; text-align: center; vertical-align: top\">2.25</td>\n",
       "        <td style=\"padding-left: 1em; padding-right: 1em; text-align: center; vertical-align: top\">2400</td>\n",
       "        <td style=\"padding-left: 1em; padding-right: 1em; text-align: center; vertical-align: top\">5350</td>\n",
       "        <td style=\"padding-left: 1em; padding-right: 1em; text-align: center; vertical-align: top\">1.5</td>\n",
       "        <td style=\"padding-left: 1em; padding-right: 1em; text-align: center; vertical-align: top\">0</td>\n",
       "    </tr>\n",
       "</table>\n",
       "<table frame=\"box\" rules=\"cols\">\n",
       "    <tr>\n",
       "        <th style=\"padding-left: 1em; padding-right: 1em; text-align: center\">view</th>\n",
       "        <th style=\"padding-left: 1em; padding-right: 1em; text-align: center\">condition</th>\n",
       "        <th style=\"padding-left: 1em; padding-right: 1em; text-align: center\">grade</th>\n",
       "        <th style=\"padding-left: 1em; padding-right: 1em; text-align: center\">sqft_above</th>\n",
       "        <th style=\"padding-left: 1em; padding-right: 1em; text-align: center\">sqft_basement</th>\n",
       "        <th style=\"padding-left: 1em; padding-right: 1em; text-align: center\">yr_built</th>\n",
       "        <th style=\"padding-left: 1em; padding-right: 1em; text-align: center\">yr_renovated</th>\n",
       "        <th style=\"padding-left: 1em; padding-right: 1em; text-align: center\">zipcode</th>\n",
       "        <th style=\"padding-left: 1em; padding-right: 1em; text-align: center\">lat</th>\n",
       "    </tr>\n",
       "    <tr>\n",
       "        <td style=\"padding-left: 1em; padding-right: 1em; text-align: center; vertical-align: top\">0</td>\n",
       "        <td style=\"padding-left: 1em; padding-right: 1em; text-align: center; vertical-align: top\">4</td>\n",
       "        <td style=\"padding-left: 1em; padding-right: 1em; text-align: center; vertical-align: top\">7</td>\n",
       "        <td style=\"padding-left: 1em; padding-right: 1em; text-align: center; vertical-align: top\">1460</td>\n",
       "        <td style=\"padding-left: 1em; padding-right: 1em; text-align: center; vertical-align: top\">940</td>\n",
       "        <td style=\"padding-left: 1em; padding-right: 1em; text-align: center; vertical-align: top\">1929</td>\n",
       "        <td style=\"padding-left: 1em; padding-right: 1em; text-align: center; vertical-align: top\">0</td>\n",
       "        <td style=\"padding-left: 1em; padding-right: 1em; text-align: center; vertical-align: top\">98117</td>\n",
       "        <td style=\"padding-left: 1em; padding-right: 1em; text-align: center; vertical-align: top\">47.67632376</td>\n",
       "    </tr>\n",
       "</table>\n",
       "<table frame=\"box\" rules=\"cols\">\n",
       "    <tr>\n",
       "        <th style=\"padding-left: 1em; padding-right: 1em; text-align: center\">long</th>\n",
       "        <th style=\"padding-left: 1em; padding-right: 1em; text-align: center\">sqft_living15</th>\n",
       "        <th style=\"padding-left: 1em; padding-right: 1em; text-align: center\">sqft_lot15</th>\n",
       "    </tr>\n",
       "    <tr>\n",
       "        <td style=\"padding-left: 1em; padding-right: 1em; text-align: center; vertical-align: top\">-122.37010126</td>\n",
       "        <td style=\"padding-left: 1em; padding-right: 1em; text-align: center; vertical-align: top\">1250.0</td>\n",
       "        <td style=\"padding-left: 1em; padding-right: 1em; text-align: center; vertical-align: top\">4880.0</td>\n",
       "    </tr>\n",
       "</table>\n",
       "[? rows x 21 columns]<br/>Note: Only the head of the SFrame is printed. This SFrame is lazily evaluated.<br/>You can use len(sf) to force materialization.\n",
       "</div>"
      ],
      "text/plain": [
       "Columns:\n",
       "\tid\tstr\n",
       "\tdate\tdatetime\n",
       "\tprice\tint\n",
       "\tbedrooms\tstr\n",
       "\tbathrooms\tstr\n",
       "\tsqft_living\tint\n",
       "\tsqft_lot\tint\n",
       "\tfloors\tstr\n",
       "\twaterfront\tint\n",
       "\tview\tint\n",
       "\tcondition\tint\n",
       "\tgrade\tint\n",
       "\tsqft_above\tint\n",
       "\tsqft_basement\tint\n",
       "\tyr_built\tint\n",
       "\tyr_renovated\tint\n",
       "\tzipcode\tstr\n",
       "\tlat\tfloat\n",
       "\tlong\tfloat\n",
       "\tsqft_living15\tfloat\n",
       "\tsqft_lot15\tfloat\n",
       "\n",
       "Rows: Unknown\n",
       "\n",
       "Data:\n",
       "+------------+---------------------------+--------+----------+-----------+-------------+\n",
       "|     id     |            date           | price  | bedrooms | bathrooms | sqft_living |\n",
       "+------------+---------------------------+--------+----------+-----------+-------------+\n",
       "| 5309101200 | 2014-06-05 00:00:00+00:00 | 620000 |    4     |    2.25   |     2400    |\n",
       "+------------+---------------------------+--------+----------+-----------+-------------+\n",
       "+----------+--------+------------+------+-----------+-------+------------+---------------+\n",
       "| sqft_lot | floors | waterfront | view | condition | grade | sqft_above | sqft_basement |\n",
       "+----------+--------+------------+------+-----------+-------+------------+---------------+\n",
       "|   5350   |  1.5   |     0      |  0   |     4     |   7   |    1460    |      940      |\n",
       "+----------+--------+------------+------+-----------+-------+------------+---------------+\n",
       "+----------+--------------+---------+-------------+---------------+---------------+-----+\n",
       "| yr_built | yr_renovated | zipcode |     lat     |      long     | sqft_living15 | ... |\n",
       "+----------+--------------+---------+-------------+---------------+---------------+-----+\n",
       "|   1929   |      0       |  98117  | 47.67632376 | -122.37010126 |     1250.0    | ... |\n",
       "+----------+--------------+---------+-------------+---------------+---------------+-----+\n",
       "[? rows x 21 columns]\n",
       "Note: Only the head of the SFrame is printed. This SFrame is lazily evaluated.\n",
       "You can use len(sf) to force materialization."
      ]
     },
     "execution_count": 35,
     "metadata": {},
     "output_type": "execute_result"
    }
   ],
   "source": [
    "house1"
   ]
  },
  {
   "cell_type": "code",
   "execution_count": 37,
   "metadata": {
    "collapsed": false
   },
   "outputs": [
    {
     "name": "stdout",
     "output_type": "stream",
     "text": [
      "[620000L, ... ]\n"
     ]
    }
   ],
   "source": [
    "print house1['price']"
   ]
  },
  {
   "cell_type": "code",
   "execution_count": 39,
   "metadata": {
    "collapsed": false
   },
   "outputs": [
    {
     "name": "stdout",
     "output_type": "stream",
     "text": [
      "[628572.4584802845]\n"
     ]
    }
   ],
   "source": [
    "print sqft_model.predict(house1)"
   ]
  },
  {
   "cell_type": "markdown",
   "metadata": {},
   "source": []
  },
  {
   "cell_type": "code",
   "execution_count": 40,
   "metadata": {
    "collapsed": false
   },
   "outputs": [
    {
     "name": "stdout",
     "output_type": "stream",
     "text": [
      "[726423.1493348402]\n"
     ]
    }
   ],
   "source": [
    "print my_features_model.predict(house1)"
   ]
  },
  {
   "cell_type": "markdown",
   "metadata": {},
   "source": [
    "#prdiction for a second ,fancier house"
   ]
  },
  {
   "cell_type": "code",
   "execution_count": 45,
   "metadata": {
    "collapsed": false
   },
   "outputs": [],
   "source": [
    "house2=sales[sales['id']=='1925069082']"
   ]
  },
  {
   "cell_type": "code",
   "execution_count": 46,
   "metadata": {
    "collapsed": false
   },
   "outputs": [
    {
     "data": {
      "text/html": [
       "<div style=\"max-height:1000px;max-width:1500px;overflow:auto;\"><table frame=\"box\" rules=\"cols\">\n",
       "    <tr>\n",
       "        <th style=\"padding-left: 1em; padding-right: 1em; text-align: center\">id</th>\n",
       "        <th style=\"padding-left: 1em; padding-right: 1em; text-align: center\">date</th>\n",
       "        <th style=\"padding-left: 1em; padding-right: 1em; text-align: center\">price</th>\n",
       "        <th style=\"padding-left: 1em; padding-right: 1em; text-align: center\">bedrooms</th>\n",
       "        <th style=\"padding-left: 1em; padding-right: 1em; text-align: center\">bathrooms</th>\n",
       "        <th style=\"padding-left: 1em; padding-right: 1em; text-align: center\">sqft_living</th>\n",
       "        <th style=\"padding-left: 1em; padding-right: 1em; text-align: center\">sqft_lot</th>\n",
       "        <th style=\"padding-left: 1em; padding-right: 1em; text-align: center\">floors</th>\n",
       "        <th style=\"padding-left: 1em; padding-right: 1em; text-align: center\">waterfront</th>\n",
       "    </tr>\n",
       "    <tr>\n",
       "        <td style=\"padding-left: 1em; padding-right: 1em; text-align: center; vertical-align: top\">1925069082</td>\n",
       "        <td style=\"padding-left: 1em; padding-right: 1em; text-align: center; vertical-align: top\">2015-05-11 00:00:00+00:00</td>\n",
       "        <td style=\"padding-left: 1em; padding-right: 1em; text-align: center; vertical-align: top\">2200000</td>\n",
       "        <td style=\"padding-left: 1em; padding-right: 1em; text-align: center; vertical-align: top\">5</td>\n",
       "        <td style=\"padding-left: 1em; padding-right: 1em; text-align: center; vertical-align: top\">4.25</td>\n",
       "        <td style=\"padding-left: 1em; padding-right: 1em; text-align: center; vertical-align: top\">4640</td>\n",
       "        <td style=\"padding-left: 1em; padding-right: 1em; text-align: center; vertical-align: top\">22703</td>\n",
       "        <td style=\"padding-left: 1em; padding-right: 1em; text-align: center; vertical-align: top\">2</td>\n",
       "        <td style=\"padding-left: 1em; padding-right: 1em; text-align: center; vertical-align: top\">1</td>\n",
       "    </tr>\n",
       "</table>\n",
       "<table frame=\"box\" rules=\"cols\">\n",
       "    <tr>\n",
       "        <th style=\"padding-left: 1em; padding-right: 1em; text-align: center\">view</th>\n",
       "        <th style=\"padding-left: 1em; padding-right: 1em; text-align: center\">condition</th>\n",
       "        <th style=\"padding-left: 1em; padding-right: 1em; text-align: center\">grade</th>\n",
       "        <th style=\"padding-left: 1em; padding-right: 1em; text-align: center\">sqft_above</th>\n",
       "        <th style=\"padding-left: 1em; padding-right: 1em; text-align: center\">sqft_basement</th>\n",
       "        <th style=\"padding-left: 1em; padding-right: 1em; text-align: center\">yr_built</th>\n",
       "        <th style=\"padding-left: 1em; padding-right: 1em; text-align: center\">yr_renovated</th>\n",
       "        <th style=\"padding-left: 1em; padding-right: 1em; text-align: center\">zipcode</th>\n",
       "        <th style=\"padding-left: 1em; padding-right: 1em; text-align: center\">lat</th>\n",
       "    </tr>\n",
       "    <tr>\n",
       "        <td style=\"padding-left: 1em; padding-right: 1em; text-align: center; vertical-align: top\">4</td>\n",
       "        <td style=\"padding-left: 1em; padding-right: 1em; text-align: center; vertical-align: top\">5</td>\n",
       "        <td style=\"padding-left: 1em; padding-right: 1em; text-align: center; vertical-align: top\">8</td>\n",
       "        <td style=\"padding-left: 1em; padding-right: 1em; text-align: center; vertical-align: top\">2860</td>\n",
       "        <td style=\"padding-left: 1em; padding-right: 1em; text-align: center; vertical-align: top\">1780</td>\n",
       "        <td style=\"padding-left: 1em; padding-right: 1em; text-align: center; vertical-align: top\">1952</td>\n",
       "        <td style=\"padding-left: 1em; padding-right: 1em; text-align: center; vertical-align: top\">0</td>\n",
       "        <td style=\"padding-left: 1em; padding-right: 1em; text-align: center; vertical-align: top\">98052</td>\n",
       "        <td style=\"padding-left: 1em; padding-right: 1em; text-align: center; vertical-align: top\">47.63925783</td>\n",
       "    </tr>\n",
       "</table>\n",
       "<table frame=\"box\" rules=\"cols\">\n",
       "    <tr>\n",
       "        <th style=\"padding-left: 1em; padding-right: 1em; text-align: center\">long</th>\n",
       "        <th style=\"padding-left: 1em; padding-right: 1em; text-align: center\">sqft_living15</th>\n",
       "        <th style=\"padding-left: 1em; padding-right: 1em; text-align: center\">sqft_lot15</th>\n",
       "    </tr>\n",
       "    <tr>\n",
       "        <td style=\"padding-left: 1em; padding-right: 1em; text-align: center; vertical-align: top\">-122.09722322</td>\n",
       "        <td style=\"padding-left: 1em; padding-right: 1em; text-align: center; vertical-align: top\">3140.0</td>\n",
       "        <td style=\"padding-left: 1em; padding-right: 1em; text-align: center; vertical-align: top\">14200.0</td>\n",
       "    </tr>\n",
       "</table>\n",
       "[? rows x 21 columns]<br/>Note: Only the head of the SFrame is printed. This SFrame is lazily evaluated.<br/>You can use len(sf) to force materialization.\n",
       "</div>"
      ],
      "text/plain": [
       "Columns:\n",
       "\tid\tstr\n",
       "\tdate\tdatetime\n",
       "\tprice\tint\n",
       "\tbedrooms\tstr\n",
       "\tbathrooms\tstr\n",
       "\tsqft_living\tint\n",
       "\tsqft_lot\tint\n",
       "\tfloors\tstr\n",
       "\twaterfront\tint\n",
       "\tview\tint\n",
       "\tcondition\tint\n",
       "\tgrade\tint\n",
       "\tsqft_above\tint\n",
       "\tsqft_basement\tint\n",
       "\tyr_built\tint\n",
       "\tyr_renovated\tint\n",
       "\tzipcode\tstr\n",
       "\tlat\tfloat\n",
       "\tlong\tfloat\n",
       "\tsqft_living15\tfloat\n",
       "\tsqft_lot15\tfloat\n",
       "\n",
       "Rows: Unknown\n",
       "\n",
       "Data:\n",
       "+------------+---------------------------+---------+----------+-----------+-------------+\n",
       "|     id     |            date           |  price  | bedrooms | bathrooms | sqft_living |\n",
       "+------------+---------------------------+---------+----------+-----------+-------------+\n",
       "| 1925069082 | 2015-05-11 00:00:00+00:00 | 2200000 |    5     |    4.25   |     4640    |\n",
       "+------------+---------------------------+---------+----------+-----------+-------------+\n",
       "+----------+--------+------------+------+-----------+-------+------------+---------------+\n",
       "| sqft_lot | floors | waterfront | view | condition | grade | sqft_above | sqft_basement |\n",
       "+----------+--------+------------+------+-----------+-------+------------+---------------+\n",
       "|  22703   |   2    |     1      |  4   |     5     |   8   |    2860    |      1780     |\n",
       "+----------+--------+------------+------+-----------+-------+------------+---------------+\n",
       "+----------+--------------+---------+-------------+---------------+---------------+-----+\n",
       "| yr_built | yr_renovated | zipcode |     lat     |      long     | sqft_living15 | ... |\n",
       "+----------+--------------+---------+-------------+---------------+---------------+-----+\n",
       "|   1952   |      0       |  98052  | 47.63925783 | -122.09722322 |     3140.0    | ... |\n",
       "+----------+--------------+---------+-------------+---------------+---------------+-----+\n",
       "[? rows x 21 columns]\n",
       "Note: Only the head of the SFrame is printed. This SFrame is lazily evaluated.\n",
       "You can use len(sf) to force materialization."
      ]
     },
     "execution_count": 46,
     "metadata": {},
     "output_type": "execute_result"
    }
   ],
   "source": [
    "house2"
   ]
  },
  {
   "cell_type": "code",
   "execution_count": 47,
   "metadata": {
    "collapsed": false
   },
   "outputs": [
    {
     "name": "stdout",
     "output_type": "stream",
     "text": [
      "[1258388.7510835314]\n"
     ]
    }
   ],
   "source": [
    "print sqft_model.predict(house2)"
   ]
  },
  {
   "cell_type": "code",
   "execution_count": 48,
   "metadata": {
    "collapsed": false
   },
   "outputs": [
    {
     "name": "stdout",
     "output_type": "stream",
     "text": [
      "[1452333.7964448046]\n"
     ]
    }
   ],
   "source": [
    "print my_features_model.predict(house2)"
   ]
  },
  {
   "cell_type": "code",
   "execution_count": 49,
   "metadata": {
    "collapsed": true
   },
   "outputs": [],
   "source": [
    "##Last house"
   ]
  },
  {
   "cell_type": "code",
   "execution_count": 50,
   "metadata": {
    "collapsed": true
   },
   "outputs": [],
   "source": [
    "bill_gates = {'bedrooms':[8], \n",
    "              'bathrooms':[25], \n",
    "              'sqft_living':[50000], \n",
    "              'sqft_lot':[225000],\n",
    "              'floors':[4], \n",
    "              'zipcode':['98039'], \n",
    "              'condition':[10], \n",
    "              'grade':[10],\n",
    "              'waterfront':[1],\n",
    "              'view':[4],\n",
    "              'sqft_above':[37500],\n",
    "              'sqft_basement':[12500],\n",
    "              'yr_built':[1994],\n",
    "              'yr_renovated':[2010],\n",
    "              'lat':[47.627606],\n",
    "              'long':[-122.242054],\n",
    "              'sqft_living15':[5000],\n",
    "              'sqft_lot15':[40000]}"
   ]
  },
  {
   "cell_type": "code",
   "execution_count": 51,
   "metadata": {
    "collapsed": false
   },
   "outputs": [
    {
     "name": "stdout",
     "output_type": "stream",
     "text": [
      "[13951143.507944115]\n"
     ]
    }
   ],
   "source": [
    "print my_features_model.predict(graphlab.SFrame(bill_gates))"
   ]
  },
  {
   "cell_type": "code",
   "execution_count": null,
   "metadata": {
    "collapsed": true
   },
   "outputs": [],
   "source": []
  }
 ],
 "metadata": {
  "kernelspec": {
   "display_name": "Python 2",
   "language": "python",
   "name": "python2"
  },
  "language_info": {
   "codemirror_mode": {
    "name": "ipython",
    "version": 2
   },
   "file_extension": ".py",
   "mimetype": "text/x-python",
   "name": "python",
   "nbconvert_exporter": "python",
   "pygments_lexer": "ipython2",
   "version": "2.7.10"
  }
 },
 "nbformat": 4,
 "nbformat_minor": 0
}
